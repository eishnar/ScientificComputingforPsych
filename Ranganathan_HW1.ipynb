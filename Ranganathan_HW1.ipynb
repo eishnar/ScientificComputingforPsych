{
 "cells": [
  {
   "cell_type": "code",
   "execution_count": 2,
   "metadata": {},
   "outputs": [
    {
     "name": "stdout",
     "output_type": "stream",
     "text": [
      "there are 31536000 seconds in a non-leap year.\n"
     ]
    }
   ],
   "source": [
    "\"\"\"\n",
    "Problem 1: Calculate the number of seconds in a year\n",
    "Write code to compute and output the number of seconds in a non-leap year by assigning the\n",
    "relevant values to variables and then using those variables to do the calculation.\n",
    "\"\"\"\n",
    "\n",
    "secs_in_hr = 3600\n",
    "hr_in_day = 24\n",
    "days_in_year = 365\n",
    "\n",
    "secs_in_year = secs_in_hr*hr_in_day*days_in_year\n",
    "print(\"there are\", secs_in_year,\"seconds in a non-leap year.\")"
   ]
  },
  {
   "cell_type": "code",
   "execution_count": 3,
   "metadata": {},
   "outputs": [
    {
     "name": "stdin",
     "output_type": "stream",
     "text": [
      "Enter number x:  19\n",
      "Enter number y:  2\n"
     ]
    },
    {
     "name": "stdout",
     "output_type": "stream",
     "text": [
      "x to the y power: 361\n"
     ]
    }
   ],
   "source": [
    "\"\"\"\n",
    "Problem 2: Write a simple program that accepts input and prints output\n",
    "Write a program that executes the following commands (in order):\n",
    "- Asks the user to enter a number x\n",
    "- Asks the user to enter a number y\n",
    "- Prints out the number x raised to the power y\n",
    "\"\"\"\n",
    "\n",
    "x = int(input(\"Enter number x: \"))\n",
    "y = int(input(\"Enter number y: \"))\n",
    "calc = x**y\n",
    "print(\"x to the y power:\", calc)"
   ]
  },
  {
   "cell_type": "code",
   "execution_count": null,
   "metadata": {},
   "outputs": [],
   "source": []
  }
 ],
 "metadata": {
  "kernelspec": {
   "display_name": "Python 3",
   "language": "python",
   "name": "python3"
  },
  "language_info": {
   "codemirror_mode": {
    "name": "ipython",
    "version": 3
   },
   "file_extension": ".py",
   "mimetype": "text/x-python",
   "name": "python",
   "nbconvert_exporter": "python",
   "pygments_lexer": "ipython3",
   "version": "3.6.8"
  }
 },
 "nbformat": 4,
 "nbformat_minor": 4
}
