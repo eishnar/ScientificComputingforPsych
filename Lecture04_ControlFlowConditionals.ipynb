{
 "cells": [
  {
   "cell_type": "code",
   "execution_count": null,
   "metadata": {},
   "outputs": [],
   "source": [
    "# Another example of using loops to create numeric lists: creating a new list\n",
    "# that contains the cubes of the numbers in the original list.\n",
    "numeric_list = list(range(1,10))\n",
    "cubes = []\n",
    "for value in numeric_list:\n",
    "    current_cube = value**3\n",
    "    cubes.append(current_cube)\n",
    "print(cubes)"
   ]
  },
  {
   "cell_type": "code",
   "execution_count": null,
   "metadata": {},
   "outputs": [],
   "source": [
    "# Including the optional [step] input to the range() function will take one number every [step]\n",
    "# In this case, I redefine numeric_list to be a list of every other number starting\n",
    "# at 1 and ending at 10.\n",
    "numeric_list = list(range(1,10,2))\n",
    "print(numeric_list)"
   ]
  },
  {
   "cell_type": "code",
   "execution_count": null,
   "metadata": {
    "scrolled": true
   },
   "outputs": [],
   "source": [
    "# If I wanted to, I could then set cubes to empty, then create a new list of cubes.\n",
    "cubes = []\n",
    "for value in numeric_list:\n",
    "    current_cube = value**3\n",
    "    cubes.append(current_cube)\n",
    "print(cubes)"
   ]
  },
  {
   "cell_type": "code",
   "execution_count": null,
   "metadata": {},
   "outputs": [],
   "source": [
    "# Including print() statements within the body of the loop is a good way\n",
    "# to track how variables are changing each time through the loop.\n",
    "# This can be especially helpful when you are debugging your code and trying to\n",
    "# figure out if your code is doing what you expect.\n",
    "\n",
    "# Here we use print() to see how the value assigned to current_cube changes each\n",
    "# time through the loop.\n",
    "numeric_list = list(range(1,10))\n",
    "cubes = []\n",
    "for value in numeric_list:\n",
    "    current_cube = value**3\n",
    "    print(current_cube)\n",
    "    cubes.append(current_cube)"
   ]
  },
  {
   "cell_type": "code",
   "execution_count": null,
   "metadata": {},
   "outputs": [],
   "source": [
    "# We could do something similar to see how the whole list (cubes) is changing\n",
    "# each time through the loop.\n",
    "cubes = []\n",
    "for value in numeric_list:\n",
    "    current_cube = value**3\n",
    "    cubes.append(current_cube)\n",
    "    print(cubes)"
   ]
  },
  {
   "cell_type": "code",
   "execution_count": null,
   "metadata": {},
   "outputs": [],
   "source": [
    "# You could use a loop to compute the sum of the elements in a list.\n",
    "\n",
    "# First, you might initialize a variable list_sum to be 0 (i.e. before\n",
    "# you've added any numbers, the sum of the list is 0)\n",
    "list_sum = 0\n",
    "\n",
    "# Then, you could loop through each number in the list and add it in turn\n",
    "# to list_sum.\n",
    "for value in numeric_list:\n",
    "    list_sum = list_sum + value\n",
    "print(list_sum)"
   ]
  },
  {
   "cell_type": "code",
   "execution_count": null,
   "metadata": {},
   "outputs": [],
   "source": [
    "# You can use a built-in Python assignment operator (+=) as a shorthand for \n",
    "# situations in which you replace the value of one variable with its\n",
    "# current value + another number.\n",
    "#\n",
    "# In general:   A = A + B --> A += B\n",
    "\n",
    "list_sum = 0\n",
    "for value in numeric_list:\n",
    "    list_sum += value\n",
    "print(list_sum)"
   ]
  },
  {
   "cell_type": "code",
   "execution_count": 3,
   "metadata": {},
   "outputs": [
    {
     "name": "stdout",
     "output_type": "stream",
     "text": [
      "This is trial 0\n",
      "This is trial 1\n",
      "This is trial 2\n",
      "This is trial 3\n",
      "This is trial 4\n",
      "This is trial 5\n"
     ]
    }
   ],
   "source": [
    "# Loops are useful within the context of programming\n",
    "# a repetitive task like an experiment, where you want \n",
    "# to execute the same actions to present many trials to a participant\n",
    "\n",
    "ntrials = 6\n",
    "for itrial in range(ntrials):\n",
    "    print('This is trial %d' %itrial)\n"
   ]
  },
  {
   "cell_type": "code",
   "execution_count": 5,
   "metadata": {},
   "outputs": [
    {
     "name": "stdout",
     "output_type": "stream",
     "text": [
      "This is trial 0.0\n",
      "This is trial 1.0\n",
      "This is trial 2.0\n",
      "This is trial 3.0\n",
      "This is trial 4.0\n",
      "This is trial 5.0\n"
     ]
    }
   ],
   "source": [
    "ntrials = 6\n",
    "for itrial in range(ntrials):\n",
    "    print('This is trial %1.1f' %itrial)\n"
   ]
  },
  {
   "cell_type": "code",
   "execution_count": 6,
   "metadata": {},
   "outputs": [
    {
     "name": "stdout",
     "output_type": "stream",
     "text": [
      "This is trial 0\n",
      "This is trial 1\n",
      "This is trial 2\n",
      "This is trial 3\n",
      "This is trial 4\n",
      "This is trial 5\n"
     ]
    }
   ],
   "source": [
    "ntrials = 6\n",
    "for itrial in range(ntrials):\n",
    "    print('This is trial %s' %str(itrial))"
   ]
  },
  {
   "cell_type": "markdown",
   "metadata": {},
   "source": [
    "## Working with if statements and logical operators"
   ]
  },
  {
   "cell_type": "code",
   "execution_count": 8,
   "metadata": {},
   "outputs": [
    {
     "name": "stdout",
     "output_type": "stream",
     "text": [
      "2\n"
     ]
    }
   ],
   "source": [
    "x = 12\n",
    "if x > 10:\n",
    "    x = x-10\n",
    "    \n",
    "print(x)"
   ]
  },
  {
   "cell_type": "code",
   "execution_count": 9,
   "metadata": {},
   "outputs": [
    {
     "name": "stdout",
     "output_type": "stream",
     "text": [
      "12\n"
     ]
    }
   ],
   "source": [
    "x = 12\n",
    "my_test = x > 12\n",
    "\n",
    "if my_test:\n",
    "    x = x-10\n",
    "    \n",
    "print(x)"
   ]
  },
  {
   "cell_type": "code",
   "execution_count": 10,
   "metadata": {},
   "outputs": [
    {
     "name": "stdout",
     "output_type": "stream",
     "text": [
      "2\n"
     ]
    }
   ],
   "source": [
    "x = 12\n",
    "if x > 10:\n",
    "    x = x-10\n",
    "else:\n",
    "    x = 1\n",
    "\n",
    "print(x)"
   ]
  },
  {
   "cell_type": "code",
   "execution_count": 11,
   "metadata": {},
   "outputs": [
    {
     "name": "stdout",
     "output_type": "stream",
     "text": [
      "2\n"
     ]
    }
   ],
   "source": [
    "x = 12\n",
    "if x > 10:\n",
    "    x = x-10\n",
    "elif x < 5:\n",
    "    x = 0\n",
    "else:\n",
    "    x = 1\n",
    "print(x)"
   ]
  },
  {
   "cell_type": "code",
   "execution_count": 12,
   "metadata": {},
   "outputs": [
    {
     "name": "stdout",
     "output_type": "stream",
     "text": [
      "1\n"
     ]
    }
   ],
   "source": [
    "x = 7\n",
    "if x > 10:\n",
    "    x = x-10\n",
    "elif x < 5:\n",
    "    x = 0\n",
    "else:\n",
    "    x = 1\n",
    "print(x)"
   ]
  },
  {
   "cell_type": "code",
   "execution_count": 14,
   "metadata": {},
   "outputs": [
    {
     "name": "stdout",
     "output_type": "stream",
     "text": [
      "12\n"
     ]
    }
   ],
   "source": [
    "x = 22\n",
    "if x > 10:\n",
    "    x = x - 10\n",
    "elif x == 12:\n",
    "    x = 0\n",
    "else:\n",
    "    x = 1\n",
    "print(x)"
   ]
  },
  {
   "cell_type": "code",
   "execution_count": null,
   "metadata": {
    "collapsed": true
   },
   "outputs": [],
   "source": [
    "# You can use the Python built-in open function to read data from a text file\n",
    "f = open('subjects.txt','r')\n",
    "subjects = f.readlines()\n",
    "f.close()\n",
    "print(subjects)"
   ]
  },
  {
   "cell_type": "code",
   "execution_count": null,
   "metadata": {
    "collapsed": true
   },
   "outputs": [],
   "source": [
    "# As you can see above, reading in the list of subjects from a text file also\n",
    "# included the newline (\\n) characters. You could use a loop to remove those\n",
    "# characters and put the output in a new list subjects_clean.\n",
    "subjects_clean = []\n",
    "for isubj in subjects:\n",
    "    currsubj = isubj.replace('\\n','')\n",
    "    subjects_clean.append(currsubj)\n",
    "\n",
    "print(subjects_clean)"
   ]
  }
 ],
 "metadata": {
  "kernelspec": {
   "display_name": "Python 3",
   "language": "python",
   "name": "python3"
  },
  "language_info": {
   "codemirror_mode": {
    "name": "ipython",
    "version": 3
   },
   "file_extension": ".py",
   "mimetype": "text/x-python",
   "name": "python",
   "nbconvert_exporter": "python",
   "pygments_lexer": "ipython3",
   "version": "3.7.3"
  }
 },
 "nbformat": 4,
 "nbformat_minor": 2
}
