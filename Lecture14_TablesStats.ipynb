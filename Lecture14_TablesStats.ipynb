{
 "cells": [
  {
   "cell_type": "code",
   "execution_count": null,
   "metadata": {},
   "outputs": [],
   "source": [
    "# Import Pandas, for working with tabular data \n",
    "import pandas as pd\n"
   ]
  },
  {
   "cell_type": "code",
   "execution_count": null,
   "metadata": {},
   "outputs": [],
   "source": [
    "# Import a data file as a pandas DataFrame object\n",
    "data = pd.read_csv('data_S03_INTEGRATE_fMRI1_Retrieval.txt',sep='\\t')\n"
   ]
  },
  {
   "cell_type": "code",
   "execution_count": null,
   "metadata": {},
   "outputs": [],
   "source": [
    "# The .head() method shows the header for the table (first few rows)\n",
    "data.head()\n"
   ]
  },
  {
   "cell_type": "code",
   "execution_count": null,
   "metadata": {},
   "outputs": [],
   "source": [
    "data.RT[0:10]"
   ]
  },
  {
   "cell_type": "code",
   "execution_count": null,
   "metadata": {},
   "outputs": [],
   "source": [
    "# Import some other packages\n",
    "import numpy as np\n",
    "import scipy.stats as st\n",
    "import matplotlib.pyplot as plt\n"
   ]
  },
  {
   "cell_type": "code",
   "execution_count": null,
   "metadata": {},
   "outputs": [],
   "source": [
    "# Let's make a histogram to do a quick visual inspection of the data\n",
    "plt.hist(data.RT)\n",
    "plt.show()"
   ]
  },
  {
   "cell_type": "code",
   "execution_count": null,
   "metadata": {},
   "outputs": [],
   "source": [
    "# Zscoring\n",
    "mu = np.mean(data.RT)\n",
    "sd = np.std(data.RT)\n",
    "#print(mu)\n",
    "#print(sd)\n",
    "\n",
    "# Calculate the zscore of each value in the RT distribution\n",
    "(data.RT[0:10]-mu)/sd"
   ]
  },
  {
   "cell_type": "code",
   "execution_count": null,
   "metadata": {},
   "outputs": [],
   "source": [
    "# Can also use other built-in functions\n",
    "zscores = st.zscore(data.RT)\n",
    "print(zscores)"
   ]
  },
  {
   "cell_type": "code",
   "execution_count": null,
   "metadata": {
    "scrolled": true
   },
   "outputs": [],
   "source": [
    "# Identifying correct trials.\n",
    "data"
   ]
  },
  {
   "cell_type": "code",
   "execution_count": null,
   "metadata": {},
   "outputs": [],
   "source": [
    "# Priming analysis\n",
    "# Boundary vs NonBoundary: data.BoundaryType == 'B'\n",
    "# Consecutive items only: data.PairType=='P23'\n",
    "# data.PrimeType=='P2' - data.PrimeType=='P1'\n",
    "# data.Accuracy==1\n",
    "# zscore < nSDs (5)\n",
    "\n",
    "priming_b = []\n",
    "priming_nb = []\n",
    "priming_baseline = []\n",
    "nSDs = 5\n",
    "\n",
    "for ctr,iRT in enumerate(data.RT):\n",
    "    \n",
    "    # if it's the first trial, pass\n",
    "    if ctr==0:\n",
    "        pass\n",
    "    else:\n",
    "        # Check that the current trial satisfies our criteria\n",
    "        #  First check is PrimeType=='P2'\n",
    "        validcurrent = data.PairType[ctr]=='P23' and data.PrimeType[ctr]=='P2' and \\\n",
    "            data.Accuracy[ctr]==1 and zscores[ctr] < nSDs\n",
    "        validprev = data.PairType[ctr-1]=='P23' and data.PrimeType[ctr-1]=='P1' and \\\n",
    "            data.Accuracy[ctr-1]==1 and zscores[ctr-1] < nSDs\n",
    "        \n",
    "        if validcurrent & validprev:\n",
    "            if data.BoundaryType[ctr]=='B' and data.BoundaryType[ctr-1]=='B':\n",
    "                priming_b = np.append(priming_b,data.RT[ctr]-data.RT[ctr-1])\n",
    "            elif data.BoundaryType[ctr]=='NB' and data.BoundaryType[ctr-1]=='NB':\n",
    "                priming_nb = np.append(priming_nb,data.RT[ctr]-data.RT[ctr-1])\n",
    "        else:\n",
    "            validbaseline = data.ItemOldNew[ctr]=='old' and \\\n",
    "                data.ItemOldNew[ctr-1]=='old' and \\\n",
    "                data.Accuracy[ctr]==1 and data.Accuracy[ctr-1]==1 and \\\n",
    "                zscores[ctr] < nSDs and zscores[ctr-1] < nSDs\n",
    "            if validbaseline:\n",
    "                priming_baseline = np.append(priming_baseline,data.RT[ctr]-data.RT[ctr-1])\n",
    "            "
   ]
  },
  {
   "cell_type": "code",
   "execution_count": null,
   "metadata": {},
   "outputs": [],
   "source": [
    "print(priming_b.shape)\n",
    "print(priming_b)\n",
    "print(priming_nb.shape)\n",
    "print(priming_nb)\n",
    "print(priming_baseline.shape)\n",
    "print(priming_baseline)"
   ]
  },
  {
   "cell_type": "code",
   "execution_count": null,
   "metadata": {},
   "outputs": [],
   "source": [
    "print(np.nanmean(priming_b))\n",
    "print(np.nanmean(priming_nb))\n",
    "print(np.nanmean(priming_baseline))"
   ]
  }
 ],
 "metadata": {
  "kernelspec": {
   "display_name": "Python 3",
   "language": "python",
   "name": "python3"
  },
  "language_info": {
   "codemirror_mode": {
    "name": "ipython",
    "version": 3
   },
   "file_extension": ".py",
   "mimetype": "text/x-python",
   "name": "python",
   "nbconvert_exporter": "python",
   "pygments_lexer": "ipython3",
   "version": "3.7.3"
  }
 },
 "nbformat": 4,
 "nbformat_minor": 2
}
