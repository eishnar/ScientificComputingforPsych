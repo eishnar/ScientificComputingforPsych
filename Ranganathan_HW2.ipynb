{
 "cells": [
  {
   "cell_type": "code",
   "execution_count": 1,
   "metadata": {},
   "outputs": [
    {
     "data": {
      "text/plain": [
       "'\\nProblem 3: Merging two lists (25 pts)\\nCopy the files \\nhw2_exp1subj.txt \\nand \\nhw2_exp2subj.txt \\nfrom Youssef’s home directory on jupyter.swarthmore.edu:\\n\\u200b/mnt/saturn/jupyterhub_data/yezzyat1/PSYC027/\\u200b to your own PSYC027/ folder in your home directory.\\n\\nEach of these files contains a list of participant codes for several participants that completed two different \\nexperiments. There is partial overlap between the lists for the two experiments--some participants completed both\\nexperiments.\\n\\nWrite code to read in each text file and create a new list that combines the \\u200bunique\\u200b entries from each list, \\nwith no repeats.\\n\\n'"
      ]
     },
     "execution_count": 1,
     "metadata": {},
     "output_type": "execute_result"
    }
   ],
   "source": [
    "\"\"\"\n",
    "Problem 3: Merging two lists (25 pts)\n",
    "Copy the files \n",
    "hw2_exp1subj.txt \n",
    "and \n",
    "hw2_exp2subj.txt \n",
    "from Youssef’s home directory on jupyter.swarthmore.edu:\n",
    "​/mnt/saturn/jupyterhub_data/yezzyat1/PSYC027/​ to your own PSYC027/ folder in your home directory.\n",
    "\n",
    "Each of these files contains a list of participant codes for several participants that completed two different \n",
    "experiments. There is partial overlap between the lists for the two experiments--some participants completed both\n",
    "experiments.\n",
    "\n",
    "Write code to read in each text file and create a new list that combines the ​unique​ entries from each list, \n",
    "with no repeats.\n",
    "\n",
    "\"\"\""
   ]
  },
  {
   "cell_type": "code",
   "execution_count": 2,
   "metadata": {},
   "outputs": [],
   "source": [
    "#I ran this in terminal to get the files over\n",
    "#cp /mnt/saturn/jupyterhub_data/yezzyat1/PSYC027/hw2_exp1subj.txt . \n",
    "#cp /mnt/saturn/jupyterhub_data/yezzyat1/PSYC027/hw2_exp2subj.txt . "
   ]
  },
  {
   "cell_type": "code",
   "execution_count": 4,
   "metadata": {},
   "outputs": [
    {
     "data": {
      "text/plain": [
       "'/Users/eishnar/Documents/Psych27/Psych27_HW'"
      ]
     },
     "execution_count": 4,
     "metadata": {},
     "output_type": "execute_result"
    }
   ],
   "source": [
    "pwd"
   ]
  },
  {
   "cell_type": "code",
   "execution_count": 6,
   "metadata": {},
   "outputs": [],
   "source": [
    "#my wd is '/mnt/saturn/jupyterhub_data/erangan1'\n",
    "#cd Psych_027_HW/ I had to change working directories to open the file\n",
    "\n",
    "f1 = open(\"hw2_exp1subj.txt\", \"r\")\n",
    "f2 = open(\"hw2_exp2subj.txt\", \"r\")\n",
    "\n",
    "subjects = f1.readlines() + f2.readlines() #does in fact combine both of them\n",
    "\n",
    "allsubjects = []\n",
    "for subject in subjects:\n",
    "    new_subject = subject\n",
    "    if new_subject not in allsubjects:\n",
    "        allsubjects.append(new_subject)\n",
    "    "
   ]
  },
  {
   "cell_type": "code",
   "execution_count": 7,
   "metadata": {},
   "outputs": [
    {
     "data": {
      "text/plain": [
       "303"
      ]
     },
     "execution_count": 7,
     "metadata": {},
     "output_type": "execute_result"
    }
   ],
   "source": [
    "allsubjects\n",
    "len(allsubjects)"
   ]
  },
  {
   "cell_type": "code",
   "execution_count": 8,
   "metadata": {},
   "outputs": [
    {
     "data": {
      "text/plain": [
       "445"
      ]
     },
     "execution_count": 8,
     "metadata": {},
     "output_type": "execute_result"
    }
   ],
   "source": [
    "len(subjects) #good, they shouldn't match"
   ]
  },
  {
   "cell_type": "code",
   "execution_count": 9,
   "metadata": {},
   "outputs": [],
   "source": [
    "subjects1 = f1.readlines() + f2.readlines()\n",
    "#subjects1"
   ]
  },
  {
   "cell_type": "code",
   "execution_count": 10,
   "metadata": {},
   "outputs": [],
   "source": [
    "f1.close()\n",
    "f2.close()"
   ]
  },
  {
   "cell_type": "code",
   "execution_count": 1,
   "metadata": {},
   "outputs": [
    {
     "data": {
      "text/plain": [
       "'\\nProblem 4: \\nIn this homework problem you’ll write code that uses a searching approach to determine the \\napproximate square root of any nonnegative number \\u200bx\\u200b. The idea is to iterate over a set of values \\nand determine whether a particular value is the square root of the input.\\n\\nThe reason that the problem statement is to find the \\u200bapproximate\\u200b square root is that it is not \\npossible for a computer to represent the exact square root of all nonnegative numbers. For example \\nthe square root of 2 is irrational, meaning it can’t be represented by a finite set of digits, also \\nknown as a \\u200bfloat\\u200b. So, on each iteration, you’ll start with a \\u200bguess\\u200b and check to see \\nwhether \\u200bguess**2\\u200b is close enough to \\u200bx\\u200b.\\n\\nWe’ll define a value \\u200bepsilon\\u200b which we’ll use to determine when we’ve gotten ‘close enough’ \\nfor our approximation. We’ll also define the search space to be between 0 and \\u200bx\\u200b. So, our starting \\npoint for \\u200bguess\\u200b will be equal to 0.\\n\\nIn a comment in your code, explain why it makes sense to define the search space in this way. \\nWhy not search values less than 0 or greater than \\u200bx\\u200b? Are there any numbers \\u200bx \\u200bfor which this search\\nrange will fail to find an approximate square root (i.e. where sqrt(x) is outside the range of 0 to x)?\\n\\n'"
      ]
     },
     "execution_count": 1,
     "metadata": {},
     "output_type": "execute_result"
    }
   ],
   "source": [
    "\"\"\"\n",
    "Problem 4: \n",
    "In this homework problem you’ll write code that uses a searching approach to determine the \n",
    "approximate square root of any nonnegative number ​x​. The idea is to iterate over a set of values \n",
    "and determine whether a particular value is the square root of the input.\n",
    "\n",
    "The reason that the problem statement is to find the ​approximate​ square root is that it is not \n",
    "possible for a computer to represent the exact square root of all nonnegative numbers. For example \n",
    "the square root of 2 is irrational, meaning it can’t be represented by a finite set of digits, also \n",
    "known as a ​float​. So, on each iteration, you’ll start with a ​guess​ and check to see \n",
    "whether ​guess**2​ is close enough to ​x​.\n",
    "\n",
    "We’ll define a value ​epsilon​ which we’ll use to determine when we’ve gotten ‘close enough’ \n",
    "for our approximation. We’ll also define the search space to be between 0 and ​x​. So, our starting \n",
    "point for ​guess​ will be equal to 0.\n",
    "\n",
    "In a comment in your code, explain why it makes sense to define the search space in this way. \n",
    "Why not search values less than 0 or greater than ​x​? Are there any numbers ​x ​for which this search\n",
    "range will fail to find an approximate square root (i.e. where sqrt(x) is outside the range of 0 to x)?\n",
    "\n",
    "\"\"\""
   ]
  },
  {
   "cell_type": "code",
   "execution_count": 72,
   "metadata": {},
   "outputs": [
    {
     "name": "stdin",
     "output_type": "stream",
     "text": [
      "enter number:  1\n"
     ]
    },
    {
     "name": "stdout",
     "output_type": "stream",
     "text": [
      "1.0\n"
     ]
    }
   ],
   "source": [
    "user_num = float(input(\"enter number: \"))\n",
    "print(user_num)\n",
    "\n",
    "while user_num < 1:\n",
    "    print(\"please choose a value greater than or equal to 1\")\n",
    "    user_num = float(input(\"enter your number here: \"))\n"
   ]
  },
  {
   "cell_type": "code",
   "execution_count": 73,
   "metadata": {},
   "outputs": [
    {
     "name": "stdout",
     "output_type": "stream",
     "text": [
      "Guess is 0.995000\n",
      "Guess is close to square root of 1\n",
      "It took us 995 guesses to get us here\n"
     ]
    }
   ],
   "source": [
    "#user_num = 90 #this was a test if we didn't want to use user input\n",
    "guess = 0 \n",
    "buffer = 0.01\n",
    "nguess = 0 \n",
    "\n",
    "while buffer < (user_num - guess**2): #should be 10 on the first trial\n",
    "    guess += .001\n",
    "    nguess += 1\n",
    "    #check = guess**2 - user_num\n",
    "    #print(guess)\n",
    "\n",
    "if buffer >= (user_num - guess**2):\n",
    "    print(\"Guess is %f\" %guess)\n",
    "    print(\"Guess is close to square root of %d\" %(user_num))\n",
    "    print(\"It took us %d guesses to get us here\" %nguess)"
   ]
  },
  {
   "cell_type": "code",
   "execution_count": null,
   "metadata": {},
   "outputs": [],
   "source": [
    "\"\"\"\n",
    "Problem 5: A smarter way to find the square root of a number (50 pts)\n",
    "\n",
    "In the previous problem you wrote code to search from ​0​ to ​x​ in increments of\n",
    "size ​step​, which is called an ​exhaustive search​. While this isn’t a bad approach, \n",
    "it doesn’t take advantage of a key property of numbers, which is that they are ​ordered​.\n",
    "\"\"\""
   ]
  },
  {
   "cell_type": "code",
   "execution_count": 74,
   "metadata": {},
   "outputs": [
    {
     "name": "stdin",
     "output_type": "stream",
     "text": [
      "enter number:  1\n"
     ]
    },
    {
     "name": "stdout",
     "output_type": "stream",
     "text": [
      "1.0\n",
      "Guess is 1.013643\n",
      "Guess is close to square root of 1\n",
      "It took us 18 guesses to get us here\n"
     ]
    }
   ],
   "source": [
    "user_num = float(input(\"enter number: \"))\n",
    "print(user_num)\n",
    "\n",
    "while user_num < 1:\n",
    "    print(\"please choose a value greater than or equal to 1\")\n",
    "    user_num = float(input(\"enter your number here: \"))\n",
    "    \n",
    "guess = user_num/2 \n",
    "check = abs(guess**2 - user_num)\n",
    "nguess = 0 \n",
    "#print(check)\n",
    "#buffer = 0.05\n",
    "\n",
    "while (check > 0.05):\n",
    "    if check > user_num:\n",
    "        nguess += 1\n",
    "        guess = guess/2\n",
    "        check = abs(guess**2 - user_num)\n",
    "    elif check < user_num:\n",
    "        nguess += 1\n",
    "        guess = guess + guess/2\n",
    "        check = abs(guess**2 - user_num)\n",
    "    \n",
    "if -0.05 <= check <= 0.05:\n",
    "    print(\"Guess is %f\" %guess)\n",
    "    print(\"Guess is close to square root of %d\" %(user_num))\n",
    "    print(\"It took us %d guesses to get us here\" %nguess)"
   ]
  },
  {
   "cell_type": "code",
   "execution_count": null,
   "metadata": {},
   "outputs": [],
   "source": [
    "#Ignore this code\n",
    "\"\"\"\n",
    "check = user_num - guess**2 #would be 10 on first trial\n",
    "print(check)\n",
    "while check > buffer:\n",
    "    print(\"try again\")\n",
    "    guess = int(input(\"enter your number here: \"))\n",
    "    #check = guess**2 - user_num\n",
    "    \n",
    "check = user_num - guess**2 \n",
    "while buffer < check: #should be 10 on the first trial\n",
    "    guess += .001\n",
    "    check = guess**2 - user_num\n",
    "    #print(guess)\n",
    "\n",
    "if buffer >= check:\n",
    "    print(\"Guess is %f\" %guess)\n",
    "    print(\"Guess is close to square root of %d\" %(user_num))\n",
    "\"\"\"\n",
    "\n",
    "\"\"\"\n",
    "while check < buffer:\n",
    "    guess = guess + (guess/2) \n",
    "    print(guess)\n",
    "\"\"\"\n",
    "\n"
   ]
  }
 ],
 "metadata": {
  "kernelspec": {
   "display_name": "Python 3",
   "language": "python",
   "name": "python3"
  },
  "language_info": {
   "codemirror_mode": {
    "name": "ipython",
    "version": 3
   },
   "file_extension": ".py",
   "mimetype": "text/x-python",
   "name": "python",
   "nbconvert_exporter": "python",
   "pygments_lexer": "ipython3",
   "version": "3.7.3"
  }
 },
 "nbformat": 4,
 "nbformat_minor": 4
}
