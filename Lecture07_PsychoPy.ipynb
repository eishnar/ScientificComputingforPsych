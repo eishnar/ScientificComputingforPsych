{
 "cells": [
  {
   "cell_type": "markdown",
   "metadata": {},
   "source": [
    "## Basic psychopy usage\n",
    "In this exmple we'll play around with PsychoPy to get started programming a recognition memory experiment."
   ]
  },
  {
   "cell_type": "code",
   "execution_count": null,
   "metadata": {},
   "outputs": [],
   "source": [
    "# To bring psychopy's tools into our workspace we need to import them.\n",
    "from psychopy import visual, core\n"
   ]
  },
  {
   "cell_type": "code",
   "execution_count": null,
   "metadata": {},
   "outputs": [],
   "source": [
    "# Stimuli are presented within a window, which must be defined as an area of your monitor\n",
    "win = visual.Window([400,400])\n",
    "\n",
    "# Create a stimulus. We're calling the variable 'stim'.\n",
    "# The actual stimulus is the string 'hello'\n",
    "# We're presenting it in a window called win (defined above)\n",
    "# We're using the psychopy visual.TextStim() tool to create this text stimulus\n",
    "stim = visual.TextStim(win, text='hello')\n",
    "stim.autoDraw = True  # Automatically draw every frame\n",
    "\n",
    "# We issue flip command to present the stimulus to the window\n",
    "win.flip()\n",
    "\n",
    "# Functions such as core.wait() can be used to control timing.\n",
    "# Here, we wait 2.0 seconds until the next command, which \n",
    "# effectively leaves 'hello' on the screen for 2 seconds\n",
    "core.wait(2.0)\n",
    "\n",
    "# We can change the stimulus object to something else\n",
    "# (e.g. a different string), but nothing will change \n",
    "# on the screen unless we execute win.flip()\n",
    "stim.text = 'world'  # Change properties of existing stim\n",
    "\n",
    "win.flip()\n",
    "core.wait(2.0)\n",
    "\n",
    "# When you are finished, use win.close() to clear and\n",
    "# remove the screen you've created.\n",
    "win.close()"
   ]
  },
  {
   "cell_type": "code",
   "execution_count": null,
   "metadata": {},
   "outputs": [],
   "source": [
    "# Let's move the window to the side of my monitor\n",
    "# so it isn't hidden behind my jupyter window.\n",
    "# Do this with the 'pos' input, which indicates\n",
    "# the [x,y] position of the top-left corner of your window.\n",
    "# [0,0] refers to the top left corner of your monitor.\n",
    "win = visual.Window([400,400],pos=[0,0])\n",
    "\n",
    "stim = visual.TextStim(win,text='Hello World')\n",
    "stim.autoDraw = True\n",
    "win.flip()\n",
    "core.wait(2.0)\n",
    "win.close()\n",
    "\n"
   ]
  },
  {
   "cell_type": "code",
   "execution_count": null,
   "metadata": {},
   "outputs": [],
   "source": [
    "# Move the window 200 pixels in the y-direction.\n",
    "win = visual.Window([400,400],\n",
    "                    pos=[0,200])\n",
    "\n",
    "stim = visual.TextStim(win,text='Hello World, Lower')\n",
    "stim.autoDraw = True\n",
    "win.flip()\n",
    "core.wait(2.0)\n",
    "win.close()\n",
    "\n"
   ]
  },
  {
   "cell_type": "code",
   "execution_count": null,
   "metadata": {},
   "outputs": [],
   "source": [
    "# We can also change attributes of the stimulus\n",
    "win = visual.Window([400,400],pos=[0,0])\n",
    "stim = visual.TextStim(win,text='Left')\n",
    "\n",
    "# Set the stimulus position in 'normalized' units relative\n",
    "# to the size of the window you've created.\n",
    "# Center of the window = [0,0].\n",
    "# Bottom/Left = [-1,-1]\n",
    "# Top/Right = [1,1]\n",
    "stim.pos = [-.5,0]\n",
    "stim.autoDraw = True\n",
    "\n",
    "# Let's add more than one stimulus\n",
    "stim = visual.TextStim(win,text='Right')\n",
    "stim.pos = [.5,0]\n",
    "stim.autoDraw = True\n",
    "\n",
    "win.flip()\n",
    "core.wait(2.0)\n",
    "win.close()\n",
    "\n"
   ]
  },
  {
   "cell_type": "code",
   "execution_count": null,
   "metadata": {},
   "outputs": [],
   "source": [
    "# Now we'll create a window with two stimuli\n",
    "# One small square at the center of the screen\n",
    "# for the participant to fixate on\n",
    "\n",
    "# Another visual grating stimulus off to the\n",
    "# periphery\n",
    "win = visual.Window([600,600],pos=[0,0])\n",
    "grating = visual.GratingStim(win,mask=\"circle\",\n",
    "                             size=.25,\n",
    "                             pos=[.75,0],\n",
    "                             sf=3)\n",
    "fixation = visual.GratingStim(win,\n",
    "                              size=0.05,\n",
    "                              pos=[0,0],sf=0,\n",
    "                              rgb=-1)\n",
    "\n",
    "# Draw the stimuli and flip the window\n",
    "grating.draw()\n",
    "fixation.draw()\n",
    "win.flip()\n",
    "\n",
    "#Pause to see the stimulus\n",
    "core.wait(5.0)\n",
    "\n",
    "win.close()"
   ]
  },
  {
   "cell_type": "code",
   "execution_count": null,
   "metadata": {},
   "outputs": [],
   "source": [
    "# Now we'll create a window with two stimuli\n",
    "# One small square at the center of the screen\n",
    "# for the participant to fixate on\n",
    "\n",
    "# Another visual grating stimulus off to the\n",
    "# periphery\n",
    "win = visual.Window([600,600],pos=[0,0])\n",
    "grating = visual.GratingStim(win,mask=\"circle\",\n",
    "                             size=.25,\n",
    "                             pos=[.75,0],\n",
    "                             sf=3)\n",
    "fixation = visual.GratingStim(win,\n",
    "                              size=0.05,\n",
    "                              pos=[0,0],sf=0,\n",
    "                              color=[1,-1,-1])\n",
    "\n",
    "# Draw the stimuli and flip the window\n",
    "grating.draw()\n",
    "fixation.draw()\n",
    "win.flip()\n",
    "\n",
    "#Pause to see the stimulus\n",
    "core.wait(5.0)\n",
    "\n",
    "win.close()"
   ]
  },
  {
   "cell_type": "code",
   "execution_count": null,
   "metadata": {},
   "outputs": [],
   "source": [
    "# Let's use a loop to continuously update the\n",
    "# phase of the grating stimulus\n",
    "win = visual.Window([600,600],pos=[0,0])\n",
    "grating = visual.GratingStim(win,mask=\"circle\",\n",
    "                             size=.25,\n",
    "                             pos=[.75,0],\n",
    "                             sf=3)\n",
    "fixation = visual.GratingStim(win,\n",
    "                              size=0.05,\n",
    "                              pos=[0,0],sf=0,\n",
    "                              color=[1,-1,-1])\n",
    "\n",
    "# Draw the stimuli and flip the window\n",
    "for frameN in range(200):\n",
    "    xphase = grating.phase[0]+0.3\n",
    "    yphase = 0\n",
    "    grating.phase = [xphase,yphase]\n",
    "    grating.draw()\n",
    "    fixation.draw()\n",
    "    win.flip()\n",
    "    core.wait(.2)\n",
    "\n",
    "win.close()\n"
   ]
  },
  {
   "cell_type": "code",
   "execution_count": null,
   "metadata": {},
   "outputs": [],
   "source": [
    "# Loop through a series and present stimulus\n",
    "win = visual.Window([600,600],pos=[0,0])\n",
    "\n",
    "for ival in range(5):\n",
    "    stim = visual.TextStim(win,text=ival)\n",
    "    stim.draw() # vs .autoDraw=True\n",
    "    #stim.autoDraw=True\n",
    "    win.flip()\n",
    "    core.wait(1)\n",
    "\n",
    "win.close()"
   ]
  },
  {
   "cell_type": "code",
   "execution_count": null,
   "metadata": {},
   "outputs": [],
   "source": [
    "# How about waiting for input from the user before continuing?\n",
    "from psychopy import event\n",
    "\n",
    "# Loop through a series and present stimulus\n",
    "win = visual.Window([600,600],pos=[0,0])\n",
    "\n",
    "for ival in range(5):\n",
    "    stim = visual.TextStim(win,text=ival)\n",
    "    stim.draw() # vs .autoDraw=True\n",
    "    win.flip()\n",
    "    pressedkey = event.waitKeys()\n",
    "    #core.wait(1)\n",
    "\n",
    "win.close()"
   ]
  },
  {
   "cell_type": "code",
   "execution_count": null,
   "metadata": {},
   "outputs": [],
   "source": [
    "pressedkey"
   ]
  },
  {
   "cell_type": "code",
   "execution_count": null,
   "metadata": {},
   "outputs": [],
   "source": []
  }
 ],
 "metadata": {
  "kernelspec": {
   "display_name": "psypy3",
   "language": "python",
   "name": "psypy3"
  },
  "language_info": {
   "codemirror_mode": {
    "name": "ipython",
    "version": 3
   },
   "file_extension": ".py",
   "mimetype": "text/x-python",
   "name": "python",
   "nbconvert_exporter": "python",
   "pygments_lexer": "ipython3",
   "version": "3.5.6"
  }
 },
 "nbformat": 4,
 "nbformat_minor": 2
}
