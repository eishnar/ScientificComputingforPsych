{
 "cells": [
  {
   "cell_type": "code",
   "execution_count": 1,
   "metadata": {},
   "outputs": [],
   "source": [
    "import numpy as np\n",
    "import pandas as pd\n",
    "\n",
    "import matplotlib as mp\n",
    "import matplotlib.pyplot as plt"
   ]
  },
  {
   "cell_type": "markdown",
   "metadata": {},
   "source": [
    "## Problem 1"
   ]
  },
  {
   "cell_type": "code",
   "execution_count": 5,
   "metadata": {},
   "outputs": [],
   "source": [
    "data = np.load(\"eegdata.npy\")"
   ]
  },
  {
   "cell_type": "code",
   "execution_count": 6,
   "metadata": {},
   "outputs": [
    {
     "data": {
      "text/plain": [
       "(600, 4400)"
      ]
     },
     "execution_count": 6,
     "metadata": {},
     "output_type": "execute_result"
    }
   ],
   "source": [
    "data.shape"
   ]
  },
  {
   "cell_type": "code",
   "execution_count": 7,
   "metadata": {},
   "outputs": [],
   "source": [
    "f = open(\"events.txt\", \"r\")\n",
    "full_data = f.readlines()"
   ]
  },
  {
   "cell_type": "code",
   "execution_count": 8,
   "metadata": {},
   "outputs": [],
   "source": [
    "#full_data"
   ]
  },
  {
   "cell_type": "code",
   "execution_count": 9,
   "metadata": {},
   "outputs": [],
   "source": [
    "events = pd.read_csv(\"events.txt\", sep=\",\", header = 0, skipinitialspace=True)"
   ]
  },
  {
   "cell_type": "code",
   "execution_count": 10,
   "metadata": {},
   "outputs": [
    {
     "data": {
      "text/plain": [
       "<bound method NDFrame.head of      session  list  serialpos  recalled\n",
       "0          0     1          1         1\n",
       "1          0     1          2         0\n",
       "2          0     1          3         1\n",
       "3          0     1          4         0\n",
       "4          0     1          5         0\n",
       "5          0     1          6         0\n",
       "6          0     1          7         0\n",
       "7          0     1          8         0\n",
       "8          0     1          9         1\n",
       "9          0     1         10         1\n",
       "10         0     1         11         1\n",
       "11         0     1         12         0\n",
       "12         0     2          1         0\n",
       "13         0     2          2         0\n",
       "14         0     2          3         0\n",
       "15         0     2          4         0\n",
       "16         0     2          5         0\n",
       "17         0     2          6         0\n",
       "18         0     2          7         0\n",
       "19         0     2          8         0\n",
       "20         0     2          9         0\n",
       "21         0     2         10         0\n",
       "22         0     2         11         1\n",
       "23         0     2         12         0\n",
       "24         0     3          1         1\n",
       "25         0     3          2         1\n",
       "26         0     3          3         1\n",
       "27         0     3          4         0\n",
       "28         0     3          5         1\n",
       "29         0     3          6         0\n",
       "..       ...   ...        ...       ...\n",
       "570        1    23          7         1\n",
       "571        1    23          8         0\n",
       "572        1    23          9         0\n",
       "573        1    23         10         1\n",
       "574        1    23         11         0\n",
       "575        1    23         12         0\n",
       "576        1    24          1         1\n",
       "577        1    24          2         1\n",
       "578        1    24          3         1\n",
       "579        1    24          4         1\n",
       "580        1    24          5         0\n",
       "581        1    24          6         0\n",
       "582        1    24          7         0\n",
       "583        1    24          8         0\n",
       "584        1    24          9         0\n",
       "585        1    24         10         0\n",
       "586        1    24         11         0\n",
       "587        1    24         12         0\n",
       "588        1    25          1         1\n",
       "589        1    25          2         1\n",
       "590        1    25          3         1\n",
       "591        1    25          4         1\n",
       "592        1    25          5         0\n",
       "593        1    25          6         1\n",
       "594        1    25          7         1\n",
       "595        1    25          8         0\n",
       "596        1    25          9         0\n",
       "597        1    25         10         0\n",
       "598        1    25         11         0\n",
       "599        1    25         12         0\n",
       "\n",
       "[600 rows x 4 columns]>"
      ]
     },
     "execution_count": 10,
     "metadata": {},
     "output_type": "execute_result"
    }
   ],
   "source": [
    "events.head"
   ]
  },
  {
   "cell_type": "code",
   "execution_count": 84,
   "metadata": {},
   "outputs": [],
   "source": [
    "#events.recalled"
   ]
  },
  {
   "cell_type": "code",
   "execution_count": 11,
   "metadata": {},
   "outputs": [],
   "source": [
    "data_copy = np.copy(data)"
   ]
  },
  {
   "cell_type": "code",
   "execution_count": 12,
   "metadata": {},
   "outputs": [
    {
     "data": {
      "text/plain": [
       "array([[-115.90131982,  -90.64392263,  -94.0602373 , ...,  173.53724919,\n",
       "         200.07956341,  164.47276084],\n",
       "       [-488.4647284 , -521.40544435, -512.25093839, ..., -484.50990701,\n",
       "        -487.3372339 , -411.64467752],\n",
       "       [-667.57530556, -577.66167547, -454.15470929, ...,  242.74032611,\n",
       "         234.15083211,  223.89495639],\n",
       "       ...,\n",
       "       [          nan,           nan,           nan, ...,           nan,\n",
       "                  nan,           nan],\n",
       "       [          nan,           nan,           nan, ...,           nan,\n",
       "                  nan,           nan],\n",
       "       [          nan,           nan,           nan, ...,           nan,\n",
       "                  nan,           nan]])"
      ]
     },
     "execution_count": 12,
     "metadata": {},
     "output_type": "execute_result"
    }
   ],
   "source": [
    "data_copy"
   ]
  },
  {
   "cell_type": "code",
   "execution_count": 13,
   "metadata": {},
   "outputs": [],
   "source": [
    "#data_copy = np.delete(data_copy,[1,1000], 1)"
   ]
  },
  {
   "cell_type": "code",
   "execution_count": 14,
   "metadata": {},
   "outputs": [],
   "source": [
    "#data_copy.shape"
   ]
  },
  {
   "cell_type": "code",
   "execution_count": 15,
   "metadata": {},
   "outputs": [],
   "source": [
    "data_copy = data_copy[:,1000:3400]"
   ]
  },
  {
   "cell_type": "code",
   "execution_count": 16,
   "metadata": {},
   "outputs": [
    {
     "data": {
      "text/plain": [
       "(600, 2400)"
      ]
     },
     "execution_count": 16,
     "metadata": {},
     "output_type": "execute_result"
    }
   ],
   "source": [
    "data_copy.shape"
   ]
  },
  {
   "cell_type": "markdown",
   "metadata": {},
   "source": [
    "## Problem 2"
   ]
  },
  {
   "cell_type": "code",
   "execution_count": 17,
   "metadata": {},
   "outputs": [
    {
     "data": {
      "image/png": "[encoded data removed]",
      "text/plain": [
       "<matplotlib.figure.Figure at 0x7fa3a6970198>"
      ]
     },
     "metadata": {
      "needs_background": "light"
     },
     "output_type": "display_data"
    }
   ],
   "source": [
    "x = range(2400)\n",
    "y = data_copy[0] #first row of data in eeg\n",
    "plt.plot(x,y)\n",
    "\n",
    "plt.xlabel(\"Time Rel Word Onset\")\n",
    "plt.ylabel('$\\mu$V')\n",
    "#xticks(ticklocation, ticklabels)\n",
    "\n",
    "#(locations, labels) = plt.xticks()\n",
    "plt.xticks([0, 400, 800, 1200, 1600, 2000, 2400], [-400, 0, 400, 800, 1200, 1600, 2000])\n",
    "plt.show()"
   ]
  },
  {
   "cell_type": "markdown",
   "metadata": {},
   "source": [
    "## Problem 3"
   ]
  },
  {
   "cell_type": "code",
   "execution_count": 18,
   "metadata": {},
   "outputs": [
    {
     "data": {
      "image/png": "[encoded data removed]",
      "text/plain": [
       "<matplotlib.figure.Figure at 0x7fa3a6970e10>"
      ]
     },
     "metadata": {
      "needs_background": "light"
     },
     "output_type": "display_data"
    }
   ],
   "source": [
    "y = data_copy[:][:] #all rows of eeg data\n",
    "plt.plot(y.T, color='gray', linewidth=0.1) #creates object from scratch that become the active one\n",
    "\n",
    "plt.xlabel(\"Time Rel Word Onset\")\n",
    "plt.ylabel('$\\mu$V')\n",
    "plt.xticks([0, 400, 800, 1200, 1600, 2000, 2400], [-400, 0, 400, 800, 1200, 1600, 2000])\n",
    "plt.show()"
   ]
  },
  {
   "cell_type": "code",
   "execution_count": 19,
   "metadata": {},
   "outputs": [
    {
     "data": {
      "text/plain": [
       "(600, 2400)"
      ]
     },
     "execution_count": 19,
     "metadata": {},
     "output_type": "execute_result"
    }
   ],
   "source": [
    "y.shape"
   ]
  },
  {
   "cell_type": "code",
   "execution_count": 17,
   "metadata": {},
   "outputs": [
    {
     "data": {
      "text/plain": [
       "(2400, 600)"
      ]
     },
     "execution_count": 17,
     "metadata": {},
     "output_type": "execute_result"
    }
   ],
   "source": [
    "y.T.shape"
   ]
  },
  {
   "cell_type": "markdown",
   "metadata": {},
   "source": [
    "## Problem 4"
   ]
  },
  {
   "cell_type": "code",
   "execution_count": 20,
   "metadata": {},
   "outputs": [
    {
     "data": {
      "text/plain": [
       "numpy.ndarray"
      ]
     },
     "execution_count": 20,
     "metadata": {},
     "output_type": "execute_result"
    }
   ],
   "source": [
    "type(data_copy)"
   ]
  },
  {
   "cell_type": "code",
   "execution_count": 21,
   "metadata": {},
   "outputs": [],
   "source": [
    "baseline = data_copy[:,0:400]\n",
    "raw = data_copy[:,0:]"
   ]
  },
  {
   "cell_type": "code",
   "execution_count": 22,
   "metadata": {},
   "outputs": [
    {
     "data": {
      "text/plain": [
       "(600, 400)"
      ]
     },
     "execution_count": 22,
     "metadata": {},
     "output_type": "execute_result"
    }
   ],
   "source": [
    "baseline.shape"
   ]
  },
  {
   "cell_type": "code",
   "execution_count": 23,
   "metadata": {},
   "outputs": [
    {
     "data": {
      "text/plain": [
       "(600, 2400)"
      ]
     },
     "execution_count": 23,
     "metadata": {},
     "output_type": "execute_result"
    }
   ],
   "source": [
    "raw.shape"
   ]
  },
  {
   "cell_type": "code",
   "execution_count": 24,
   "metadata": {},
   "outputs": [
    {
     "name": "stderr",
     "output_type": "stream",
     "text": [
      "/usr/local/lib/python3.6/dist-packages/ipykernel_launcher.py:1: RuntimeWarning: Mean of empty slice\n",
      "  \"\"\"Entry point for launching an IPython kernel.\n",
      "/usr/local/lib/python3.6/dist-packages/ipykernel_launcher.py:3: RuntimeWarning: Mean of empty slice\n",
      "  This is separate from the ipykernel package so we can avoid doing imports until\n"
     ]
    }
   ],
   "source": [
    "baseline_avgs = np.nanmean(baseline, axis=1)\n",
    "\n",
    "raw_avgs = np.nanmean(raw, axis=1)"
   ]
  },
  {
   "cell_type": "code",
   "execution_count": 27,
   "metadata": {},
   "outputs": [
    {
     "data": {
      "text/plain": [
       "(600,)"
      ]
     },
     "execution_count": 27,
     "metadata": {},
     "output_type": "execute_result"
    }
   ],
   "source": [
    "baseline_avgs.shape"
   ]
  },
  {
   "cell_type": "code",
   "execution_count": 28,
   "metadata": {},
   "outputs": [
    {
     "data": {
      "text/plain": [
       "(600,)"
      ]
     },
     "execution_count": 28,
     "metadata": {},
     "output_type": "execute_result"
    }
   ],
   "source": [
    "raw_avgs.shape"
   ]
  },
  {
   "cell_type": "markdown",
   "metadata": {},
   "source": [
    "## Problem 5"
   ]
  },
  {
   "cell_type": "code",
   "execution_count": 29,
   "metadata": {},
   "outputs": [
    {
     "ename": "ValueError",
     "evalue": "operands could not be broadcast together with shapes (600,2400) (600,) ",
     "output_type": "error",
     "traceback": [
      "\u001b[0;31m---------------------------------------------------------------------------\u001b[0m",
      "\u001b[0;31mValueError\u001b[0m                                Traceback (most recent call last)",
      "\u001b[0;32m<ipython-input-29-2c65e1a5321e>\u001b[0m in \u001b[0;36m<module>\u001b[0;34m\u001b[0m\n\u001b[0;32m----> 1\u001b[0;31m \u001b[0mcorrected\u001b[0m \u001b[0;34m=\u001b[0m \u001b[0mraw\u001b[0m \u001b[0;34m-\u001b[0m \u001b[0mbaseline_avgs\u001b[0m \u001b[0;31m#fancy function that python does\u001b[0m\u001b[0;34m\u001b[0m\u001b[0;34m\u001b[0m\u001b[0m\n\u001b[0m",
      "\u001b[0;31mValueError\u001b[0m: operands could not be broadcast together with shapes (600,2400) (600,) "
     ]
    }
   ],
   "source": [
    "corrected = raw - baseline_avgs #fancy function that python does"
   ]
  },
  {
   "cell_type": "code",
   "execution_count": 31,
   "metadata": {},
   "outputs": [],
   "source": [
    "corrected = np.empty(shape=[600, 2400])\n",
    "\n",
    "counter = 0\n",
    "for column in raw.T:\n",
    "    r = column - baseline_avgs\n",
    "    #print(r.shape)\n",
    "    #print(r)\n",
    "    corrected[:, counter] = r\n",
    "    counter += 1"
   ]
  },
  {
   "cell_type": "code",
   "execution_count": 32,
   "metadata": {},
   "outputs": [
    {
     "data": {
      "text/plain": [
       "(600, 2400)"
      ]
     },
     "execution_count": 32,
     "metadata": {},
     "output_type": "execute_result"
    }
   ],
   "source": [
    "corrected.shape"
   ]
  },
  {
   "cell_type": "markdown",
   "metadata": {},
   "source": [
    "## Problem 6"
   ]
  },
  {
   "cell_type": "code",
   "execution_count": 33,
   "metadata": {},
   "outputs": [],
   "source": [
    "time_averages = []\n",
    "for column in raw.T:\n",
    "    q = np.nanmean(column)\n",
    "    time_averages.append(q)\n"
   ]
  },
  {
   "cell_type": "code",
   "execution_count": 34,
   "metadata": {},
   "outputs": [
    {
     "data": {
      "text/plain": [
       "2400"
      ]
     },
     "execution_count": 34,
     "metadata": {},
     "output_type": "execute_result"
    }
   ],
   "source": [
    "len(time_averages)"
   ]
  },
  {
   "cell_type": "code",
   "execution_count": 35,
   "metadata": {},
   "outputs": [
    {
     "data": {
      "image/png": "[encoded data removed]",
      "text/plain": [
       "<matplotlib.figure.Figure at 0x7fa3a617c2b0>"
      ]
     },
     "metadata": {
      "needs_background": "light"
     },
     "output_type": "display_data"
    }
   ],
   "source": [
    "y = corrected #all rows of eeg data\n",
    "plt.plot(y.T, color='gray', linewidth=0.1) #creates object from scratch that become the active one\n",
    "\n",
    "plt.xlabel(\"Time Rel Word Onset\")\n",
    "plt.ylabel('$\\mu$V')\n",
    "plt.xticks([0, 400, 800, 1200, 1600, 2000, 2400], [-400, 0, 400, 800, 1200, 1600, 2000])\n",
    "plt.show()"
   ]
  },
  {
   "cell_type": "markdown",
   "metadata": {},
   "source": [
    "## Problem 7"
   ]
  },
  {
   "cell_type": "code",
   "execution_count": 36,
   "metadata": {},
   "outputs": [],
   "source": [
    "recs = events.recalled\n",
    "recs = np.array(recs)"
   ]
  },
  {
   "cell_type": "code",
   "execution_count": 37,
   "metadata": {},
   "outputs": [
    {
     "data": {
      "text/plain": [
       "1"
      ]
     },
     "execution_count": 37,
     "metadata": {},
     "output_type": "execute_result"
    }
   ],
   "source": [
    "events.recalled[10]"
   ]
  },
  {
   "cell_type": "code",
   "execution_count": 38,
   "metadata": {},
   "outputs": [
    {
     "data": {
      "text/plain": [
       "numpy.ndarray"
      ]
     },
     "execution_count": 38,
     "metadata": {},
     "output_type": "execute_result"
    }
   ],
   "source": [
    "type(recs)"
   ]
  },
  {
   "cell_type": "code",
   "execution_count": 39,
   "metadata": {},
   "outputs": [
    {
     "data": {
      "text/plain": [
       "219"
      ]
     },
     "execution_count": 39,
     "metadata": {},
     "output_type": "execute_result"
    }
   ],
   "source": [
    "np.sum(recs == 1) #all places where the subject did recall"
   ]
  },
  {
   "cell_type": "code",
   "execution_count": 40,
   "metadata": {},
   "outputs": [],
   "source": [
    "recalled_rows = np.empty(shape=[219, 2400])\n",
    "notrecalled_rows = np.empty(shape=[600-219, 2400])"
   ]
  },
  {
   "cell_type": "code",
   "execution_count": 41,
   "metadata": {},
   "outputs": [
    {
     "data": {
      "text/plain": [
       "(219, 2400)"
      ]
     },
     "execution_count": 41,
     "metadata": {},
     "output_type": "execute_result"
    }
   ],
   "source": [
    "recalled_rows.shape"
   ]
  },
  {
   "cell_type": "code",
   "execution_count": 117,
   "metadata": {},
   "outputs": [
    {
     "name": "stdout",
     "output_type": "stream",
     "text": [
      "(2400,)\n"
     ]
    },
    {
     "ename": "ValueError",
     "evalue": "could not broadcast input array from shape (2400) into shape (219)",
     "output_type": "error",
     "traceback": [
      "\u001b[0;31m---------------------------------------------------------------------------\u001b[0m",
      "\u001b[0;31mValueError\u001b[0m                                Traceback (most recent call last)",
      "\u001b[0;32m<ipython-input-117-344119d8766d>\u001b[0m in \u001b[0;36m<module>\u001b[0;34m\u001b[0m\n\u001b[1;32m      6\u001b[0m         \u001b[0mnotrecalled_rows\u001b[0m\u001b[0;34m[\u001b[0m\u001b[0;34m:\u001b[0m\u001b[0;34m,\u001b[0m \u001b[0mcounter\u001b[0m\u001b[0;34m]\u001b[0m \u001b[0;34m=\u001b[0m \u001b[0mr\u001b[0m\u001b[0;34m\u001b[0m\u001b[0;34m\u001b[0m\u001b[0m\n\u001b[1;32m      7\u001b[0m     \u001b[0;32mif\u001b[0m \u001b[0mevents\u001b[0m\u001b[0;34m.\u001b[0m\u001b[0mrecalled\u001b[0m\u001b[0;34m[\u001b[0m\u001b[0mindex\u001b[0m\u001b[0;34m]\u001b[0m \u001b[0;34m==\u001b[0m \u001b[0;36m1\u001b[0m\u001b[0;34m:\u001b[0m\u001b[0;34m\u001b[0m\u001b[0;34m\u001b[0m\u001b[0m\n\u001b[0;32m----> 8\u001b[0;31m         \u001b[0mrecalled_rows\u001b[0m\u001b[0;34m[\u001b[0m\u001b[0;34m:\u001b[0m\u001b[0;34m,\u001b[0m \u001b[0mcounter\u001b[0m\u001b[0;34m]\u001b[0m \u001b[0;34m=\u001b[0m \u001b[0mr\u001b[0m\u001b[0;34m\u001b[0m\u001b[0;34m\u001b[0m\u001b[0m\n\u001b[0m\u001b[1;32m      9\u001b[0m     \u001b[0mcounter\u001b[0m \u001b[0;34m+=\u001b[0m \u001b[0;36m1\u001b[0m\u001b[0;34m\u001b[0m\u001b[0;34m\u001b[0m\u001b[0m\n",
      "\u001b[0;31mValueError\u001b[0m: could not broadcast input array from shape (2400) into shape (219)"
     ]
    }
   ],
   "source": [
    "\"\"\"c1 = 0\n",
    "c2 = 0\n",
    "for index, item in enumerate(range(600)):\n",
    "    r = corrected[index]\n",
    "    print(r.shape)\n",
    "    if events.recalled[index] == 0:\n",
    "        notrecalled_rows[:, c1] = r\n",
    "        c1 += 1\n",
    "    if events.recalled[index] == 1: \n",
    "        recalled_rows[:, c2] = r\n",
    "        c2 += 1\"\"\""
   ]
  },
  {
   "cell_type": "code",
   "execution_count": 42,
   "metadata": {},
   "outputs": [],
   "source": [
    "c1 = 0\n",
    "c2 = 0\n",
    "for index, item in enumerate(range(600)):\n",
    "    r = corrected[index]\n",
    "    #print(r.shape)\n",
    "    if events.recalled[index] == 0:\n",
    "        notrecalled_rows[c1, :] = r\n",
    "        c1 += 1    \n",
    "    if events.recalled[index] == 1: \n",
    "        recalled_rows[c2, :] = r\n",
    "        c2 += 1"
   ]
  },
  {
   "cell_type": "code",
   "execution_count": 43,
   "metadata": {},
   "outputs": [
    {
     "name": "stderr",
     "output_type": "stream",
     "text": [
      "/usr/local/lib/python3.6/dist-packages/ipykernel_launcher.py:1: RuntimeWarning: Mean of empty slice\n",
      "  \"\"\"Entry point for launching an IPython kernel.\n"
     ]
    },
    {
     "data": {
      "text/plain": [
       "array([-108.17898587, -141.48319919,  410.39847701, -681.87256069,\n",
       "       -200.80242694,  -94.01748946,    1.03457343,    9.74673993,\n",
       "        253.88313471, -197.3494221 ,  189.52904834,  -31.87548342,\n",
       "        304.36281443,  -24.35322843,  244.36724659, -166.73933977,\n",
       "        -65.41842639, -557.99201497,  439.35702415,   -2.66218271,\n",
       "        201.65449537,  -42.50011246, -121.68386041,  275.34053175,\n",
       "        257.76311818,  173.24162561,  -55.75518213, -183.0617996 ,\n",
       "        277.98177224,    2.47488622, -480.73599364,  -33.7213732 ,\n",
       "       -353.57057485, -268.4859468 ,   -7.23226495, -498.8254221 ,\n",
       "        163.12561374,  186.62916365,  -16.71002818,  154.93060169,\n",
       "        336.20809048, -141.34409697,  154.00125777, -366.31549011,\n",
       "        346.7976382 ,  203.81645537,   -9.59181539, -355.9551277 ,\n",
       "         20.94517983,  183.92568182, -150.10589166,  207.73030173,\n",
       "        -22.83078688, -369.75015283,  300.24201593, -110.40630069,\n",
       "       -106.49307316,   67.48554965,  444.8203607 ,  -21.76072932,\n",
       "        161.00273752,  -89.64597005,   56.35767553,  255.86453057,\n",
       "       -395.43337847,  217.8734449 ,  190.80964639,  -57.75659158,\n",
       "        -61.23974984,  248.16653587,  386.8567289 ,  205.13854129,\n",
       "       -451.53740311,  548.03454319, -346.04522497,  411.99195925,\n",
       "       -220.97032041,  -59.14182252,  164.95282999,  277.74640313,\n",
       "         86.79505127,   95.66280083,  -34.85003631,  -53.67809491,\n",
       "        257.66583625, -119.10027372,  162.59924235, -123.94723218,\n",
       "       -251.92769668,  113.45997077,  444.29526554,  -23.42414707,\n",
       "        -67.59735836,  112.75233162,  751.33382752,  315.6549358 ,\n",
       "       -247.89449459,   64.04077308, -777.69045442, -531.96668994,\n",
       "        261.72038395,  299.66659356,   64.66804525, -560.53278464,\n",
       "       -332.06578864,   57.45432568,  -21.74703336, -123.30293691,\n",
       "       -439.02509183,   34.05668733,  325.8221701 , -151.49399089,\n",
       "         81.80507995,  253.22682251, -239.59242229,   54.44616344,\n",
       "        104.86331789, -274.17257675, -311.02784263,   -7.30352189,\n",
       "        265.81154146,   46.59129457,  -58.460753  ,  -88.90842605,\n",
       "        309.40065754,  196.97806736, -113.36084302,    6.17385207,\n",
       "        -73.57176942,  296.07690798,   90.58490676,   35.18213724,\n",
       "       -247.71167648, -136.79739768,   41.06550218,  198.58930623,\n",
       "        485.21249743,  -18.53203816,  142.85475165,  276.21555527,\n",
       "        374.84058939,  264.29616496, -588.57173565, -495.90762636,\n",
       "       -618.13492048,   58.83118687,   21.97786578,  -14.9763542 ,\n",
       "       -164.25622388, -225.49798621,  204.28929428,   44.41743987,\n",
       "        101.8993234 ,  104.7753239 , -233.19600759,  158.68150316,\n",
       "        199.99995266, -126.14109158, -229.32025508, -248.52607794,\n",
       "       -120.09674132,  388.10648042,  -69.28442899, -275.31078422,\n",
       "        -81.38428982, -292.08718618, -145.4479031 ,  -26.82001898,\n",
       "        -96.32225411,  146.36032805,   27.88757469, -339.22377057,\n",
       "       -128.21574073,  -89.73051826,  -80.0803172 ,  279.76097377,\n",
       "         90.49780119,  307.83393749,  440.70880837,   12.41615683,\n",
       "       -208.12114565, -183.06255276, -292.78280633,   23.44884491,\n",
       "        406.84589919,  205.65547543,  146.96908496, -123.86321207,\n",
       "       -211.20750971,   53.5339248 ,   84.57857325, -245.46158586,\n",
       "       -261.10204945,  129.80468159, -211.42347349, -140.60787766,\n",
       "       -202.17008707, -443.99316602,  345.7864707 , -387.68035856,\n",
       "       -101.39177506,  172.4229039 ,   97.77691079,   33.85671259,\n",
       "        154.53534625,  305.33002059, -145.01674344,   93.82005081,\n",
       "        125.91929421,           nan,           nan,           nan,\n",
       "                 nan,           nan,           nan,           nan,\n",
       "                 nan,           nan,           nan])"
      ]
     },
     "execution_count": 43,
     "metadata": {},
     "output_type": "execute_result"
    }
   ],
   "source": [
    "np.nanmean(recalled_rows, axis = 1)"
   ]
  },
  {
   "cell_type": "code",
   "execution_count": 44,
   "metadata": {},
   "outputs": [
    {
     "name": "stderr",
     "output_type": "stream",
     "text": [
      "/usr/lib/python3/dist-packages/matplotlib/legend.py:932: UserWarning: Legend does not support array([-16.82715771, -18.78236946, -21.33882866, ...,  35.70011676,\n",
      "        32.21447956,  28.22035273]) instances.\n",
      "A proxy artist may be used instead.\n",
      "See: http://matplotlib.org/users/legend_guide.html#creating-artists-specifically-for-adding-to-the-legend-aka-proxy-artists\n",
      "  \"aka-proxy-artists\".format(orig_handle)\n",
      "/usr/lib/python3/dist-packages/matplotlib/legend.py:932: UserWarning: Legend does not support array([37.03236045, 34.35626577, 31.69936652, ...,  5.54085497,\n",
      "        0.11500649, -1.08545167]) instances.\n",
      "A proxy artist may be used instead.\n",
      "See: http://matplotlib.org/users/legend_guide.html#creating-artists-specifically-for-adding-to-the-legend-aka-proxy-artists\n",
      "  \"aka-proxy-artists\".format(orig_handle)\n"
     ]
    },
    {
     "data": {
      "image/png": "[encoded data removed]",
      "text/plain": [
       "<matplotlib.figure.Figure at 0x7fa3a59f3240>"
      ]
     },
     "metadata": {
      "needs_background": "light"
     },
     "output_type": "display_data"
    }
   ],
   "source": [
    "y = np.nanmean(notrecalled_rows, axis = 0)\n",
    "y2 = np.nanmean(recalled_rows, axis = 0)\n",
    "plt.plot(y.T, color='orange', linewidth=1) #creates object from scratch that become the active one\n",
    "plt.plot(y2.T, color='blue', linewidth=1) #creates object from scratch that become the active one\n",
    "\n",
    "plt.xlabel(\"Time Rel Word Onset\")\n",
    "plt.ylabel('$\\mu$V')\n",
    "plt.xticks([0, 400, 800, 1200, 1600, 2000, 2400], [-400, 0, 400, 800, 1200, 1600, 2000])\n",
    "plt.legend((y.T, y2.T), ('not', 'rec',))\n",
    "\n",
    "plt.title(\"ERP\")\n",
    "plt.show()"
   ]
  },
  {
   "cell_type": "code",
   "execution_count": 45,
   "metadata": {},
   "outputs": [
    {
     "data": {
      "text/html": [
       "<div>\n",
       "<style scoped>\n",
       "    .dataframe tbody tr th:only-of-type {\n",
       "        vertical-align: middle;\n",
       "    }\n",
       "\n",
       "    .dataframe tbody tr th {\n",
       "        vertical-align: top;\n",
       "    }\n",
       "\n",
       "    .dataframe thead th {\n",
       "        text-align: right;\n",
       "    }\n",
       "</style>\n",
       "<table border=\"1\" class=\"dataframe\">\n",
       "  <thead>\n",
       "    <tr style=\"text-align: right;\">\n",
       "      <th></th>\n",
       "      <th>session</th>\n",
       "      <th>list</th>\n",
       "      <th>serialpos</th>\n",
       "      <th>recalled</th>\n",
       "    </tr>\n",
       "  </thead>\n",
       "  <tbody>\n",
       "    <tr>\n",
       "      <th>0</th>\n",
       "      <td>0</td>\n",
       "      <td>1</td>\n",
       "      <td>1</td>\n",
       "      <td>1</td>\n",
       "    </tr>\n",
       "    <tr>\n",
       "      <th>1</th>\n",
       "      <td>0</td>\n",
       "      <td>1</td>\n",
       "      <td>2</td>\n",
       "      <td>0</td>\n",
       "    </tr>\n",
       "    <tr>\n",
       "      <th>2</th>\n",
       "      <td>0</td>\n",
       "      <td>1</td>\n",
       "      <td>3</td>\n",
       "      <td>1</td>\n",
       "    </tr>\n",
       "    <tr>\n",
       "      <th>3</th>\n",
       "      <td>0</td>\n",
       "      <td>1</td>\n",
       "      <td>4</td>\n",
       "      <td>0</td>\n",
       "    </tr>\n",
       "    <tr>\n",
       "      <th>4</th>\n",
       "      <td>0</td>\n",
       "      <td>1</td>\n",
       "      <td>5</td>\n",
       "      <td>0</td>\n",
       "    </tr>\n",
       "  </tbody>\n",
       "</table>\n",
       "</div>"
      ],
      "text/plain": [
       "   session  list  serialpos  recalled\n",
       "0        0     1          1         1\n",
       "1        0     1          2         0\n",
       "2        0     1          3         1\n",
       "3        0     1          4         0\n",
       "4        0     1          5         0"
      ]
     },
     "execution_count": 45,
     "metadata": {},
     "output_type": "execute_result"
    }
   ],
   "source": [
    "events.head()"
   ]
  },
  {
   "cell_type": "code",
   "execution_count": null,
   "metadata": {},
   "outputs": [],
   "source": []
  }
 ],
 "metadata": {
  "kernelspec": {
   "display_name": "Python 3",
   "language": "python",
   "name": "python3"
  },
  "language_info": {
   "codemirror_mode": {
    "name": "ipython",
    "version": 3
   },
   "file_extension": ".py",
   "mimetype": "text/x-python",
   "name": "python",
   "nbconvert_exporter": "python",
   "pygments_lexer": "ipython3",
   "version": "3.6.8"
  }
 },
 "nbformat": 4,
 "nbformat_minor": 4
}
