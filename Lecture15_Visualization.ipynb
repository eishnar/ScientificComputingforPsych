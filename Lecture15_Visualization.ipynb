{
 "cells": [
  {
   "cell_type": "code",
   "execution_count": 32,
   "metadata": {},
   "outputs": [],
   "source": [
    "import pandas as pd\n",
    "import numpy as np\n",
    "import matplotlib.pyplot as plt\n",
    "from psychopy import visual, core"
   ]
  },
  {
   "cell_type": "markdown",
   "metadata": {},
   "source": [
    "## Collect response times"
   ]
  },
  {
   "cell_type": "code",
   "execution_count": 35,
   "metadata": {},
   "outputs": [
    {
     "name": "stdout",
     "output_type": "stream",
     "text": [
      "3158.0093 \tWARNING \tMonitor specification not found. Creating a temporary one...\n"
     ]
    },
    {
     "data": {
      "text/plain": [
       "['j', 'k', 'k', 'j', 'q']"
      ]
     },
     "execution_count": 35,
     "metadata": {},
     "output_type": "execute_result"
    }
   ],
   "source": [
    "from psychopy import event\n",
    "win = visual.Window([600,600],pos=[0,0])\n",
    "f = open('wordpool.txt','r')\n",
    "words = f.readlines()\n",
    "responses = []\n",
    "rts = []\n",
    "word_pres_dur = 2\n",
    "#nwords = 5\n",
    "\n",
    "for ival in words:\n",
    "    stim = visual.TextStim(win,text=ival.rstrip('\\n'))\n",
    "    #stim.pos = [0,0]\n",
    "    stim.draw() # vs .autoDraw=True\n",
    "    win.flip()\n",
    "    prestime = core.getTime()\n",
    "    pressedinfo = event.waitKeys(keyList=['j','k','q'],\n",
    "                                    timeStamped=True)\n",
    "    #core.wait(1)\n",
    "    responses.append(pressedinfo[0][0])\n",
    "    rts.append(pressedinfo[0][1]-prestime)\n",
    "    \n",
    "    if pressedinfo[0][0] == 'q':\n",
    "        break\n",
    "\n",
    "win.close()\n",
    "responses"
   ]
  },
  {
   "cell_type": "code",
   "execution_count": 36,
   "metadata": {},
   "outputs": [
    {
     "data": {
      "text/plain": [
       "[['q', 3166.08989831293]]"
      ]
     },
     "execution_count": 36,
     "metadata": {},
     "output_type": "execute_result"
    }
   ],
   "source": [
    "pressedinfo"
   ]
  },
  {
   "cell_type": "code",
   "execution_count": 34,
   "metadata": {},
   "outputs": [
    {
     "name": "stdout",
     "output_type": "stream",
     "text": [
      "3086.4678 \tWARNING \tMonitor specification not found. Creating a temporary one...\n"
     ]
    }
   ],
   "source": [
    "win.close()"
   ]
  },
  {
   "cell_type": "code",
   "execution_count": 37,
   "metadata": {},
   "outputs": [
    {
     "name": "stdout",
     "output_type": "stream",
     "text": [
      "['j', 'k', 'k', 'j', 'q']\n",
      "[2.7481315040495247, 2.1288813279243186, 0.6753999770153314, 0.6104216339299455, 1.032028960995376]\n"
     ]
    }
   ],
   "source": [
    "print(responses)\n",
    "print(rts)"
   ]
  },
  {
   "cell_type": "markdown",
   "metadata": {},
   "source": [
    "## Visualize recall times"
   ]
  },
  {
   "cell_type": "code",
   "execution_count": 4,
   "metadata": {},
   "outputs": [],
   "source": [
    "data = pd.read_csv('lecture15_catfr_retrieval_data.txt')"
   ]
  },
  {
   "cell_type": "code",
   "execution_count": 5,
   "metadata": {},
   "outputs": [
    {
     "data": {
      "text/html": [
       "<div>\n",
       "<style scoped>\n",
       "    .dataframe tbody tr th:only-of-type {\n",
       "        vertical-align: middle;\n",
       "    }\n",
       "\n",
       "    .dataframe tbody tr th {\n",
       "        vertical-align: top;\n",
       "    }\n",
       "\n",
       "    .dataframe thead th {\n",
       "        text-align: right;\n",
       "    }\n",
       "</style>\n",
       "<table border=\"1\" class=\"dataframe\">\n",
       "  <thead>\n",
       "    <tr style=\"text-align: right;\">\n",
       "      <th></th>\n",
       "      <th>subj</th>\n",
       "      <th>task</th>\n",
       "      <th>session</th>\n",
       "      <th>list</th>\n",
       "      <th>word</th>\n",
       "      <th>category</th>\n",
       "      <th>intrusion</th>\n",
       "      <th>rectime</th>\n",
       "    </tr>\n",
       "  </thead>\n",
       "  <tbody>\n",
       "    <tr>\n",
       "      <th>0</th>\n",
       "      <td>R1004D</td>\n",
       "      <td>catFR1</td>\n",
       "      <td>0</td>\n",
       "      <td>1</td>\n",
       "      <td>SPARROW</td>\n",
       "      <td>Birds</td>\n",
       "      <td>0</td>\n",
       "      <td>6.789</td>\n",
       "    </tr>\n",
       "    <tr>\n",
       "      <th>1</th>\n",
       "      <td>R1004D</td>\n",
       "      <td>catFR1</td>\n",
       "      <td>0</td>\n",
       "      <td>2</td>\n",
       "      <td>GIRAFFE</td>\n",
       "      <td>Zoo</td>\n",
       "      <td>0</td>\n",
       "      <td>7.062</td>\n",
       "    </tr>\n",
       "    <tr>\n",
       "      <th>2</th>\n",
       "      <td>R1004D</td>\n",
       "      <td>catFR1</td>\n",
       "      <td>0</td>\n",
       "      <td>2</td>\n",
       "      <td>BEAR</td>\n",
       "      <td>Zoo</td>\n",
       "      <td>0</td>\n",
       "      <td>17.654</td>\n",
       "    </tr>\n",
       "    <tr>\n",
       "      <th>3</th>\n",
       "      <td>R1004D</td>\n",
       "      <td>catFR1</td>\n",
       "      <td>0</td>\n",
       "      <td>6</td>\n",
       "      <td>CHEESECAKE</td>\n",
       "      <td>Desserts</td>\n",
       "      <td>0</td>\n",
       "      <td>4.894</td>\n",
       "    </tr>\n",
       "    <tr>\n",
       "      <th>4</th>\n",
       "      <td>R1004D</td>\n",
       "      <td>catFR1</td>\n",
       "      <td>0</td>\n",
       "      <td>6</td>\n",
       "      <td>CAKE</td>\n",
       "      <td>Desserts</td>\n",
       "      <td>0</td>\n",
       "      <td>6.017</td>\n",
       "    </tr>\n",
       "  </tbody>\n",
       "</table>\n",
       "</div>"
      ],
      "text/plain": [
       "     subj    task  session  list        word  category  intrusion  rectime\n",
       "0  R1004D  catFR1        0     1     SPARROW     Birds          0    6.789\n",
       "1  R1004D  catFR1        0     2     GIRAFFE       Zoo          0    7.062\n",
       "2  R1004D  catFR1        0     2        BEAR       Zoo          0   17.654\n",
       "3  R1004D  catFR1        0     6  CHEESECAKE  Desserts          0    4.894\n",
       "4  R1004D  catFR1        0     6        CAKE  Desserts          0    6.017"
      ]
     },
     "execution_count": 5,
     "metadata": {},
     "output_type": "execute_result"
    }
   ],
   "source": [
    "data.head()"
   ]
  },
  {
   "cell_type": "code",
   "execution_count": 8,
   "metadata": {},
   "outputs": [],
   "source": [
    "subj_list = data.list[data.subj=='R1004D']\n",
    "subj_intrusion = data.intrusion[data.subj=='R1004D']\n",
    "subj_rectime = data.rectime[data.subj=='R1004D']"
   ]
  },
  {
   "cell_type": "code",
   "execution_count": 31,
   "metadata": {
    "scrolled": true
   },
   "outputs": [
    {
     "data": {
      "image/png": "[encoded data removed]",
      "text/plain": [
       "<Figure size 432x288 with 1 Axes>"
      ]
     },
     "metadata": {
      "needs_background": "light"
     },
     "output_type": "display_data"
    }
   ],
   "source": [
    "list_num = 12\n",
    "currlist = (subj_list == list_num)\n",
    "currrecs = subj_rectime[currlist]\n",
    "#plt.scatter\n",
    "x = subj_rectime[currlist]\n",
    "y = subj_list[currlist]\n",
    "plt.plot(x,y,'.',markersize=20)\n",
    "plt.xlim([0,30])\n",
    "plt.show()"
   ]
  },
  {
   "cell_type": "code",
   "execution_count": 25,
   "metadata": {},
   "outputs": [
    {
     "data": {
      "text/plain": [
       "8     1.645\n",
       "9     2.346\n",
       "10    3.432\n",
       "Name: rectime, dtype: float64"
      ]
     },
     "execution_count": 25,
     "metadata": {},
     "output_type": "execute_result"
    }
   ],
   "source": [
    "x\n"
   ]
  },
  {
   "cell_type": "code",
   "execution_count": null,
   "metadata": {},
   "outputs": [],
   "source": []
  }
 ],
 "metadata": {
  "kernelspec": {
   "display_name": "psypy3",
   "language": "python",
   "name": "psypy3"
  },
  "language_info": {
   "codemirror_mode": {
    "name": "ipython",
    "version": 3
   },
   "file_extension": ".py",
   "mimetype": "text/x-python",
   "name": "python",
   "nbconvert_exporter": "python",
   "pygments_lexer": "ipython3",
   "version": "3.5.6"
  }
 },
 "nbformat": 4,
 "nbformat_minor": 2
}
