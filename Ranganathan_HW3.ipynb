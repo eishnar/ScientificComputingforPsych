{
 "cells": [
  {
   "cell_type": "code",
   "execution_count": 1,
   "metadata": {},
   "outputs": [
    {
     "data": {
      "text/plain": [
       "'/mnt/saturn/jupyterhub_data/erangan1/Psych_027_HW'"
      ]
     },
     "execution_count": 1,
     "metadata": {},
     "output_type": "execute_result"
    }
   ],
   "source": [
    "pwd"
   ]
  },
  {
   "cell_type": "code",
   "execution_count": 2,
   "metadata": {},
   "outputs": [],
   "source": [
    "from statistics import mean"
   ]
  },
  {
   "cell_type": "code",
   "execution_count": 3,
   "metadata": {},
   "outputs": [
    {
     "data": {
      "text/plain": [
       "'\\nProblem 1\\n\\nDownload \\u200bhw3_data.txt\\u200b from Moodle. \\n\\nThis file contains data from a single subject who participated in\\nseveral sessions of a free recall experiment. \\n\\nEach line/row of the file contains information about a word that \\nwas studied during the task, and whether or not the subject recalled the\\nword. \\n\\nUse the following code to (1) read the contents of the file into a list,\\nfull_data\\u200b, and (2) assign the first line of the file to a new variable, \\n\\u200bline1\\u200b:\\n\\n'"
      ]
     },
     "execution_count": 3,
     "metadata": {},
     "output_type": "execute_result"
    }
   ],
   "source": [
    "\"\"\"\n",
    "Problem 1\n",
    "\n",
    "Download ​hw3_data.txt​ from Moodle. \n",
    "\n",
    "This file contains data from a single subject who participated in\n",
    "several sessions of a free recall experiment. \n",
    "\n",
    "Each line/row of the file contains information about a word that \n",
    "was studied during the task, and whether or not the subject recalled the\n",
    "word. \n",
    "\n",
    "Use the following code to (1) read the contents of the file into a list,\n",
    "full_data​, and (2) assign the first line of the file to a new variable, \n",
    "​line1​:\n",
    "\n",
    "\"\"\""
   ]
  },
  {
   "cell_type": "code",
   "execution_count": 4,
   "metadata": {},
   "outputs": [],
   "source": [
    "f = open(\"hw3_data.txt\", \"r\") #working directory is as listed above such that file can open \n",
    "full_data = f.readlines()\n",
    "\n",
    "line1 = full_data[0]\n",
    "line1 = line1.strip()\n"
   ]
  },
  {
   "cell_type": "code",
   "execution_count": 5,
   "metadata": {},
   "outputs": [
    {
     "data": {
      "text/plain": [
       "1800"
      ]
     },
     "execution_count": 5,
     "metadata": {},
     "output_type": "execute_result"
    }
   ],
   "source": [
    "len(full_data)"
   ]
  },
  {
   "cell_type": "code",
   "execution_count": 6,
   "metadata": {},
   "outputs": [
    {
     "data": {
      "text/plain": [
       "'R1065J\\t0\\t1\\t3\\tTOOTH\\t1\\n'"
      ]
     },
     "execution_count": 6,
     "metadata": {},
     "output_type": "execute_result"
    }
   ],
   "source": [
    "full_data[2]"
   ]
  },
  {
   "cell_type": "code",
   "execution_count": 7,
   "metadata": {},
   "outputs": [],
   "source": [
    "dp = []\n",
    "for i in range(len(full_data)):\n",
    "    line = full_data[i]\n",
    "    line = line.strip(\"\\n\").split(\"\\t\")\n",
    "    dp.append(line)"
   ]
  },
  {
   "cell_type": "code",
   "execution_count": 8,
   "metadata": {},
   "outputs": [],
   "source": [
    "#dp[7]"
   ]
  },
  {
   "cell_type": "code",
   "execution_count": 10,
   "metadata": {},
   "outputs": [],
   "source": [
    "line1\n",
    "line1_split = line1.split()"
   ]
  },
  {
   "cell_type": "code",
   "execution_count": 11,
   "metadata": {},
   "outputs": [
    {
     "data": {
      "text/plain": [
       "'R1065J\\t0\\t1\\t1\\tSEAT\\t1'"
      ]
     },
     "execution_count": 11,
     "metadata": {},
     "output_type": "execute_result"
    }
   ],
   "source": [
    "line1"
   ]
  },
  {
   "cell_type": "code",
   "execution_count": 12,
   "metadata": {},
   "outputs": [
    {
     "data": {
      "text/plain": [
       "'names  = [\"subject\", \"session\", \"list_num\", \"serialpos\", \"word\", \"recalled\"]\\n\\nfor item in range(len(line1_split)):\\n    names[item]\\n    line1_split[item]\\n    #append to a tuple'"
      ]
     },
     "execution_count": 12,
     "metadata": {},
     "output_type": "execute_result"
    }
   ],
   "source": [
    "#CORRECT WAY\n",
    "(subject, session, list_num, serialpos, word, recalled) = line1.split()\n",
    "\n",
    "#INCORRECT WAYS\n",
    "#1\n"
   ]
  },
  {
   "cell_type": "code",
   "execution_count": 13,
   "metadata": {},
   "outputs": [
    {
     "data": {
      "text/plain": [
       "'R1065J\\t0\\t1\\t1\\tSEAT\\t1'"
      ]
     },
     "execution_count": 13,
     "metadata": {},
     "output_type": "execute_result"
    }
   ],
   "source": [
    "line1"
   ]
  },
  {
   "cell_type": "code",
   "execution_count": 14,
   "metadata": {},
   "outputs": [],
   "source": [
    "list_num = int(list_num)\n",
    "recalled = int(recalled)\n",
    "serialpos = int(serialpos)\n",
    "session = int(session)"
   ]
  },
  {
   "cell_type": "code",
   "execution_count": 15,
   "metadata": {},
   "outputs": [
    {
     "data": {
      "text/plain": [
       "'\\nProblem 2\\n\\nYour first job is to write code to extract the contents of line1 \\ninto a set of individual variables that correspond to subject, session, \\nlist, serial position, word, and recalled. This will involve removing the\\n\\u200b\\n\\u200b character from the end of the line, and splitting the rest of the line into its separate parts.\\n'"
      ]
     },
     "execution_count": 15,
     "metadata": {},
     "output_type": "execute_result"
    }
   ],
   "source": [
    "\"\"\"\n",
    "Problem 2\n",
    "\n",
    "Your first job is to write code to extract the contents of line1 \n",
    "into a set of individual variables that correspond to subject, session, \n",
    "list, serial position, word, and recalled. This will involve removing the\n",
    "​\\n​ character from the end of the line, and splitting the rest of the line into its separate parts.\n",
    "\"\"\""
   ]
  },
  {
   "cell_type": "code",
   "execution_count": 16,
   "metadata": {},
   "outputs": [
    {
     "name": "stdout",
     "output_type": "stream",
     "text": [
      "Variable      Type             Data/Info\n",
      "----------------------------------------\n",
      "dp            list             n=1800\n",
      "f             TextIOWrapper    <_io.TextIOWrapper name='<...>ode='r' encoding='UTF-8'>\n",
      "full_data     list             n=1800\n",
      "i             int              1799\n",
      "line          list             n=6\n",
      "line1         str              R1065J\t0\t1\t1\tSEAT\t1\n",
      "line1_split   list             n=6\n",
      "list_num      int              1\n",
      "mean          function         <function mean at 0x7f3f98ccb730>\n",
      "recalled      int              1\n",
      "serialpos     int              1\n",
      "session       int              0\n",
      "subject       str              R1065J\n",
      "word          str              SEAT\n"
     ]
    }
   ],
   "source": [
    "%whos"
   ]
  },
  {
   "cell_type": "code",
   "execution_count": 17,
   "metadata": {},
   "outputs": [],
   "source": [
    "subject = []\n",
    "session = []\n",
    "list_num = []\n",
    "serialpos = []\n",
    "word = []\n",
    "recalled =[]\n",
    "\n",
    "for datapoint in dp:\n",
    "    #datapoint = line1.strip(\"\\n\").split(\"\\t\")\n",
    "    #print(datapoint)\n",
    "    subject.append(datapoint[0])\n",
    "    session.append(datapoint[1])\n",
    "    list_num.append(int(datapoint[2]))\n",
    "    serialpos.append(int(datapoint[3]))\n",
    "    word.append(datapoint[4])\n",
    "    recalled.append(int(datapoint[5]))"
   ]
  },
  {
   "cell_type": "code",
   "execution_count": 18,
   "metadata": {},
   "outputs": [
    {
     "data": {
      "text/plain": [
       "'\\nProblem 2b\\n\\nThen, use the \\u200bmean()\\u200b function to compute and display the proportion of recalled words for this subject \\n(i.e. the average of the values in the \\u200brecalled\\u200b list). Store this mean in a variable prec_overall\\u200b.\\n'"
      ]
     },
     "execution_count": 18,
     "metadata": {},
     "output_type": "execute_result"
    }
   ],
   "source": [
    "\"\"\"\n",
    "Problem 2b\n",
    "\n",
    "Then, use the ​mean()​ function to compute and display the proportion of recalled words for this subject \n",
    "(i.e. the average of the values in the ​recalled​ list). Store this mean in a variable prec_overall​.\n",
    "\"\"\""
   ]
  },
  {
   "cell_type": "code",
   "execution_count": 19,
   "metadata": {},
   "outputs": [],
   "source": [
    "prec_overall = mean(recalled)"
   ]
  },
  {
   "cell_type": "code",
   "execution_count": 20,
   "metadata": {},
   "outputs": [
    {
     "data": {
      "text/plain": [
       "'\\nProblem 3: Compute the proportion recall individually for each session (30 pts)\\n\\nWhat if we want to know the subject’s proportion recall for each session individually? \\nOne way to do this is to identify the identities of the unique sessions in the data. \\n\\n\\nThen, for each unique session number, you loop through the \\u200brecalled\\u200b list. \\n\\nFor each element of the \\n\\u200brecalled\\u200b list, you check whether it corresponds to the current session number for which you are trying to\\ncompute proportion recall. \\n\\nIf so, add the recalled value for the current trial to a list where you store the\\nrecalled/not recalled data only for the current session. \\n\\nThen, once you’ve grabbed all the recalled/not recalled \\ndata for the current session, compute the mean and store it in a list of session averages (e.g. \\u200bprec_by_sess\\u200b). \\nThen, iterate back through and do the same for trials from the next unique session.'"
      ]
     },
     "execution_count": 20,
     "metadata": {},
     "output_type": "execute_result"
    }
   ],
   "source": [
    "\"\"\"\n",
    "Problem 3: Compute the proportion recall individually for each session (30 pts)\n",
    "\n",
    "What if we want to know the subject’s proportion recall for each session individually? \n",
    "One way to do this is to identify the identities of the unique sessions in the data. \n",
    "\n",
    "\n",
    "Then, for each unique session number, you loop through the ​recalled​ list. \n",
    "\n",
    "For each element of the \n",
    "​recalled​ list, you check whether it corresponds to the current session number for which you are trying to\n",
    "compute proportion recall. \n",
    "\n",
    "If so, add the recalled value for the current trial to a list where you store the\n",
    "recalled/not recalled data only for the current session. \n",
    "\n",
    "Then, once you’ve grabbed all the recalled/not recalled \n",
    "data for the current session, compute the mean and store it in a list of session averages (e.g. ​prec_by_sess​). \n",
    "Then, iterate back through and do the same for trials from the next unique session.\"\"\""
   ]
  },
  {
   "cell_type": "code",
   "execution_count": 25,
   "metadata": {},
   "outputs": [],
   "source": [
    "session_unique = list(set(session))"
   ]
  },
  {
   "cell_type": "code",
   "execution_count": 26,
   "metadata": {},
   "outputs": [
    {
     "data": {
      "text/plain": [
       "['3', '1', '0', '5', '2', '4']"
      ]
     },
     "execution_count": 26,
     "metadata": {},
     "output_type": "execute_result"
    }
   ],
   "source": [
    "session_unique"
   ]
  },
  {
   "cell_type": "code",
   "execution_count": 27,
   "metadata": {},
   "outputs": [],
   "source": [
    "session_unique.sort()"
   ]
  },
  {
   "cell_type": "code",
   "execution_count": 23,
   "metadata": {},
   "outputs": [
    {
     "data": {
      "text/plain": [
       "6"
      ]
     },
     "execution_count": 23,
     "metadata": {},
     "output_type": "execute_result"
    }
   ],
   "source": [
    "len(session_unique)"
   ]
  },
  {
   "cell_type": "code",
   "execution_count": 28,
   "metadata": {},
   "outputs": [
    {
     "data": {
      "text/plain": [
       "['0', '1', '2', '3', '4', '5']"
      ]
     },
     "execution_count": 28,
     "metadata": {},
     "output_type": "execute_result"
    }
   ],
   "source": [
    "session_unique"
   ]
  },
  {
   "cell_type": "code",
   "execution_count": 29,
   "metadata": {},
   "outputs": [
    {
     "name": "stdout",
     "output_type": "stream",
     "text": [
      "0.33\n",
      "0.3566666666666667\n",
      "0.33666666666666667\n",
      "0.33666666666666667\n",
      "0.2866666666666667\n",
      "0.36666666666666664\n"
     ]
    }
   ],
   "source": [
    "prec_by_sess = []\n",
    "    #print(datapoint)\n",
    "for ses in session_unique:\n",
    "    trial = []\n",
    "    for datapoint in dp:\n",
    "        #print(ses)\n",
    "        ses = int(ses)\n",
    "        ses2 = int(datapoint[1])\n",
    "        #print(ses2)\n",
    "        if ses2 == ses:\n",
    "            rec_val = int(datapoint[5])\n",
    "            #print(rec_val)\n",
    "            trial.append(rec_val)\n",
    "            #print(trial)\n",
    "    p = mean(trial)\n",
    "    note = \"session is %d and average is\" %ses\n",
    "    prec_by_sess.append(note)\n",
    "    prec_by_sess.append(p)\n",
    "    print(p)\n",
    "            \n",
    "    "
   ]
  },
  {
   "cell_type": "code",
   "execution_count": null,
   "metadata": {},
   "outputs": [],
   "source": []
  },
  {
   "cell_type": "code",
   "execution_count": 30,
   "metadata": {},
   "outputs": [
    {
     "data": {
      "text/plain": [
       "['session is 0 and average is',\n",
       " 0.33,\n",
       " 'session is 1 and average is',\n",
       " 0.3566666666666667,\n",
       " 'session is 2 and average is',\n",
       " 0.33666666666666667,\n",
       " 'session is 3 and average is',\n",
       " 0.33666666666666667,\n",
       " 'session is 4 and average is',\n",
       " 0.2866666666666667,\n",
       " 'session is 5 and average is',\n",
       " 0.36666666666666664]"
      ]
     },
     "execution_count": 30,
     "metadata": {},
     "output_type": "execute_result"
    }
   ],
   "source": [
    "prec_by_sess"
   ]
  },
  {
   "cell_type": "code",
   "execution_count": 31,
   "metadata": {},
   "outputs": [],
   "source": [
    "test = set(session)"
   ]
  },
  {
   "cell_type": "code",
   "execution_count": 143,
   "metadata": {},
   "outputs": [
    {
     "data": {
      "text/plain": [
       "set"
      ]
     },
     "execution_count": 143,
     "metadata": {},
     "output_type": "execute_result"
    }
   ],
   "source": [
    "type(test)"
   ]
  },
  {
   "cell_type": "code",
   "execution_count": 144,
   "metadata": {},
   "outputs": [
    {
     "data": {
      "text/plain": [
       "6"
      ]
     },
     "execution_count": 144,
     "metadata": {},
     "output_type": "execute_result"
    }
   ],
   "source": [
    "len(test)"
   ]
  },
  {
   "cell_type": "code",
   "execution_count": 134,
   "metadata": {},
   "outputs": [
    {
     "data": {
      "text/plain": [
       "['0', '1', '2', '3', '4', '5']"
      ]
     },
     "execution_count": 134,
     "metadata": {},
     "output_type": "execute_result"
    }
   ],
   "source": [
    "test"
   ]
  },
  {
   "cell_type": "code",
   "execution_count": 133,
   "metadata": {},
   "outputs": [],
   "source": [
    "test.sort()"
   ]
  },
  {
   "cell_type": "code",
   "execution_count": 181,
   "metadata": {},
   "outputs": [],
   "source": []
  },
  {
   "cell_type": "code",
   "execution_count": 182,
   "metadata": {},
   "outputs": [
    {
     "data": {
      "text/plain": [
       "['0', '1', '2', '3', '4', '5']"
      ]
     },
     "execution_count": 182,
     "metadata": {},
     "output_type": "execute_result"
    }
   ],
   "source": [
    "session_unique"
   ]
  },
  {
   "cell_type": "code",
   "execution_count": 32,
   "metadata": {},
   "outputs": [
    {
     "data": {
      "text/plain": [
       "'\\nProblem 4:\\n\\nNow, update your code from Problem 3 so that instead of computing the proportion recall for each session \\nindividually, you do so for each unique serial position. There are 12 unique serial positions (one for each word \\nposition on each list).\\n'"
      ]
     },
     "execution_count": 32,
     "metadata": {},
     "output_type": "execute_result"
    }
   ],
   "source": [
    "\"\"\"\n",
    "Problem 4:\n",
    "\n",
    "Now, update your code from Problem 3 so that instead of computing the proportion recall for each session \n",
    "individually, you do so for each unique serial position. There are 12 unique serial positions (one for each word \n",
    "position on each list).\n",
    "\"\"\""
   ]
  },
  {
   "cell_type": "code",
   "execution_count": 33,
   "metadata": {},
   "outputs": [],
   "source": [
    "sp_unique = list(set(serialpos))"
   ]
  },
  {
   "cell_type": "code",
   "execution_count": 34,
   "metadata": {},
   "outputs": [
    {
     "data": {
      "text/plain": [
       "[1, 2, 3, 4, 5, 6, 7, 8, 9, 10, 11, 12]"
      ]
     },
     "execution_count": 34,
     "metadata": {},
     "output_type": "execute_result"
    }
   ],
   "source": [
    "sp_unique"
   ]
  },
  {
   "cell_type": "code",
   "execution_count": 35,
   "metadata": {},
   "outputs": [],
   "source": [
    "prec_by_serial = []\n",
    "    #print(datapoint)\n",
    "for sp in sp_unique:\n",
    "    trial = []\n",
    "    #print(sp)\n",
    "    for datapoint in dp:\n",
    "        sp = int(sp)\n",
    "        sp2 = int(datapoint[3])\n",
    "        if sp == sp2:\n",
    "            rec_val = int(datapoint[5])\n",
    "            #print(rec_val)\n",
    "            trial.append(rec_val)\n",
    "            #print(trial)\n",
    "    p = mean(trial)\n",
    "    note = \"serial position is is %d and average is\" %sp\n",
    "    prec_by_serial.append(note)\n",
    "    prec_by_serial.append(p)\n",
    "    #print(p)"
   ]
  },
  {
   "cell_type": "code",
   "execution_count": 36,
   "metadata": {},
   "outputs": [
    {
     "data": {
      "text/plain": [
       "['serial position is is 1 and average is',\n",
       " 0.3933333333333333,\n",
       " 'serial position is is 2 and average is',\n",
       " 0.36,\n",
       " 'serial position is is 3 and average is',\n",
       " 0.38666666666666666,\n",
       " 'serial position is is 4 and average is',\n",
       " 0.36666666666666664,\n",
       " 'serial position is is 5 and average is',\n",
       " 0.30666666666666664,\n",
       " 'serial position is is 6 and average is',\n",
       " 0.29333333333333333,\n",
       " 'serial position is is 7 and average is',\n",
       " 0.2866666666666667,\n",
       " 'serial position is is 8 and average is',\n",
       " 0.34,\n",
       " 'serial position is is 9 and average is',\n",
       " 0.3466666666666667,\n",
       " 'serial position is is 10 and average is',\n",
       " 0.4,\n",
       " 'serial position is is 11 and average is',\n",
       " 0.35333333333333333,\n",
       " 'serial position is is 12 and average is',\n",
       " 0.19333333333333333]"
      ]
     },
     "execution_count": 36,
     "metadata": {},
     "output_type": "execute_result"
    }
   ],
   "source": [
    "prec_by_serial"
   ]
  },
  {
   "cell_type": "code",
   "execution_count": 37,
   "metadata": {},
   "outputs": [
    {
     "data": {
      "text/plain": [
       "0.19333333333333333"
      ]
     },
     "execution_count": 37,
     "metadata": {},
     "output_type": "execute_result"
    }
   ],
   "source": [
    "mean(trial)"
   ]
  },
  {
   "cell_type": "code",
   "execution_count": 38,
   "metadata": {},
   "outputs": [
    {
     "name": "stdout",
     "output_type": "stream",
     "text": [
      "0.19333333333333333\n"
     ]
    }
   ],
   "source": [
    "p = mean(trial)\n",
    "note = \"serial position is is %d and average is\" %ses\n",
    "prec_by_serial.append(note)\n",
    "prec_by_serial.append(p)\n",
    "print(p)"
   ]
  },
  {
   "cell_type": "code",
   "execution_count": 39,
   "metadata": {},
   "outputs": [
    {
     "name": "stdout",
     "output_type": "stream",
     "text": [
      "1\n",
      "2\n",
      "3\n",
      "4\n",
      "5\n",
      "6\n",
      "7\n",
      "8\n",
      "9\n",
      "10\n",
      "11\n",
      "12\n"
     ]
    },
    {
     "data": {
      "text/plain": [
       "int"
      ]
     },
     "execution_count": 39,
     "metadata": {},
     "output_type": "execute_result"
    }
   ],
   "source": [
    "for i in range(1,13):\n",
    "    print(i)\n",
    "type(i)"
   ]
  },
  {
   "cell_type": "code",
   "execution_count": 246,
   "metadata": {},
   "outputs": [
    {
     "data": {
      "text/plain": [
       "'\\nUpdate your code from Problem 5 of the In Class work (Sept 26) to allow the user to \\nspecify the number of words that are used in the experiment. Your code should ask the user for input, \\ncheck whether it will work, and then execute the experiment using that number of words. You should also write \\nyour code so that the user can run it in either ‘test’ or ‘experimental’ modes, \\nsuch that the words are presented either for 0.25 or waiting for a keypress.\\n'"
      ]
     },
     "execution_count": 246,
     "metadata": {},
     "output_type": "execute_result"
    }
   ],
   "source": [
    "\"\"\"\n",
    "SEE EMAIL AND CODE BELOW (ALTHOUGH IT WON'T RUN CORRECTLY.)\n",
    "Update your code from Problem 5 of the In Class work (Sept 26) to allow the user to \n",
    "specify the number of words that are used in the experiment. \n",
    "\n",
    "Your code should ask the user for input, \n",
    "check whether it will work, and then execute the experiment using that number of words. \n",
    "\n",
    "You should also write \n",
    "your code so that the user can run it in either ‘test’ or ‘experimental’ modes, \n",
    "such that the words are presented either for 0.25 or waiting for a keypress.\n",
    "\"\"\""
   ]
  },
  {
   "cell_type": "code",
   "execution_count": null,
   "metadata": {},
   "outputs": [],
   "source": [
    "text_file = open(\"wordpool.txt\", \"r\") #printing this creates some object in the space. #open function doesn't refer to contents themselves\n",
    "words = text_file.readlines()"
   ]
  },
  {
   "cell_type": "code",
   "execution_count": null,
   "metadata": {},
   "outputs": [],
   "source": [
    "user_words = int(input(\"how many words do you want? \"))\n",
    "while user_words <1:\n",
    "    print(\"choose a number greater than 1\")\n",
    "    user_words = int(input(\"how many words do you want? \"))"
   ]
  },
  {
   "cell_type": "code",
   "execution_count": null,
   "metadata": {},
   "outputs": [],
   "source": [
    "user_type = input(\"how do you want to play? \\t choose either 'test' or 'experiment' \")\n",
    "#print(user_type)\n",
    "#type(user_type)\n",
    "\n",
    "while (user_type != \"test\") and (user_type != \"experiment\"): #do NOT use or logic on this loop. will be infinite. \n",
    "    print(\"\\n please check case and spelling. use lower case t or e.\")\n",
    "    user_type = input(\"how do you want to play? \\n choose either 'test' or 'experiment'\")"
   ]
  },
  {
   "cell_type": "code",
   "execution_count": null,
   "metadata": {},
   "outputs": [],
   "source": [
    "win = visual.Window([500,500],pos=[0,0])\n",
    "\n",
    "for word in words[0:user_words]:\n",
    "    print(word)\n",
    "    #print(user_type)\n",
    "    if user_type == \"test\":\n",
    "        wd = visual.TextStim(win, text = word, pos=[250,250])\n",
    "        wd.draw()\n",
    "        win.flip()\n",
    "        core.wait(.25)\n",
    "    if user_type == \"experiment\":\n",
    "        wd = visual.TextStim(win, text = word, pos=[250,250])\n",
    "        wd.draw()\n",
    "        win.flip()\n",
    "        pk = event.waitKeys(keyList = [\"j\", \"k\",\"q\"])\n",
    "        #record\n",
    "        pressedkeys.append(pk)\n",
    "        pk = str(pk[0])\n",
    "        if pk == \"q\":\n",
    "            break\n",
    "    \n",
    "win.close()\n",
    "\n",
    "print(pressedkeys)"
   ]
  },
  {
   "cell_type": "code",
   "execution_count": 41,
   "metadata": {},
   "outputs": [
    {
     "data": {
      "text/plain": [
       "'avg = mean(trial)\\n    print(avg)\\n        \\n        \\nprec_by_sess = []\\n\\nfor item in session_unique:\\n    if item == #????: \\n    trial = []\\n    print(item)\\n    for recall_value in recalled_temporary:\\n        trial.append(recall_value)\\n        #print(trial)\\n    prec_by_sess.append(mean(trial))\\n\\n        '"
      ]
     },
     "execution_count": 41,
     "metadata": {},
     "output_type": "execute_result"
    }
   ],
   "source": [
    "\"\"\"avg = mean(trial)\n",
    "    print(avg)\n",
    "        \n",
    "        \n",
    "prec_by_sess = []\n",
    "\n",
    "for item in session_unique:\n",
    "    if item == #????: \n",
    "    trial = []\n",
    "    print(item)\n",
    "    for recall_value in recalled_temporary:\n",
    "        trial.append(recall_value)\n",
    "        #print(trial)\n",
    "    prec_by_sess.append(mean(trial))\n",
    "\n",
    "        \"\"\""
   ]
  },
  {
   "cell_type": "code",
   "execution_count": null,
   "metadata": {},
   "outputs": [],
   "source": [
    "\"\"\"for item in session:\n",
    "    when item = item+1:\"\"\""
   ]
  }
 ],
 "metadata": {
  "kernelspec": {
   "display_name": "Python 3",
   "language": "python",
   "name": "python3"
  },
  "language_info": {
   "codemirror_mode": {
    "name": "ipython",
    "version": 3
   },
   "file_extension": ".py",
   "mimetype": "text/x-python",
   "name": "python",
   "nbconvert_exporter": "python",
   "pygments_lexer": "ipython3",
   "version": "3.6.9"
  }
 },
 "nbformat": 4,
 "nbformat_minor": 4
}
