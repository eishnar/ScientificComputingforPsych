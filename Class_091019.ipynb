{
 "cells": [
  {
   "cell_type": "code",
   "execution_count": 1,
   "metadata": {},
   "outputs": [
    {
     "name": "stdout",
     "output_type": "stream",
     "text": [
      "Eishna           Ranganathan\n",
      "Eishna       \n",
      "     Ranganathan\n"
     ]
    }
   ],
   "source": [
    "\"\"\"\n",
    "Part 1: Create two variables of type string, one each for your first and last names. In the variable for\n",
    "your first name include several whitespace characters at the end of the string--for your last\n",
    "name, include several whitespace characters at the beginning of the string. \n",
    "\n",
    "Display those two strings on the same line (print) and then display them on separate lines but using a single\n",
    "command (hint: \\n).\n",
    "\n",
    "Then, in a new cell, remove the whitespace characters and display your first and last name on a single line.\n",
    "\n",
    "\n",
    "Python has methods for strings that convert them to upper and lower case: use one of these\n",
    "methods each on your first and last names and print out the results.\n",
    "\"\"\"\n",
    "\n",
    "first = \"Eishna      \"\n",
    "last = \"    Ranganathan\"\n",
    "print(first,last)\n",
    "print(first, \"\\n\", last)"
   ]
  },
  {
   "cell_type": "code",
   "execution_count": 2,
   "metadata": {},
   "outputs": [
    {
     "name": "stdout",
     "output_type": "stream",
     "text": [
      "Eishna Ranganathan\n"
     ]
    }
   ],
   "source": [
    "print(first.strip(), last.strip())"
   ]
  },
  {
   "cell_type": "code",
   "execution_count": 3,
   "metadata": {},
   "outputs": [
    {
     "data": {
      "text/plain": [
       "'eishna          ranganathan'"
      ]
     },
     "execution_count": 3,
     "metadata": {},
     "output_type": "execute_result"
    }
   ],
   "source": [
    "full = first+last\n",
    "full.lower()\n",
    "\n",
    "#full.replace(\" \", \"\")\n",
    "#replace always takes two arguments \n",
    "#strip = only the traling white spaces. at the beginning and end "
   ]
  },
  {
   "cell_type": "code",
   "execution_count": 4,
   "metadata": {},
   "outputs": [],
   "source": [
    "\"\"\"\n",
    "Part2:\n",
    "Create a list of at least 4 strings of your choice (when I did this I used ingredients for a salad)\n",
    "\n",
    "Print the full list, then show how you can access the first, third, and last elements of the list, and\n",
    "print them as output. Next, print the length of the list to the output.\n",
    "\n",
    "Python has a method for adding items to the end of the list--use this method to add another item\n",
    "to your list and show the new list in the output. \n",
    "\n",
    "Next, show how you would remove the item from the list. Store this item in a new variable. \n",
    "\n",
    "Next, show in the output a sorted version of your list.\n",
    "Do this both in forward and reverse alphabetical order.\n",
    "\n",
    "We are often interested in accessing multiple items from a list. Use slice indexing to print\n",
    "multiple items from the list at once. What does the first term in the slice index refer to? What\n",
    "about the second?\n",
    "\n",
    "Now, copy your list into a new variable. Change one element of your original list and show that it\n",
    "doesn’t affect the contents of the new copy of your list.\n",
    "\"\"\"\n",
    "\n",
    "colors = [\"pink\", \"purple\", \"lavender\", \"magenta\"]\n",
    "\n"
   ]
  },
  {
   "cell_type": "code",
   "execution_count": 5,
   "metadata": {},
   "outputs": [
    {
     "name": "stdout",
     "output_type": "stream",
     "text": [
      "pink\n",
      "lavender\n",
      "magenta\n"
     ]
    },
    {
     "data": {
      "text/plain": [
       "4"
      ]
     },
     "execution_count": 5,
     "metadata": {},
     "output_type": "execute_result"
    }
   ],
   "source": [
    "colors\n",
    "print(colors[0])\n",
    "print(colors[2])\n",
    "print(colors[-1])\n",
    "len(colors)"
   ]
  },
  {
   "cell_type": "code",
   "execution_count": 6,
   "metadata": {},
   "outputs": [
    {
     "data": {
      "text/plain": [
       "['pink', 'purple', 'lavender', 'magenta', 'red']"
      ]
     },
     "execution_count": 6,
     "metadata": {},
     "output_type": "execute_result"
    }
   ],
   "source": [
    "colors.append(\"red\")\n",
    "colors"
   ]
  },
  {
   "cell_type": "code",
   "execution_count": 7,
   "metadata": {},
   "outputs": [
    {
     "data": {
      "text/plain": [
       "'red'"
      ]
     },
     "execution_count": 7,
     "metadata": {},
     "output_type": "execute_result"
    }
   ],
   "source": [
    "out = colors.pop()\n",
    "out\n",
    "#OR del colors[-1], but can't reassign"
   ]
  },
  {
   "cell_type": "code",
   "execution_count": 8,
   "metadata": {},
   "outputs": [
    {
     "data": {
      "text/plain": [
       "['purple', 'pink', 'magenta', 'lavender']"
      ]
     },
     "execution_count": 8,
     "metadata": {},
     "output_type": "execute_result"
    }
   ],
   "source": [
    "colors.sort()\n",
    "colors\n",
    "colors.reverse()\n",
    "colors"
   ]
  },
  {
   "cell_type": "code",
   "execution_count": 9,
   "metadata": {},
   "outputs": [
    {
     "data": {
      "text/plain": [
       "['pink', 'magenta', 'lavender']"
      ]
     },
     "execution_count": 9,
     "metadata": {},
     "output_type": "execute_result"
    }
   ],
   "source": [
    "colors[1:4] #first term refers to index 1, last term refers to index 4-1, so index 3"
   ]
  },
  {
   "cell_type": "code",
   "execution_count": 10,
   "metadata": {},
   "outputs": [
    {
     "name": "stdout",
     "output_type": "stream",
     "text": [
      "PURPLE\n",
      "PINK\n",
      "MAGENTA\n",
      "LAVENDER\n",
      "my favorite color is Purple\n",
      "there are the best colors:\n"
     ]
    }
   ],
   "source": [
    "\"\"\"\n",
    "Problem 3:\n",
    "In a new cell block print each element of your list, but perform at least one string operation on\n",
    "the element before printing (e.g. .upper, .lower, .title). \n",
    "\n",
    "In the same cell block, also print some \n",
    "kind of statement about the list outside of the loop (e.g. “This salad tastes best in summer.”).\n",
    "\"\"\"\n",
    "\n",
    "for color in colors: #can be a list or array\n",
    "    print(color.upper())\n",
    "    \n",
    "print(\"my favorite color is\", colors[0].title())\n",
    "print(\"there are the best colors:\")\n",
    "    "
   ]
  },
  {
   "cell_type": "code",
   "execution_count": 11,
   "metadata": {},
   "outputs": [
    {
     "name": "stdout",
     "output_type": "stream",
     "text": [
      "['purple', 'pink', 'magenta', 'lavender']\n"
     ]
    }
   ],
   "source": [
    "print(colors[0:5])\n"
   ]
  },
  {
   "cell_type": "code",
   "execution_count": 12,
   "metadata": {},
   "outputs": [
    {
     "data": {
      "text/plain": [
       "36"
      ]
     },
     "execution_count": 12,
     "metadata": {},
     "output_type": "execute_result"
    }
   ],
   "source": [
    "\"\"\"\n",
    "Part 4\n",
    "\"\"\"\n",
    "numbers = [1,3,5,7,9,11]\n",
    "total = 0 \n",
    "for num in numbers: #numbers is thing that has some length\n",
    "    total += num\n",
    "    \n",
    "total\n",
    "\n",
    "#array = something that has more than one item or object in it \n",
    "#cumulative sum = running run"
   ]
  },
  {
   "cell_type": "code",
   "execution_count": 13,
   "metadata": {},
   "outputs": [
    {
     "data": {
      "text/plain": [
       "36"
      ]
     },
     "execution_count": 13,
     "metadata": {},
     "output_type": "execute_result"
    }
   ],
   "source": [
    "sum(numbers)"
   ]
  },
  {
   "cell_type": "code",
   "execution_count": null,
   "metadata": {},
   "outputs": [],
   "source": []
  }
 ],
 "metadata": {
  "kernelspec": {
   "display_name": "Python 3",
   "language": "python",
   "name": "python3"
  },
  "language_info": {
   "codemirror_mode": {
    "name": "ipython",
    "version": 3
   },
   "file_extension": ".py",
   "mimetype": "text/x-python",
   "name": "python",
   "nbconvert_exporter": "python",
   "pygments_lexer": "ipython3",
   "version": "3.7.3"
  }
 },
 "nbformat": 4,
 "nbformat_minor": 4
}
