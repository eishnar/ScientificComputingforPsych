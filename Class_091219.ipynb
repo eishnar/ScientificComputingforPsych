{
 "cells": [
  {
   "cell_type": "code",
   "execution_count": 1,
   "metadata": {},
   "outputs": [],
   "source": [
    "f = open(\"subjects.txt\", \"r\") #r = read, for a plain text file #2 args, name of file in a string, what you want to do\n",
    "#can do r (read), w (overwrite), a (append)\n",
    "#need to specify longer file path if not in current folder \n",
    "\n",
    "#f is variable we created so we can do stuff with the file, like use readlines\n",
    "subjects = f.readlines()\n",
    "f.close() #good to close to maintain integrity of the files\n"
   ]
  },
  {
   "cell_type": "code",
   "execution_count": 2,
   "metadata": {},
   "outputs": [
    {
     "data": {
      "text/plain": [
       "['S01\\n',\n",
       " 'S02\\n',\n",
       " 'S03\\n',\n",
       " 'S04\\n',\n",
       " 'S05\\n',\n",
       " 'S06\\n',\n",
       " 'S07\\n',\n",
       " 'S08\\n',\n",
       " 'S09\\n',\n",
       " 'S10\\n',\n",
       " 'S11\\n',\n",
       " 'S12\\n',\n",
       " 'S13\\n',\n",
       " 'S14\\n',\n",
       " 'S15\\n',\n",
       " 'S16\\n',\n",
       " 'S17\\n',\n",
       " 'S18\\n',\n",
       " 'S19\\n',\n",
       " 'S20\\n',\n",
       " 'S21\\n',\n",
       " 'S22\\n',\n",
       " 'S23\\n',\n",
       " 'S24\\n',\n",
       " 'S25\\n',\n",
       " 'S26\\n',\n",
       " 'S27\\n',\n",
       " 'S28\\n',\n",
       " 'S29\\n',\n",
       " 'S30\\n',\n",
       " 'S31\\n',\n",
       " 'S32\\n',\n",
       " 'S33\\n',\n",
       " 'S34\\n',\n",
       " 'S35\\n',\n",
       " 'S36\\n',\n",
       " 'S37\\n',\n",
       " 'S38\\n',\n",
       " 'S39\\n',\n",
       " 'S40\\n',\n",
       " 'S41\\n',\n",
       " 'S42\\n',\n",
       " 'S43\\n',\n",
       " 'S44\\n',\n",
       " 'S45\\n',\n",
       " 'S46\\n',\n",
       " 'S47\\n',\n",
       " 'S48\\n',\n",
       " 'S49\\n',\n",
       " 'S50\\n',\n",
       " 'S51\\n',\n",
       " 'S52\\n',\n",
       " 'S53\\n',\n",
       " 'S54\\n',\n",
       " 'S55\\n',\n",
       " 'S56\\n',\n",
       " 'S57\\n',\n",
       " 'S58\\n',\n",
       " 'S59\\n',\n",
       " 'S60\\n']"
      ]
     },
     "execution_count": 2,
     "metadata": {},
     "output_type": "execute_result"
    }
   ],
   "source": [
    "subjects"
   ]
  },
  {
   "cell_type": "code",
   "execution_count": null,
   "metadata": {},
   "outputs": [],
   "source": []
  }
 ],
 "metadata": {
  "kernelspec": {
   "display_name": "Python 3",
   "language": "python",
   "name": "python3"
  },
  "language_info": {
   "codemirror_mode": {
    "name": "ipython",
    "version": 3
   },
   "file_extension": ".py",
   "mimetype": "text/x-python",
   "name": "python",
   "nbconvert_exporter": "python",
   "pygments_lexer": "ipython3",
   "version": "3.6.8"
  }
 },
 "nbformat": 4,
 "nbformat_minor": 4
}
