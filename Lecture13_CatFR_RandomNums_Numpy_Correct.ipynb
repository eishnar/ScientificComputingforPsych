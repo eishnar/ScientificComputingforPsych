{
 "cells": [
  {
   "cell_type": "markdown",
   "metadata": {},
   "source": [
    "## Lecture 13: Numpy, random numbers"
   ]
  },
  {
   "cell_type": "code",
   "execution_count": 1,
   "metadata": {},
   "outputs": [],
   "source": [
    "import numpy as np"
   ]
  },
  {
   "cell_type": "code",
   "execution_count": 2,
   "metadata": {},
   "outputs": [],
   "source": [
    "# Read in categorized free recall data\n",
    "f = open('midterm_catfr_data.txt','r')\n",
    "catfrdata = f.readlines()\n",
    "\n",
    "categories = []\n",
    "recalls_catfr = []\n",
    "subjects_catfr = []\n",
    "for iline in catfrdata:\n",
    "    tmp = iline.strip('\\n')\n",
    "    (subj,task,sess,list_num,serialpos,word,cat,recalled) = tmp.split(',')\n",
    "    categories.append(cat)\n",
    "    recalls_catfr.append(int(recalled))\n",
    "    subjects_catfr.append(subj)\n",
    "\n",
    "# Read in standard free recall data\n",
    "f = open('fr_data.txt','r')\n",
    "frdata = f.readlines()\n",
    "\n",
    "recalls_fr = []\n",
    "subjects_fr = []\n",
    "for iline in frdata:\n",
    "    tmp = iline.strip('\\n')\n",
    "    (subj,task,sess,list_num,serialpos,word,recalled) = tmp.split(',')\n",
    "    recalls_fr.append(int(recalled))\n",
    "    subjects_fr.append(subj)"
   ]
  },
  {
   "cell_type": "code",
   "execution_count": 3,
   "metadata": {},
   "outputs": [
    {
     "data": {
      "text/plain": [
       "72322"
      ]
     },
     "execution_count": 3,
     "metadata": {},
     "output_type": "execute_result"
    }
   ],
   "source": [
    "len(subjects_catfr)"
   ]
  },
  {
   "cell_type": "code",
   "execution_count": 4,
   "metadata": {},
   "outputs": [
    {
     "name": "stdout",
     "output_type": "stream",
     "text": [
      "Variable         Type             Data/Info\n",
      "-------------------------------------------\n",
      "cat              str              Birds\n",
      "categories       list             n=72322\n",
      "catfrdata        list             n=72322\n",
      "f                TextIOWrapper    <_io.TextIOWrapper name='<...>ode='r' encoding='UTF-8'>\n",
      "frdata           list             n=125137\n",
      "iline            str              R1449T,FR1,1,12,12,CROSS,0\\n\n",
      "list_num         str              12\n",
      "np               module           <module 'numpy' from '/Ap<...>kages/numpy/__init__.py'>\n",
      "recalled         str              0\n",
      "recalls_catfr    list             n=72322\n",
      "recalls_fr       list             n=125137\n",
      "serialpos        str              12\n",
      "sess             str              1\n",
      "subj             str              R1449T\n",
      "subjects_catfr   list             n=72322\n",
      "subjects_fr      list             n=125137\n",
      "task             str              FR1\n",
      "tmp              str              R1449T,FR1,1,12,12,CROSS,0\n",
      "word             str              CROSS\n"
     ]
    }
   ],
   "source": [
    "%whos"
   ]
  },
  {
   "cell_type": "code",
   "execution_count": 5,
   "metadata": {},
   "outputs": [],
   "source": [
    "recalls_catfr = np.array(recalls_catfr, dtype='int')\n",
    "subjects_catfr = np.array(subjects_catfr)\n",
    "categories = np.array(categories)"
   ]
  },
  {
   "cell_type": "code",
   "execution_count": 6,
   "metadata": {},
   "outputs": [],
   "source": [
    "# for unique subjects\n",
    "#   for unique categories\n",
    "#       get the individual trials correpsonding to each subje and cat\n",
    "\n",
    "subjects_unique = np.unique(subjects_catfr)\n",
    "categories_unique = np.unique(categories)"
   ]
  },
  {
   "cell_type": "code",
   "execution_count": 7,
   "metadata": {},
   "outputs": [],
   "source": [
    "subj_mean_recall_by_cat = np.empty((186,26))"
   ]
  },
  {
   "cell_type": "code",
   "execution_count": 13,
   "metadata": {},
   "outputs": [
    {
     "data": {
      "text/plain": [
       "(26,)"
      ]
     },
     "execution_count": 13,
     "metadata": {},
     "output_type": "execute_result"
    }
   ],
   "source": [
    "for isubj in subjects_unique:\n",
    "    for icat in categories_unique:\n",
    "        subj_mean_recall_by_cat[x,y] = np.mean(recalls_catfr[np.logical_and(subjects_catfr==isubj,categories==icat)])\n",
    "        \n",
    "        "
   ]
  },
  {
   "cell_type": "code",
   "execution_count": 14,
   "metadata": {},
   "outputs": [],
   "source": [
    "isubj='R1004D'\n",
    "icat = 'Furniture'"
   ]
  },
  {
   "cell_type": "code",
   "execution_count": 39,
   "metadata": {},
   "outputs": [
    {
     "data": {
      "text/plain": [
       "0.0"
      ]
     },
     "execution_count": 39,
     "metadata": {},
     "output_type": "execute_result"
    }
   ],
   "source": [
    "np.mean(recalls_catfr[np.logical_and(subjects_catfr==isubj,categories==icat)])"
   ]
  },
  {
   "cell_type": "code",
   "execution_count": 35,
   "metadata": {},
   "outputs": [
    {
     "data": {
      "text/plain": [
       "72322"
      ]
     },
     "execution_count": 35,
     "metadata": {},
     "output_type": "execute_result"
    }
   ],
   "source": [
    "len(recalls_catfr)"
   ]
  },
  {
   "cell_type": "code",
   "execution_count": null,
   "metadata": {},
   "outputs": [],
   "source": [
    "# Convert our lists to numpy arrays. This will allow us to use numpy functions later on.\n",
    "recalls_fr = np.array(recalls_fr, dtype='int')\n",
    "recalls_catfr = np.array(recalls_catfr, dtype='int')\n",
    "\n",
    "#categories = np.array(categories)\n",
    "subjects_catfr = np.array(subjects_catfr)\n",
    "subjects_fr = np.array(subjects_fr)\n"
   ]
  },
  {
   "cell_type": "code",
   "execution_count": null,
   "metadata": {},
   "outputs": [],
   "source": [
    "%whos"
   ]
  },
  {
   "cell_type": "code",
   "execution_count": null,
   "metadata": {},
   "outputs": [],
   "source": [
    "# Use the np.intersect1d() function to return the intersection of two numpy arrays\n",
    "common_subjects = np.intersect1d(subjects_fr,subjects_catfr)\n",
    "\n",
    "# You can also use the np.unique() function to get the unique elements from a numpy array\n",
    "#subjlist_fr = np.unique(subjects_fr)\n",
    "#subjlist_catfr = np.unique(subjects_catfr)\n"
   ]
  },
  {
   "cell_type": "code",
   "execution_count": null,
   "metadata": {},
   "outputs": [],
   "source": [
    "np.shape(common_subjects)\n",
    "common_subjects[0]"
   ]
  },
  {
   "cell_type": "code",
   "execution_count": null,
   "metadata": {},
   "outputs": [],
   "source": [
    "# Now, we can loop over our common_subjects array and use indexing to grab all trials for \n",
    "# each subject in turn, taking the average to compute proportion recall for each subject.\n",
    "\n",
    "# Numpy has a special numeric value 'nan' (not a number). This is useful for initializing \n",
    "# numeric arrays without using actual numbers.\n",
    "common_subjects_prec_fr = np.empty(np.shape(common_subjects))\n",
    "common_subjects_prec_fr[:] = np.nan\n",
    "\n",
    "common_subjects_prec_catfr = np.empty(np.shape(common_subjects))\n",
    "common_subjects_prec_catfr[:] = np.nan\n",
    "\n",
    "# Do this for the FR and CatFR tasks\n",
    "counter = 0\n",
    "for isubj in common_subjects:\n",
    "    # First, get the indices for the correct rows in the fr data\n",
    "    rows_to_index = subjects_fr==isubj\n",
    "    \n",
    "    # Put the average recall into the across-subject array\n",
    "    common_subjects_prec_fr[counter] = np.mean(recalls_fr[rows_to_index])\n",
    "    \n",
    "\n",
    "    # Then get the indices for the correct rows in the catfr data\n",
    "    rows_to_index = subjects_catfr==isubj\n",
    "    \n",
    "    # Put the average recall into the across-subject array\n",
    "    common_subjects_prec_catfr[counter] = np.mean(recalls_catfr[rows_to_index])\n",
    "    \n",
    "    counter += 1\n",
    "\n"
   ]
  },
  {
   "cell_type": "code",
   "execution_count": null,
   "metadata": {
    "scrolled": true
   },
   "outputs": [],
   "source": [
    "common_subjects_prec_fr"
   ]
  },
  {
   "cell_type": "code",
   "execution_count": null,
   "metadata": {},
   "outputs": [],
   "source": [
    "# Let's introduce a plotting library, matplotlib, so we can visualize our results\n",
    "import matplotlib.pyplot as plt"
   ]
  },
  {
   "cell_type": "code",
   "execution_count": null,
   "metadata": {},
   "outputs": [],
   "source": [
    "plt.scatter(common_subjects_prec_fr,common_subjects_prec_catfr)\n",
    "plt.xlabel('Free Recall Prec',FontSize=14)\n",
    "plt.ylabel('Categorized Free Recall Prec',FontSize=14)\n",
    "plt.show()"
   ]
  },
  {
   "cell_type": "code",
   "execution_count": null,
   "metadata": {},
   "outputs": [],
   "source": [
    "plt.scatter(common_subjects_prec_fr,common_subjects_prec_catfr)\n",
    "plt.xlim((0,1))\n",
    "plt.ylim((0,1))\n",
    "plt.xlabel('Free Recall Prec',FontSize=14)\n",
    "plt.ylabel('Categorized Free Recall Prec',FontSize=14)\n",
    "plt.show()\n"
   ]
  },
  {
   "cell_type": "code",
   "execution_count": null,
   "metadata": {},
   "outputs": [],
   "source": [
    "plt.scatter(common_subjects_prec_fr,common_subjects_prec_catfr)\n",
    "plt.xlim((0,1))\n",
    "plt.ylim((0,1))\n",
    "plt.plot([0,1],[0,1],'--k')\n",
    "plt.xlabel('Free Recall Prec',FontSize=14)\n",
    "plt.ylabel('Categorized Free Recall Prec',FontSize=14)\n",
    "plt.show()\n",
    "\n"
   ]
  },
  {
   "cell_type": "code",
   "execution_count": null,
   "metadata": {},
   "outputs": [],
   "source": [
    "# How similar is recall performance across subjects for the two tasks?\n",
    "# Use Pearson correlation to measure similarity\n",
    "np.corrcoef(common_subjects_prec_fr,common_subjects_prec_catfr)\n"
   ]
  },
  {
   "cell_type": "code",
   "execution_count": null,
   "metadata": {},
   "outputs": [],
   "source": [
    "print(np.random.random())\n",
    "print(np.random.random())\n",
    "print(np.random.random())"
   ]
  },
  {
   "cell_type": "code",
   "execution_count": null,
   "metadata": {},
   "outputs": [],
   "source": [
    "np.random.seed(1)\n",
    "print(np.random.random())\n",
    "print(np.random.random())\n",
    "print(np.random.random())"
   ]
  },
  {
   "cell_type": "code",
   "execution_count": null,
   "metadata": {},
   "outputs": [],
   "source": [
    "np.random.seed(1)\n",
    "print(np.random.random())\n",
    "print(np.random.random())\n",
    "print(np.random.random())"
   ]
  },
  {
   "cell_type": "code",
   "execution_count": null,
   "metadata": {},
   "outputs": [],
   "source": [
    "import time\n",
    "time.time()"
   ]
  },
  {
   "cell_type": "code",
   "execution_count": null,
   "metadata": {},
   "outputs": [],
   "source": [
    "np.random.seed(int(time.time()))\n",
    "np.random.random()"
   ]
  },
  {
   "cell_type": "code",
   "execution_count": null,
   "metadata": {},
   "outputs": [],
   "source": []
  }
 ],
 "metadata": {
  "kernelspec": {
   "display_name": "Python 3",
   "language": "python",
   "name": "python3"
  },
  "language_info": {
   "codemirror_mode": {
    "name": "ipython",
    "version": 3
   },
   "file_extension": ".py",
   "mimetype": "text/x-python",
   "name": "python",
   "nbconvert_exporter": "python",
   "pygments_lexer": "ipython3",
   "version": "3.7.3"
  }
 },
 "nbformat": 4,
 "nbformat_minor": 2
}
