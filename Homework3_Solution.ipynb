{
 "cells": [
  {
   "cell_type": "markdown",
   "metadata": {},
   "source": [
    "## Problem 1"
   ]
  },
  {
   "cell_type": "code",
   "execution_count": null,
   "metadata": {},
   "outputs": [],
   "source": [
    "from statistics import mean\n",
    "\n",
    "f = open('hw3_data.txt','r')\n",
    "full_data = f.readlines()\n",
    "line1 = full_data[0]\n",
    "f.close()"
   ]
  },
  {
   "cell_type": "code",
   "execution_count": null,
   "metadata": {},
   "outputs": [],
   "source": [
    "line1"
   ]
  },
  {
   "cell_type": "code",
   "execution_count": null,
   "metadata": {},
   "outputs": [],
   "source": [
    "# Split single line\n",
    "line1 = line1.strip('\\n')\n",
    "(subject,session,list_num,serialpos,word,recalled) = line1.split('\\t')"
   ]
  },
  {
   "cell_type": "code",
   "execution_count": null,
   "metadata": {},
   "outputs": [],
   "source": [
    "# Convert types to ones that make sense\n",
    "session = int(session)\n",
    "list_num = int(list_num)\n",
    "serialpos = int(serialpos)\n",
    "recalled = int(recalled)"
   ]
  },
  {
   "cell_type": "markdown",
   "metadata": {},
   "source": [
    "## Problem 2"
   ]
  },
  {
   "cell_type": "code",
   "execution_count": null,
   "metadata": {},
   "outputs": [],
   "source": [
    "# Get all the data into lists, print overall prec\n",
    "subject = []\n",
    "session = []\n",
    "list_num = []\n",
    "serialpos = []\n",
    "word = []\n",
    "recalled = []\n",
    "for iline in full_data:\n",
    "    iline = iline.strip('\\n')\n",
    "    (isubject,isession,ilist_num,iserialpos,iword,irecalled) = iline.split('\\t')\n",
    "    subject.append(isubject)\n",
    "    session.append(int(isession))\n",
    "    list_num.append(int(ilist_num))\n",
    "    serialpos.append(int(iserialpos))\n",
    "    word.append(iword)\n",
    "    recalled.append(int(irecalled))\n",
    "\n",
    "print(mean(recalled))"
   ]
  },
  {
   "cell_type": "markdown",
   "metadata": {},
   "source": [
    "## Problem 3"
   ]
  },
  {
   "cell_type": "code",
   "execution_count": null,
   "metadata": {},
   "outputs": [],
   "source": [
    "# Compute proportion recall by session\n",
    "prec_by_sess = []\n",
    "sessions_unique = list(set(session))\n",
    "for isess in sessions_unique:\n",
    "    curr_sess_recall = []\n",
    "    for itrial in range(0,len(recalled)):\n",
    "        if session[itrial] == isess:\n",
    "            curr_sess_recall.append(recalled[itrial])\n",
    "    prec_by_sess.append(mean(curr_sess_recall))\n",
    "\n",
    "print(prec_by_sess)            "
   ]
  },
  {
   "cell_type": "markdown",
   "metadata": {},
   "source": [
    "## Problem 4"
   ]
  },
  {
   "cell_type": "code",
   "execution_count": null,
   "metadata": {},
   "outputs": [],
   "source": [
    "# Bonus problem: serial position\n",
    "# Compute proportion recall by session\n",
    "prec_by_serialpos = []\n",
    "serialpos_unique = list(set(serialpos))\n",
    "for ipos in serialpos_unique:\n",
    "    curr_pos_recall = []\n",
    "    for itrial in range(0,len(recalled)):\n",
    "        if serialpos[itrial] == ipos:\n",
    "            curr_pos_recall.append(recalled[itrial])\n",
    "    prec_by_serialpos.append(mean(curr_pos_recall))\n",
    "\n",
    "print(prec_by_serialpos)"
   ]
  },
  {
   "cell_type": "markdown",
   "metadata": {},
   "source": [
    "## Bonus Problem"
   ]
  },
  {
   "cell_type": "code",
   "execution_count": null,
   "metadata": {},
   "outputs": [],
   "source": [
    "from psychopy import visual, core, event"
   ]
  },
  {
   "cell_type": "code",
   "execution_count": null,
   "metadata": {},
   "outputs": [],
   "source": [
    "# How about waiting for input from the user before continuing?\n",
    "f = open('wordpool.txt','r')\n",
    "wordpool = f.readlines()\n",
    "testprestime = 0.25\n",
    "responses = []\n",
    "\n",
    "testmode = False\n",
    "nwords = input('Number of words to present? ')\n",
    "\n",
    "# Check for invalid decimal input\n",
    "if (nwords.find('.') >= 0):\n",
    "    print('Cannot display %s words' %nwords)\n",
    "\n",
    "# Check for negative or > number of words input\n",
    "elif (int(nwords) > len(wordpool)) or (int(nwords) < 0): \n",
    "    print('Cannot display %s words' %nwords)\n",
    "    \n",
    "else:\n",
    "    nwords = int(nwords)\n",
    "    \n",
    "    # Loop through a series and present stimulus\n",
    "    win = visual.Window([600,600],pos=[0,0])\n",
    "\n",
    "    for ctr,word in enumerate(wordpool):\n",
    "        pressedkey = None\n",
    "        stim = visual.TextStim(win,text=word.strip('\\n'))\n",
    "        stim.draw() # vs .autoDraw=True\n",
    "        win.flip()\n",
    "        if testmode:\n",
    "            core.wait(testprestime)\n",
    "        else:\n",
    "            pressedkey = event.waitKeys(keyList=['j','k','q'])\n",
    "            responses += pressedkey\n",
    "        if ctr == nwords-1 or (pressedkey == ['q']):\n",
    "            break\n",
    "\n",
    "    win.close()\n",
    "    print(responses)\n"
   ]
  },
  {
   "cell_type": "code",
   "execution_count": null,
   "metadata": {},
   "outputs": [],
   "source": [
    "win.close()"
   ]
  },
  {
   "cell_type": "code",
   "execution_count": null,
   "metadata": {},
   "outputs": [],
   "source": []
  }
 ],
 "metadata": {
  "kernelspec": {
   "display_name": "Python 3",
   "language": "python",
   "name": "python3"
  },
  "language_info": {
   "codemirror_mode": {
    "name": "ipython",
    "version": 3
   },
   "file_extension": ".py",
   "mimetype": "text/x-python",
   "name": "python",
   "nbconvert_exporter": "python",
   "pygments_lexer": "ipython3",
   "version": "3.6.8"
  }
 },
 "nbformat": 4,
 "nbformat_minor": 4
}
