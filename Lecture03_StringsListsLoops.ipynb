{
 "cells": [
  {
   "cell_type": "markdown",
   "metadata": {},
   "source": [
    "## Problem 1\n",
    "In this problem you’ll practice writing code in a Jupyter notebook to create and manipulate strings.\n",
    "\n",
    "Create two variables of type string, one each for your first and last names. In the variable for your first name include several whitespace characters at the end of the string--for your last name, include several whitespace characters at the beginning of the string. Display those two strings on the same line (print) and then display them on separate lines but using a single command (hint: \\n). Then, in a new cell, remove the whitespace characters and display your first and last name on a single line. \n",
    "\n",
    "Python has methods for strings that convert them to upper and lower case: use one of these methods each on your first and last names and print out the results.\n"
   ]
  },
  {
   "cell_type": "code",
   "execution_count": null,
   "metadata": {},
   "outputs": [],
   "source": [
    "# Methods for formatting strings\n",
    "first = \"Youssef     \"\n",
    "last = \"     Ezzyat\"\n",
    "\n",
    "print(first + last)\n",
    "print(first + \"\\n\" + last)"
   ]
  },
  {
   "cell_type": "code",
   "execution_count": null,
   "metadata": {},
   "outputs": [],
   "source": [
    "# .rstrip() is a METHOD of the string object 'first'.\n",
    "first = first.rstrip()\n",
    "last = last.lstrip()"
   ]
  },
  {
   "cell_type": "code",
   "execution_count": null,
   "metadata": {},
   "outputs": [],
   "source": [
    "print(first + \" \" + last)"
   ]
  },
  {
   "cell_type": "code",
   "execution_count": null,
   "metadata": {},
   "outputs": [],
   "source": [
    "# There are other methods for performing other operations on strings\n",
    "print(first.upper())\n",
    "print(last.lower())"
   ]
  },
  {
   "cell_type": "markdown",
   "metadata": {},
   "source": [
    "## Problem 2\n",
    "Sometimes you want to store more than one piece of information in a variable--one way to do this is in a Python object called a list. In this problem you’ll practice creating and manipulating lists.\n",
    "\n",
    "Create a list of at least 4 strings of your choice (when I did this I used ingredients for a salad) Print the full list, then show how you can access the first, third, and last elements of the list, and print them as output. Next, print the length of the list to the output.\n",
    "\n",
    "Python has a method for adding items to the end of the list--use this method to add another item to your list and show the new list in the output. Next, show how you would remove the item from the list. Store this item in a new variable. Next, show in the output a sorted version of your list. Do this both in forward and reverse alphabetical order.\n",
    "\n",
    "We are often interested in accessing multiple items from a list. Use slice indexing to print multiple items from the list at once. What does the first term in the slice index refer to? What about the second?\n",
    "\n",
    "Now, copy your list into a new variable. Change one element of your original list and show that it doesn’t affect the contents of the new copy of your list.\n"
   ]
  },
  {
   "cell_type": "code",
   "execution_count": 19,
   "metadata": {},
   "outputs": [
    {
     "name": "stdout",
     "output_type": "stream",
     "text": [
      "['tomato', 'basil', 'mozarella', 'vinegar']\n",
      "[3.5, 2.0, 5.0, 3.0]\n",
      "4\n"
     ]
    },
    {
     "data": {
      "text/plain": [
       "13.5"
      ]
     },
     "execution_count": 19,
     "metadata": {},
     "output_type": "execute_result"
    }
   ],
   "source": [
    "# Sometimes you want to store more than one thing in a variable--one way to do this\n",
    "# is to create a list\n",
    "salad = [\"tomato\", \"basil\", \"mozarella\", \"vinegar\"]\n",
    "price = [3.50, 2.00, 5.00, 3.00]\n",
    "print(salad)\n",
    "print(price)\n",
    "print(len(salad))\n",
    "sum(price)"
   ]
  },
  {
   "cell_type": "code",
   "execution_count": null,
   "metadata": {},
   "outputs": [],
   "source": [
    "# Use position indexing to access values in a list. Python indexes lists starting from zero.\n",
    "# To access the last element in a list, use [-1].\n",
    "print(salad[0])\n",
    "print(salad[2])\n",
    "print(salad[-1])"
   ]
  },
  {
   "cell_type": "code",
   "execution_count": null,
   "metadata": {},
   "outputs": [],
   "source": [
    "# The .append() method can be used to add items to the end of the list. Use .insert() to\n",
    "# place an item in a particular position in the list.\n",
    "salad.append(\"baguette\")\n",
    "salad.insert(1,\"olive oil\") # Insert occurs at position 1\n",
    "print(salad)"
   ]
  },
  {
   "cell_type": "code",
   "execution_count": null,
   "metadata": {},
   "outputs": [],
   "source": [
    "# Use del command to remove an item in a particular position from a list.\n",
    "del salad[-1]\n",
    "print(salad)"
   ]
  },
  {
   "cell_type": "code",
   "execution_count": null,
   "metadata": {},
   "outputs": [],
   "source": [
    "salad.append(\"baguette\")\n",
    "print(salad)"
   ]
  },
  {
   "cell_type": "code",
   "execution_count": null,
   "metadata": {},
   "outputs": [],
   "source": [
    "# The .pop() method is useful if you want to store the removed element in a variable for use later.\n",
    "unused_ingredient = salad.pop()\n",
    "print(salad)\n",
    "print(unused_ingredient)"
   ]
  },
  {
   "cell_type": "code",
   "execution_count": null,
   "metadata": {},
   "outputs": [],
   "source": [
    "# If you don't know the element of the item you want to remove but you know its name you can\n",
    "# use .remove() to remove it by name\n",
    "salad.append(\"baguette\")\n",
    "print(salad)\n",
    "salad.remove(\"baguette\")\n",
    "print(salad)"
   ]
  },
  {
   "cell_type": "code",
   "execution_count": null,
   "metadata": {},
   "outputs": [],
   "source": [
    "# If you want to view your list sorted \n",
    "# There is a .sort() method that sorts items in ascending alphabetical or numerical order.\n",
    "salad.sort()\n",
    "print(salad)"
   ]
  },
  {
   "cell_type": "code",
   "execution_count": null,
   "metadata": {},
   "outputs": [],
   "source": [
    "# You can also sort in descending order by including an input to the .sort() method\n",
    "price.sort(reverse=True)\n",
    "print(price)"
   ]
  },
  {
   "cell_type": "code",
   "execution_count": null,
   "metadata": {},
   "outputs": [],
   "source": [
    "print(salad[0:2])"
   ]
  },
  {
   "cell_type": "markdown",
   "metadata": {},
   "source": [
    "## Problem 3\n",
    "In a new cell block print each element of your list, but perform at least one string operation on the element before printing (e.g. .upper, .lower, .title). In the same cell block, also print some kind of statement about the list outside of the loop (e.g. “This salad tastes best in summer.”)."
   ]
  },
  {
   "cell_type": "code",
   "execution_count": null,
   "metadata": {},
   "outputs": [],
   "source": [
    "# Sometimes you'll want to run the same block of code several times,\n",
    "# for example iterating through each element of a list\n",
    "\n",
    "# You can use the for loop to step through each element of a list and execute\n",
    "# one or more commands.\n",
    "\n",
    "# for loop syntax:\n",
    "# for ITERABLE in LIST:\n",
    "#    code to execute on ITERABLE\n",
    "\n",
    "salad = [\"tomato\", \"olive oil\", \"basil\", \"mozarella\", \"vinegar\", \"baguette\"]\n",
    "for ingredient in salad:\n",
    "    print(ingredient)"
   ]
  },
  {
   "cell_type": "code",
   "execution_count": null,
   "metadata": {},
   "outputs": [],
   "source": [
    "# Any lines of code that are indented after the first line of the loop\n",
    "# will be executed with each iteration of the loop.\n",
    "for ingredient in salad:\n",
    "    print(ingredient)\n",
    "    print(salad)"
   ]
  },
  {
   "cell_type": "code",
   "execution_count": null,
   "metadata": {},
   "outputs": [],
   "source": [
    "# If you forget to indent at least one line in the loop Python will let you know\n",
    "for ingredient in salad:\n",
    "print(ingredient)"
   ]
  },
  {
   "cell_type": "code",
   "execution_count": null,
   "metadata": {},
   "outputs": [],
   "source": [
    "for ingredient in salad:\n",
    "    print(ingredient.title() + \" is a key ingredient.\")\n",
    "\n",
    "print(\"\\nThis salad tastes best the summer.\")"
   ]
  },
  {
   "cell_type": "markdown",
   "metadata": {},
   "source": [
    "## Problem 4\n",
    "Next, create a new variable with a numeric list of at least 6 elements. Write a loop to calculate the sum of the elements in the list and store this in a new variable. Your loop should include a variable that holds the value of a running sum that is updated each time through the loop. Then, when the loop is finished running, print out the value of this running sum, which will be equal to the sum of all elements in the list.\n",
    "\n",
    "Now show how to do this using a built-in Python function for computing the sum using just one line of code.\n",
    "\n",
    "Write another loop that creates a new list that is the cumulative sum of the elements in the original list:\n",
    "\n",
    "\tOriginal_List = [1, 2, 3, 4]\n",
    "\tCumulative_sum_list = [1, 3, 6, 10]\n",
    "\n",
    "Print out both your original list and the cumulative sum list."
   ]
  },
  {
   "cell_type": "code",
   "execution_count": null,
   "metadata": {},
   "outputs": [],
   "source": [
    "# Use the built-in functions list and range to create a numeric list from a sequence of numbers\n",
    "# Syntax for range function:\n",
    "#     range(start value, stop value, step[optional])\n",
    "numeric_list = list(range(1,10))\n",
    "print(numeric_list)"
   ]
  },
  {
   "cell_type": "code",
   "execution_count": null,
   "metadata": {},
   "outputs": [],
   "source": [
    "# You could use a loop to compute the sum of the elements in a list.\n",
    "\n",
    "# First, you might initialize a variable list_sum to be 0 (i.e. before\n",
    "# you've added any numbers, the sum of the list is 0)\n",
    "list_sum = 0\n",
    "\n",
    "# Then, you could loop through each number in the list and add it in turn\n",
    "# to list_sum.\n",
    "for value in numeric_list:\n",
    "    list_sum = list_sum + value\n",
    "print(list_sum)"
   ]
  },
  {
   "cell_type": "code",
   "execution_count": null,
   "metadata": {},
   "outputs": [],
   "source": [
    "# Although a loop is one way to compute the sum of the numbers in a list,\n",
    "# Python has a built-in function sum() that is defined for numeric lists\n",
    "# and will do this for you in one function call.\n",
    "sum(numeric_list)\n",
    "\n",
    "# There are built-in Python functions that exist for many of these kinds of\n",
    "# common operations."
   ]
  },
  {
   "cell_type": "code",
   "execution_count": null,
   "metadata": {},
   "outputs": [],
   "source": [
    "cumulative_sum = []\n",
    "for counter in range(0,len(numeric_list)):\n",
    "    cumulative_sum.append(sum(numeric_list[0:counter+1]))\n",
    "\n",
    "print(numeric_list)\n",
    "print(cumulative_sum)"
   ]
  }
 ],
 "metadata": {
  "kernelspec": {
   "display_name": "Python 3",
   "language": "python",
   "name": "python3"
  },
  "language_info": {
   "codemirror_mode": {
    "name": "ipython",
    "version": 3
   },
   "file_extension": ".py",
   "mimetype": "text/x-python",
   "name": "python",
   "nbconvert_exporter": "python",
   "pygments_lexer": "ipython3",
   "version": "3.7.3"
  }
 },
 "nbformat": 4,
 "nbformat_minor": 2
}
