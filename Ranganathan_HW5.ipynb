{
 "cells": [
  {
   "cell_type": "markdown",
   "metadata": {},
   "source": [
    "## PROBLEM 1"
   ]
  },
  {
   "cell_type": "code",
   "execution_count": null,
   "metadata": {},
   "outputs": [],
   "source": [
    "#Code from class"
   ]
  },
  {
   "cell_type": "code",
   "execution_count": null,
   "metadata": {},
   "outputs": [],
   "source": [
    "import numpy as np\n",
    "import matplotlib.pyplot as plt\n",
    "import pandas as pd\n",
    "import scipy.stats as st\n",
    "\n",
    "from zipfile import ZipFile\n",
    "import os\n",
    "import statistics"
   ]
  },
  {
   "cell_type": "code",
   "execution_count": null,
   "metadata": {},
   "outputs": [],
   "source": [
    "with ZipFile(\"PSYC027_INTEGRATE_data.zip\", 'r') as zip:\n",
    "    #zip.printdir() \n",
    "  \n",
    "    print('Extracting all the files now...') \n",
    "    zip.extractall() \n",
    "    print('Done!') "
   ]
  },
  {
   "cell_type": "code",
   "execution_count": null,
   "metadata": {},
   "outputs": [],
   "source": [
    "z = zip.namelist()\n",
    "z = z[1:]\n",
    "#print(z)"
   ]
  },
  {
   "cell_type": "code",
   "execution_count": null,
   "metadata": {},
   "outputs": [],
   "source": [
    "data2 = pd.read_csv(\"PSYC027_INTEGRATE_data/data_S05_INTEGRATE_fMRI1_Retrieval.txt\",sep='\\\\t')\n",
    "data2.head()"
   ]
  },
  {
   "cell_type": "code",
   "execution_count": null,
   "metadata": {},
   "outputs": [],
   "source": [
    "data2.RT.head()"
   ]
  },
  {
   "cell_type": "code",
   "execution_count": null,
   "metadata": {},
   "outputs": [],
   "source": [
    "data2.Accuracy.head()"
   ]
  },
  {
   "cell_type": "code",
   "execution_count": null,
   "metadata": {},
   "outputs": [],
   "source": [
    "for subject in z:\n",
    "    #code from class\n",
    "    #print(subject)\n",
    "    data = pd.read_csv(subject,sep='\\\\t')\n",
    "    p = data.head()\n",
    "    #print(p)\n",
    "    #print(data.PairType)"
   ]
  },
  {
   "cell_type": "code",
   "execution_count": null,
   "metadata": {},
   "outputs": [],
   "source": [
    "mu = np.mean(data.RT)\n",
    "sd = np.std(data.RT)"
   ]
  },
  {
   "cell_type": "code",
   "execution_count": null,
   "metadata": {},
   "outputs": [],
   "source": [
    "# Priming analysis\n",
    "\n",
    "# Boundary vs NonBoundary: data.BoundaryType == 'B'\n",
    "# Consecutive items only: data.PairType=='P23'\n",
    "# data.PrimeType=='P2' - data.PrimeType=='P1'\n",
    "# data.Accuracy==1\n",
    "# zscore < nSDs (5)\n",
    "\n",
    "    \n",
    "priming_b = []\n",
    "priming_nb = []\n",
    "priming_baseline = []\n",
    "nSDs = 5"
   ]
  },
  {
   "cell_type": "code",
   "execution_count": null,
   "metadata": {},
   "outputs": [],
   "source": [
    "for subject in z:\n",
    "    #code from class\n",
    "    print(subject)\n",
    "    data = pd.read_csv(subject,sep='\\\\t')\n",
    "    #print(data.head())\n",
    "    zscores = st.zscore(data.RT)\n",
    "    \n",
    "    #Initiatilize new lists for each subject to calculate average\n",
    "    #this average would then be appended to priming_b\n",
    "    priming_b_bysubject = []\n",
    "    priming_nb_bysubject = []\n",
    "    priming_baseline_bysubject = []\n",
    "\n",
    "\n",
    "    for ctr,iRT in enumerate(data.RT):\n",
    "        #print(ctr)\n",
    "\n",
    "        # if it's the first trial, pass\n",
    "        if ctr==0:\n",
    "            pass\n",
    "        else:\n",
    "            # Check that the current trial satisfies our criteria\n",
    "            #  First check is PrimeType=='P2'\n",
    "            #AND\n",
    "            # Consecutive items only: data.PairType=='P23'\n",
    "            \n",
    "            \n",
    "            #condition 1\n",
    "            validcurrent = data.PairType[ctr]=='P23' and data.PrimeType[ctr]=='P2' and \\\n",
    "                data.Accuracy[ctr]==1 and zscores[ctr] < nSDs\n",
    "\n",
    "            #condition 2\n",
    "            # data.PrimeType=='P2' - data.PrimeType=='P1'\n",
    "            validprev = data.PairType[ctr-1]=='P23' and data.PrimeType[ctr-1]=='P1' and \\\n",
    "                data.Accuracy[ctr-1]==1 and zscores[ctr-1] < nSDs\n",
    "\n",
    "            #condition 3\n",
    "            if validcurrent & validprev:\n",
    "                if data.BoundaryType[ctr]=='B' and data.BoundaryType[ctr-1]=='B':\n",
    "                    priming_b_bysubject = np.append(priming_b_bysubject,data.RT[ctr]-data.RT[ctr-1])\n",
    "                    \n",
    "                elif data.BoundaryType[ctr]=='NB' and data.BoundaryType[ctr-1]=='NB':\n",
    "                    priming_nb_bysubject = np.append(priming_nb_bysubject,data.RT[ctr]-data.RT[ctr-1])\n",
    "                    \n",
    "                    \n",
    "             #condition 4\n",
    "            else:\n",
    "                validbaseline = data.ItemOldNew[ctr]=='old' and \\\n",
    "                    data.ItemOldNew[ctr-1]=='old' and \\\n",
    "                    data.Accuracy[ctr]==1 and data.Accuracy[ctr-1]==1 and \\\n",
    "                    zscores[ctr] < nSDs and zscores[ctr-1] < nSDs\n",
    "                if validbaseline:\n",
    "                    priming_baseline_bysubject = np.append(priming_baseline_bysubject,data.RT[ctr]-data.RT[ctr-1])\n",
    "                    \n",
    "            #calculate averages and append\n",
    "    a = np.nanmean(priming_b_bysubject)\n",
    "    b = np.nanmean(priming_nb_bysubject)\n",
    "    c = np.nanmean(priming_baseline_bysubject)\n",
    "\n",
    "    priming_b = np.append(priming_b,a)\n",
    "    priming_nb = np.append(priming_nb,b)\n",
    "    priming_baseline = np.append(priming_baseline,c)\n"
   ]
  },
  {
   "cell_type": "code",
   "execution_count": null,
   "metadata": {},
   "outputs": [],
   "source": [
    "priming_b_bysubject"
   ]
  },
  {
   "cell_type": "code",
   "execution_count": null,
   "metadata": {},
   "outputs": [],
   "source": [
    "priming_b"
   ]
  },
  {
   "cell_type": "code",
   "execution_count": null,
   "metadata": {},
   "outputs": [],
   "source": [
    "print(priming_b.shape)\n",
    "#print(priming_b)\n",
    "\n",
    "print(priming_nb.shape)\n",
    "#print(priming_nb)\n",
    "\n",
    "print(priming_baseline.shape)\n",
    "#print(priming_baseline)"
   ]
  },
  {
   "cell_type": "code",
   "execution_count": null,
   "metadata": {},
   "outputs": [],
   "source": [
    "print(np.nanmean(priming_b))\n",
    "print(np.nanmean(priming_nb))\n",
    "print(np.nanmean(priming_baseline))"
   ]
  },
  {
   "cell_type": "code",
   "execution_count": null,
   "metadata": {},
   "outputs": [],
   "source": [
    "#creating a graph\n",
    "m1 = np.nanmean(priming_b)\n",
    "m2 = np.nanmean(priming_nb)\n",
    "m3 = np.nanmean(priming_baseline)\n",
    "\n",
    "objects = (\"B\", \"NB\", \"Control\")\n",
    "y_pos = np.arange(len(objects))\n",
    "means = [m1, m2, m3]\n"
   ]
  },
  {
   "cell_type": "code",
   "execution_count": null,
   "metadata": {},
   "outputs": [],
   "source": [
    "plt.bar(y_pos, means, align='center', alpha=0.5)\n",
    "plt.xticks(y_pos, objects)\n",
    "plt.ylabel('RT (ms)')\n",
    "plt.xlabel('Condition name')"
   ]
  },
  {
   "cell_type": "code",
   "execution_count": null,
   "metadata": {},
   "outputs": [],
   "source": [
    "#compare 21 and 21 shaped arrays for each subject\n",
    "print(st.ttest_rel(priming_b,priming_nb))\n",
    "print(st.ttest_rel(priming_b,priming_baseline))\n",
    "print(st.ttest_rel(priming_nb,priming_baseline))"
   ]
  },
  {
   "cell_type": "markdown",
   "metadata": {},
   "source": [
    "### THERE IS A SIGNIFICANT DIFFERENCE IN PRIMING. this still holds while comparing to the baseline condition.\n",
    "for boundary conditon, the subjects on average recalled the second word FASTER than the first word (hence the positive difference between w1-w2). for the non-boundary conditon, the subhects on average recalled the second word SLOWER than the first word (hence the negative difference between w1-w2). "
   ]
  },
  {
   "cell_type": "code",
   "execution_count": null,
   "metadata": {},
   "outputs": [],
   "source": [
    "%whos"
   ]
  },
  {
   "cell_type": "markdown",
   "metadata": {},
   "source": [
    "## PROBLEM 2"
   ]
  },
  {
   "cell_type": "code",
   "execution_count": 3,
   "metadata": {},
   "outputs": [],
   "source": [
    "from psychopy import visual, core, event\n",
    "import random\n",
    "import numpy as np\n",
    "import pandas as pd\n",
    "from zipfile import ZipFile"
   ]
  },
  {
   "cell_type": "code",
   "execution_count": 4,
   "metadata": {},
   "outputs": [],
   "source": [
    "text_file = open(\"wordpool.txt\", \"r\")\n",
    "words = text_file.readlines()"
   ]
  },
  {
   "cell_type": "code",
   "execution_count": 5,
   "metadata": {},
   "outputs": [
    {
     "data": {
      "text/plain": [
       "1000"
      ]
     },
     "execution_count": 5,
     "metadata": {},
     "output_type": "execute_result"
    }
   ],
   "source": [
    "words[0:100]\n",
    "len(words)"
   ]
  },
  {
   "cell_type": "code",
   "execution_count": 6,
   "metadata": {},
   "outputs": [],
   "source": [
    "def experiment(ntargets,nlures):\n",
    "    int(ntargets)\n",
    "    int(nlures)\n",
    "    lure_indexes = []\n",
    "    target_indexes = []\n",
    "    \n",
    "    for i in range(ntargets):\n",
    "        r=random.randint(1,len(words))\n",
    "        target_indexes.append(r)\n",
    "    \n",
    "    for i in range(nlures):\n",
    "        r=random.randint(1,len(words))\n",
    "        while r in target_indexes:\n",
    "            r=random.randint(1,len(words))\n",
    "        lure_indexes.append(r)\n",
    "    \n",
    "    print(target_indexes)\n",
    "    print(lure_indexes)\n",
    "    \n",
    "    return target_indexes, lure_indexes"
   ]
  },
  {
   "cell_type": "code",
   "execution_count": 7,
   "metadata": {},
   "outputs": [
    {
     "name": "stdout",
     "output_type": "stream",
     "text": [
      "[812, 215, 58]\n",
      "[218, 635, 403]\n"
     ]
    }
   ],
   "source": [
    "targets, lures = experiment(3, 3)"
   ]
  },
  {
   "cell_type": "code",
   "execution_count": 8,
   "metadata": {},
   "outputs": [],
   "source": [
    "def learning_phase(pres_lenth=1.0):\n",
    "    win = visual.Window([400,400],pos=[0,0])\n",
    "    \n",
    "    for target in targets:\n",
    "        wd = visual.TextStim(win, text = words[target])\n",
    "        wd.draw()\n",
    "\n",
    "        #flip window\n",
    "        win.flip()\n",
    "        core.wait(pres_lenth)\n",
    "\n",
    "    win.close()"
   ]
  },
  {
   "cell_type": "code",
   "execution_count": 10,
   "metadata": {},
   "outputs": [
    {
     "data": {
      "text/plain": [
       "403"
      ]
     },
     "execution_count": 10,
     "metadata": {},
     "output_type": "execute_result"
    }
   ],
   "source": [
    "lures[2]"
   ]
  },
  {
   "cell_type": "code",
   "execution_count": null,
   "metadata": {},
   "outputs": [],
   "source": [
    "learning_phase()"
   ]
  },
  {
   "cell_type": "code",
   "execution_count": null,
   "metadata": {},
   "outputs": [],
   "source": [
    "a = 4\n",
    "subject_number = 1\n",
    "subject_arr = np.full((a,),subject_number)\n",
    "subject_arr = list(subject_arr)"
   ]
  },
  {
   "cell_type": "code",
   "execution_count": null,
   "metadata": {},
   "outputs": [],
   "source": [
    "subject_arr"
   ]
  },
  {
   "cell_type": "code",
   "execution_count": 25,
   "metadata": {},
   "outputs": [],
   "source": [
    "def test_phase(subject_number):\n",
    "    import pandas as pd \n",
    "\n",
    "    all_indexes = targets + lures\n",
    "    print(all_indexes)\n",
    "    random.shuffle(all_indexes)\n",
    "    print(len(all_indexes))\n",
    "    \n",
    "    #creating the first list for our pandas dataframe\n",
    "    subject_number = int(subject_number)\n",
    "    subject_repeated = np.full((len(all_indexes),),subject_number)\n",
    "    subject_repeated = list(subject_repeated) #done\n",
    "    print(subject_repeated)\n",
    "    \n",
    "   \n",
    "    #creating the rest of the lists for our pandas dataframe\n",
    "    all_words = [] #done\n",
    "    status_list = []\n",
    "    pressedkeys = []\n",
    "    old_or_new = []\n",
    "    response_times = []\n",
    "    confidence_ratings = []\n",
    "    \n",
    "    target_results = []\n",
    "    lure_results = []\n",
    "    final_results = []\n",
    "    \n",
    "    \n",
    "    #creating the window to present the words\n",
    "    \n",
    "    win = visual.Window([400,400],pos=[100,100])\n",
    "    message = visual.TextStim(win, text = \"press j for OLD and k for NEW\", pos=[.5,0])\n",
    "    message.draw()\n",
    "    win.flip()\n",
    "    core.wait(2.0)\n",
    "\n",
    "    \n",
    "    for word in all_indexes:\n",
    "        all_words.append(word)\n",
    "        if word in targets: \n",
    "            status_list.append(\"target\")\n",
    "        else:\n",
    "            status_list.append(\"lure\")\n",
    "                \n",
    "        message = visual.TextStim(win, text = words[word], pos=[.5,0])\n",
    "        message.draw()\n",
    "        win.flip()\n",
    "        \n",
    "        #adding in stopwatch for timekeeping\n",
    "        prestime = core.getTime()\n",
    "        \n",
    "        #checking for what key was pressed and appending to list\n",
    "        pk = event.waitKeys(keyList = [\"j\", \"k\"],timeStamped=True)\n",
    "        print(pk) #should be a list of lists\n",
    "        \n",
    "        response = str(pk[0][0])\n",
    "        pressedkeys.append(response)\n",
    "        response_times.append(pk[0][1]-prestime)\n",
    "\n",
    "        \n",
    "        if response == \"j\":\n",
    "            old_or_new.append(\"old\")\n",
    "        else:\n",
    "            old_or_new.append(\"new\")\n",
    "\n",
    "        \n",
    "        #FOR EVEN SUBJECT NUMBERS\n",
    "        if (subject_number%2) == 0:\n",
    "            message = visual.TextStim(win, text = \"on a scale of 1 to 5, how certain are you? 1= surenew and 5 = sureold\", pos=[.5,0])\n",
    "            message.draw()\n",
    "            win.flip()\n",
    "            \n",
    "            #checking for what confidence was pressed and appending to list\n",
    "            rating = event.waitKeys(keyList = [\"1\", \"2\", \"3\", \"4\", \"5\"])\n",
    "            print(rating) \n",
    "            confidence = str(rating[0])\n",
    "            confidence_ratings.append(confidence)\n",
    "        \n",
    "        \n",
    "        #FOR ODD SUBJECT NUMBERS\n",
    "        if (subject_number%2) == 1:\n",
    "            message = visual.TextStim(win, text = \"on a scale of 1 to 5, how certain are you? 1 = sureold and 5 = surenew\", pos=[.5,0])\n",
    "            message.draw()\n",
    "            win.flip()\n",
    "            \n",
    "            rating = event.waitKeys(keyList = [\"1\", \"2\", \"3\", \"4\", \"5\"])\n",
    "            print(rating) \n",
    "            confidence = str(rating[0])            \n",
    "            if confidence == \"1\":\n",
    "                confidence = \"5\"\n",
    "            elif confidence == \"2\":\n",
    "                confidence = \"4\"\n",
    "            elif confidence == \"4\":\n",
    "                confidence = \"2\"\n",
    "            elif confidence == \"5\":\n",
    "                confidence = \"1\"\n",
    "            \n",
    "            confidence_ratings.append(confidence)   \n",
    "            \n",
    "\n",
    "        \n",
    "        if word in targets and response == \"j\":\n",
    "            final_results.append(\"hit\")\n",
    "            target_results.append(1) #CORRECT response to a target\n",
    "        elif word in targets and response == \"k\":\n",
    "            final_results.append(\"miss\")\n",
    "            target_results.append(0) \n",
    "            \n",
    "        if word in lures and response == \"k\":\n",
    "            final_results.append(\"correct_rejection\")\n",
    "            lure_results.append(1)  #CORRECT response to a lure\n",
    "        \n",
    "\n",
    "        elif word in lures and response == \"j\":\n",
    "            final_results.append(\"false_alarm\")\n",
    "            lure_results.append(0)\n",
    "    \n",
    "\n",
    "    win.close()\n",
    "    \n",
    "\n",
    "    df = pd.DataFrame(list(zip(subject_repeated, all_words, status_list, pressedkeys, old_or_new, confidence_ratings, response_times, final_results)), \n",
    "               columns =['Subject_Number', 'Word', \"Status\", \"Response_Button\", \"Old/New\", \"Confidence\", \"RespTime\", \"Response_Type\"])\n",
    "    return df"
   ]
  },
  {
   "cell_type": "code",
   "execution_count": 29,
   "metadata": {},
   "outputs": [
    {
     "name": "stdout",
     "output_type": "stream",
     "text": [
      "[812, 215, 58, 218, 635, 403]\n",
      "6\n",
      "[101, 101, 101, 101, 101, 101]\n",
      "[['j', 489.72378878100426]]\n",
      "['1']\n",
      "[['j', 490.10852595302276]]\n",
      "['1']\n",
      "[['j', 490.48574084902066]]\n",
      "['1']\n",
      "[['j', 490.8210552240198]]\n",
      "['1']\n",
      "[['j', 491.1204292430193]]\n",
      "['1']\n",
      "[['j', 491.4199253420229]]\n",
      "['1']\n",
      "485.8287 \tWARNING \tMonitor specification not found. Creating a temporary one...\n"
     ]
    }
   ],
   "source": [
    "test_phase_results = test_phase(101)"
   ]
  },
  {
   "cell_type": "code",
   "execution_count": 30,
   "metadata": {},
   "outputs": [
    {
     "data": {
      "text/html": [
       "<div>\n",
       "<style scoped>\n",
       "    .dataframe tbody tr th:only-of-type {\n",
       "        vertical-align: middle;\n",
       "    }\n",
       "\n",
       "    .dataframe tbody tr th {\n",
       "        vertical-align: top;\n",
       "    }\n",
       "\n",
       "    .dataframe thead th {\n",
       "        text-align: right;\n",
       "    }\n",
       "</style>\n",
       "<table border=\"1\" class=\"dataframe\">\n",
       "  <thead>\n",
       "    <tr style=\"text-align: right;\">\n",
       "      <th></th>\n",
       "      <th>Subject_Number</th>\n",
       "      <th>Word</th>\n",
       "      <th>Status</th>\n",
       "      <th>Response_Button</th>\n",
       "      <th>Old/New</th>\n",
       "      <th>Confidence</th>\n",
       "      <th>RespTime</th>\n",
       "      <th>Response_Type</th>\n",
       "    </tr>\n",
       "  </thead>\n",
       "  <tbody>\n",
       "    <tr>\n",
       "      <th>0</th>\n",
       "      <td>101</td>\n",
       "      <td>58</td>\n",
       "      <td>target</td>\n",
       "      <td>j</td>\n",
       "      <td>old</td>\n",
       "      <td>5</td>\n",
       "      <td>1.066025</td>\n",
       "      <td>hit</td>\n",
       "    </tr>\n",
       "    <tr>\n",
       "      <th>1</th>\n",
       "      <td>101</td>\n",
       "      <td>403</td>\n",
       "      <td>lure</td>\n",
       "      <td>j</td>\n",
       "      <td>old</td>\n",
       "      <td>5</td>\n",
       "      <td>0.212501</td>\n",
       "      <td>false_alarm</td>\n",
       "    </tr>\n",
       "    <tr>\n",
       "      <th>2</th>\n",
       "      <td>101</td>\n",
       "      <td>215</td>\n",
       "      <td>target</td>\n",
       "      <td>j</td>\n",
       "      <td>old</td>\n",
       "      <td>5</td>\n",
       "      <td>0.179335</td>\n",
       "      <td>hit</td>\n",
       "    </tr>\n",
       "    <tr>\n",
       "      <th>3</th>\n",
       "      <td>101</td>\n",
       "      <td>812</td>\n",
       "      <td>target</td>\n",
       "      <td>j</td>\n",
       "      <td>old</td>\n",
       "      <td>5</td>\n",
       "      <td>0.148275</td>\n",
       "      <td>hit</td>\n",
       "    </tr>\n",
       "    <tr>\n",
       "      <th>4</th>\n",
       "      <td>101</td>\n",
       "      <td>635</td>\n",
       "      <td>lure</td>\n",
       "      <td>j</td>\n",
       "      <td>old</td>\n",
       "      <td>5</td>\n",
       "      <td>0.114222</td>\n",
       "      <td>false_alarm</td>\n",
       "    </tr>\n",
       "    <tr>\n",
       "      <th>5</th>\n",
       "      <td>101</td>\n",
       "      <td>218</td>\n",
       "      <td>lure</td>\n",
       "      <td>j</td>\n",
       "      <td>old</td>\n",
       "      <td>5</td>\n",
       "      <td>0.113926</td>\n",
       "      <td>false_alarm</td>\n",
       "    </tr>\n",
       "  </tbody>\n",
       "</table>\n",
       "</div>"
      ],
      "text/plain": [
       "   Subject_Number  Word  Status Response_Button Old/New Confidence  RespTime  \\\n",
       "0             101    58  target               j     old          5  1.066025   \n",
       "1             101   403    lure               j     old          5  0.212501   \n",
       "2             101   215  target               j     old          5  0.179335   \n",
       "3             101   812  target               j     old          5  0.148275   \n",
       "4             101   635    lure               j     old          5  0.114222   \n",
       "5             101   218    lure               j     old          5  0.113926   \n",
       "\n",
       "  Response_Type  \n",
       "0           hit  \n",
       "1   false_alarm  \n",
       "2           hit  \n",
       "3           hit  \n",
       "4   false_alarm  \n",
       "5   false_alarm  "
      ]
     },
     "execution_count": 30,
     "metadata": {},
     "output_type": "execute_result"
    }
   ],
   "source": [
    "test_phase_results"
   ]
  },
  {
   "cell_type": "code",
   "execution_count": null,
   "metadata": {},
   "outputs": [],
   "source": []
  },
  {
   "cell_type": "code",
   "execution_count": null,
   "metadata": {},
   "outputs": [],
   "source": [
    "rts"
   ]
  },
  {
   "cell_type": "code",
   "execution_count": null,
   "metadata": {},
   "outputs": [],
   "source": [
    "m = np.mean(tgt_results)\n",
    "print(\"the hit rate is %s\" %m) #how many participants pressed 1 correctly in the targets "
   ]
  },
  {
   "cell_type": "code",
   "execution_count": null,
   "metadata": {},
   "outputs": [],
   "source": [
    "n = 1- np.mean(l_results) #how many participants pressed 0 in the lures\n",
    "print(\"the false alarm rate is %s\" %n)"
   ]
  },
  {
   "cell_type": "code",
   "execution_count": null,
   "metadata": {},
   "outputs": [],
   "source": [
    "tgt_results"
   ]
  },
  {
   "cell_type": "code",
   "execution_count": null,
   "metadata": {},
   "outputs": [],
   "source": [
    "l_results"
   ]
  },
  {
   "cell_type": "code",
   "execution_count": null,
   "metadata": {},
   "outputs": [],
   "source": [
    "len(tgt_results)"
   ]
  },
  {
   "cell_type": "code",
   "execution_count": null,
   "metadata": {},
   "outputs": [],
   "source": [
    "len(l_results)"
   ]
  },
  {
   "cell_type": "code",
   "execution_count": null,
   "metadata": {},
   "outputs": [],
   "source": [
    "lst = [1,4,6]\n",
    "lst2 = [5,6]\n",
    "test_df = pd.DataFrame(list(zip(lst, lst2)), \n",
    "               columns =['list1', 'list2'])"
   ]
  },
  {
   "cell_type": "code",
   "execution_count": null,
   "metadata": {},
   "outputs": [],
   "source": [
    "test_df"
   ]
  },
  {
   "cell_type": "code",
   "execution_count": null,
   "metadata": {},
   "outputs": [],
   "source": [
    "test_phase_results.to_csv(\"all_data.csv\")"
   ]
  },
  {
   "cell_type": "markdown",
   "metadata": {},
   "source": [
    "## PROBLEM 3"
   ]
  },
  {
   "cell_type": "code",
   "execution_count": 1,
   "metadata": {},
   "outputs": [],
   "source": [
    "from zipfile import ZipFile\n",
    "import os\n",
    "#from psychopy import visual, core, event"
   ]
  },
  {
   "cell_type": "code",
   "execution_count": 2,
   "metadata": {},
   "outputs": [
    {
     "data": {
      "text/plain": [
       "'/mnt/saturn/jupyterhub_data/erangan1/Psych_027_HW'"
      ]
     },
     "execution_count": 2,
     "metadata": {},
     "output_type": "execute_result"
    }
   ],
   "source": [
    "pwd"
   ]
  },
  {
   "cell_type": "code",
   "execution_count": null,
   "metadata": {},
   "outputs": [],
   "source": [
    "cd '/Users/eishnar/Documents/Fall 2019/Week 11'"
   ]
  },
  {
   "cell_type": "code",
   "execution_count": 10,
   "metadata": {},
   "outputs": [
    {
     "name": "stdout",
     "output_type": "stream",
     "text": [
      "File Name                                             Modified             Size\n",
      "GC_photos/                                     2019-12-08 16:27:58            0\n",
      "GC_photos/panera.jpeg                          2019-07-14 19:12:04        30871\n",
      "__MACOSX/                                      2019-12-08 16:29:30            0\n",
      "__MACOSX/GC_photos/                            2019-12-08 16:29:30            0\n",
      "__MACOSX/GC_photos/._panera.jpeg               2019-07-14 19:12:04          700\n",
      "GC_photos/.DS_Store                            2019-12-08 16:28:02         6148\n",
      "__MACOSX/GC_photos/._.DS_Store                 2019-12-08 16:28:02          120\n",
      "GC_photos/dominos.png                          2019-07-14 19:06:00        93098\n",
      "__MACOSX/GC_photos/._dominos.png               2019-07-14 19:06:00          665\n",
      "GC_photos/stabucks_internet.png                2019-07-14 18:26:20       793079\n",
      "__MACOSX/GC_photos/._stabucks_internet.png     2019-07-14 18:26:20          745\n",
      "GC_photos/target.jpg                           2019-07-12 13:38:04        50137\n",
      "__MACOSX/GC_photos/._target.jpg                2019-07-12 13:38:04          683\n",
      "GC_photos/pizzA_hut.png                        2019-07-14 18:37:58       101549\n",
      "__MACOSX/GC_photos/._pizzA_hut.png             2019-07-14 18:37:58          510\n",
      "GC_photos/papa_johns.jpg                       2019-07-12 13:23:00        25009\n",
      "__MACOSX/GC_photos/._papa_johns.jpg            2019-07-12 13:23:00          484\n",
      "GC_photos/amazon_nocom.jpg                     2019-07-14 19:10:10         9261\n",
      "__MACOSX/GC_photos/._amazon_nocom.jpg          2019-07-14 19:10:10          690\n",
      "GC_photos/tcb.png                              2019-07-12 13:22:08        29251\n",
      "__MACOSX/GC_photos/._tcb.png                   2019-07-12 13:22:08          579\n",
      "GC_photos/walmart.jpeg                         2019-07-14 18:20:10        30732\n",
      "__MACOSX/GC_photos/._walmart.jpeg              2019-07-14 18:20:10          630\n",
      "GC_photos/dd.png                               2019-07-14 18:39:46       668573\n",
      "__MACOSX/GC_photos/._dd.png                    2019-07-14 18:39:46          745\n",
      "GC_photos/chipotle.png                         2019-07-12 13:34:10       115194\n",
      "__MACOSX/GC_photos/._chipotle.png              2019-07-12 13:34:10          656\n",
      "GC_photos/mcd_better.jpg                       2019-07-14 22:32:50         8306\n",
      "__MACOSX/GC_photos/._mcd_better.jpg            2019-07-14 22:32:50          610\n",
      "__MACOSX/._GC_photos                           2019-12-08 16:27:58          221\n",
      "Extracting all the files now...\n",
      "Done!\n"
     ]
    }
   ],
   "source": [
    "with ZipFile(\"GC_photos.zip\", 'r') as zip:\n",
    "    zip.printdir() \n",
    "  \n",
    "    print('Extracting all the files now...') \n",
    "    zip.extractall() \n",
    "    print('Done!') \n"
   ]
  },
  {
   "cell_type": "code",
   "execution_count": null,
   "metadata": {},
   "outputs": [],
   "source": [
    "#os.listdir(\"images.zip\")"
   ]
  },
  {
   "cell_type": "code",
   "execution_count": 4,
   "metadata": {},
   "outputs": [],
   "source": [
    "y = zip.namelist()"
   ]
  },
  {
   "cell_type": "code",
   "execution_count": 5,
   "metadata": {},
   "outputs": [],
   "source": [
    "y = y[1:]"
   ]
  },
  {
   "cell_type": "code",
   "execution_count": 6,
   "metadata": {},
   "outputs": [
    {
     "data": {
      "text/plain": [
       "['images/Steve_Carell.jpg',\n",
       " 'images/Anne_Hathaway.jpg',\n",
       " 'images/Amy_Poehler.jpg',\n",
       " 'images/Jay_Z.jpg']"
      ]
     },
     "execution_count": 6,
     "metadata": {},
     "output_type": "execute_result"
    }
   ],
   "source": [
    "y"
   ]
  },
  {
   "cell_type": "code",
   "execution_count": null,
   "metadata": {},
   "outputs": [],
   "source": [
    "for item in y:\n",
    "    print(item)\n",
    "\n",
    "type(item)"
   ]
  },
  {
   "cell_type": "code",
   "execution_count": null,
   "metadata": {},
   "outputs": [],
   "source": [
    "def images(pres_lenth=1.0):\n",
    "    \n",
    "    win = visual.Window([500,500],pos=[200,200])\n",
    "    #win2 = visual.Window([500,500],pos=[0,0], color=(0, 150, 0))\n",
    "    \n",
    "    for item in y:\n",
    "        print(item)\n",
    "        stimulus = visual.ImageStim(win,image=item, size = [.75,.75])\n",
    "        stimulus.draw()\n",
    "\n",
    "        win.flip()\n",
    "        core.wait(pres_lenth)\n",
    "        \n",
    "        blank = visual.TextStim(win,text=\"+\",pos = [1,0])\n",
    "        blank.draw()\n",
    "        win.flip()\n",
    "        \n",
    "        #win2.flip()\n",
    "        core.wait(0.5)\n",
    "\n",
    "    win.close()\n",
    "    #win2.close()"
   ]
  },
  {
   "cell_type": "code",
   "execution_count": null,
   "metadata": {},
   "outputs": [],
   "source": [
    "images()"
   ]
  },
  {
   "cell_type": "markdown",
   "metadata": {},
   "source": []
  },
  {
   "cell_type": "code",
   "execution_count": null,
   "metadata": {},
   "outputs": [],
   "source": []
  }
 ],
 "metadata": {
  "kernelspec": {
   "display_name": "Python 3",
   "language": "python",
   "name": "python3"
  },
  "language_info": {
   "codemirror_mode": {
    "name": "ipython",
    "version": 3
   },
   "file_extension": ".py",
   "mimetype": "text/x-python",
   "name": "python",
   "nbconvert_exporter": "python",
   "pygments_lexer": "ipython3",
   "version": "3.6.9"
  }
 },
 "nbformat": 4,
 "nbformat_minor": 4
}
