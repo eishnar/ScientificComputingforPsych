{
 "cells": [
  {
   "cell_type": "markdown",
   "metadata": {},
   "source": [
    "# PSYC027: Scientific Computing for Psychology: Midterm Exam\n",
    "\n",
    "## 10 October 2019, 9:55-11:10am, McCabe 306"
   ]
  },
  {
   "cell_type": "markdown",
   "metadata": {},
   "source": [
    "## Memory performance in categorized free recall\n",
    "The file midterm_catfr_data.txt contains data from a **categorized** free recall experiment\n",
    "for many participants. In this experiment participants encode lists of words before being asked to recall them. \n",
    "\n",
    "\n",
    "However unlike in standard free recall where each list is made up of words with weak semantic relationships, in categorized free recall people study lists made up of words that are semantically related. You can see in midterm_catfr_data.txt that each row\n",
    "contains a category label for each word (e.g. 'Furniture').\n",
    "\n",
    "Each row is a series of **comma-separated** values that correspond to the following variables:\n",
    "* Subject\n",
    "* Experiment\n",
    "* Session\n",
    "* List\n",
    "* Serial Position\n",
    "* Word\n",
    "* Category\n",
    "* Recalled(=1) / Not Recalled(=0)\n",
    "\n",
    "### 1) Write code to read in midterm_catfr_data.txt and create three variables. (40 pts)\n",
    "\n",
    "* One containing a list of the **unique** category names\n",
    "* One containing a list of the **unique** subjects\n",
    "* One containing a list of the overall proportion recall within each category (i.e. split by category, not subject). "
   ]
  },
  {
   "cell_type": "code",
   "execution_count": 19,
   "metadata": {},
   "outputs": [],
   "source": [
    "text_file = open(\"midterm_catfr_data.txt\", \"r\") \n",
    "data_line = text_file.readlines()\n",
    "test_line = data_line[0].strip().split(\",\")"
   ]
  },
  {
   "cell_type": "code",
   "execution_count": 20,
   "metadata": {},
   "outputs": [
    {
     "data": {
      "text/plain": [
       "['R1004D', 'catFR1', '0', '1', '1', 'DESK', 'Furniture', '0']"
      ]
     },
     "execution_count": 20,
     "metadata": {},
     "output_type": "execute_result"
    }
   ],
   "source": [
    "test_line\n",
    "#line(test_line)"
   ]
  },
  {
   "cell_type": "code",
   "execution_count": 42,
   "metadata": {},
   "outputs": [
    {
     "data": {
      "text/plain": [
       "'Furniture'"
      ]
     },
     "execution_count": 42,
     "metadata": {},
     "output_type": "execute_result"
    }
   ],
   "source": [
    "test_line[6]"
   ]
  },
  {
   "cell_type": "code",
   "execution_count": 28,
   "metadata": {},
   "outputs": [],
   "source": [
    "cat_names = []\n",
    "subjects = []\n",
    "for line in data_line:\n",
    "    line = line.strip().split(\",\")\n",
    "    #print(line)\n",
    "    cat = line[6]\n",
    "    if cat not in cat_names:\n",
    "        cat_names.append(cat)\n",
    "    subj = line[0]\n",
    "    if subj not in subjects:\n",
    "        subjects.append(subj)"
   ]
  },
  {
   "cell_type": "code",
   "execution_count": 39,
   "metadata": {},
   "outputs": [],
   "source": [
    "dp = []\n",
    "for i in range(len(data_line)):\n",
    "    #print(full_data[i])\n",
    "    line = data_line[i]\n",
    "    #print(line)\n",
    "    line = line.strip().split(\",\")\n",
    "    #print(line)\n",
    "    dp.append(line)"
   ]
  },
  {
   "cell_type": "code",
   "execution_count": 1,
   "metadata": {},
   "outputs": [],
   "source": [
    "#dp"
   ]
  },
  {
   "cell_type": "code",
   "execution_count": 45,
   "metadata": {},
   "outputs": [],
   "source": [
    "from statistics import mean"
   ]
  },
  {
   "cell_type": "code",
   "execution_count": 99,
   "metadata": {},
   "outputs": [],
   "source": [
    "prec_by_cat = []\n",
    "\n",
    "for category in cat_names:\n",
    "    trial = []\n",
    "    for datapoint in dp:\n",
    "        #print(ses)\n",
    "        cat1 = category\n",
    "        cat2 = datapoint[6]\n",
    "        #print(cat2)\n",
    "        if cat1 == cat2:\n",
    "            rec_val = int(datapoint[7])\n",
    "            #print(rec_val)\n",
    "            trial.append(rec_val)\n",
    "            #print(trial)\n",
    "    p = mean(trial)\n",
    "    note = \"category is %s and average is\" %category\n",
    "    prec_by_cat.append(note)\n",
    "    prec_by_cat.append(p)\n",
    "    #print(p)"
   ]
  },
  {
   "cell_type": "code",
   "execution_count": 50,
   "metadata": {},
   "outputs": [],
   "source": [
    "#prec_by_cat"
   ]
  },
  {
   "cell_type": "code",
   "execution_count": 3,
   "metadata": {
    "collapsed": true,
    "jupyter": {
     "outputs_hidden": true
    }
   },
   "outputs": [],
   "source": [
    "# If you get stuck with #1, use these test arrays to move ahead and answer the remaining questions:\n",
    "test_cat_list = ['Mascots','Cities','Sports','Professions']\n",
    "test_subj_list = ['R1001P','R1002P','R1003P','R1004D','R1005W']\n",
    "test_cat_recall = [0.11, 0.45, 0.23,0.39]"
   ]
  },
  {
   "cell_type": "code",
   "execution_count": null,
   "metadata": {
    "collapsed": true,
    "jupyter": {
     "outputs_hidden": true
    }
   },
   "outputs": [],
   "source": [
    "#ANSWERS\n",
    "print(cat_names)\n",
    "print(subjects)\n",
    "print(prec_by_cat)"
   ]
  },
  {
   "cell_type": "markdown",
   "metadata": {},
   "source": [
    "After you have created your three arrays above, **write code** to answer the questions below and display the answers as output:\n",
    "\n",
    "### 2) How many unique categories and subjects are there in the dataset? (10 pts)"
   ]
  },
  {
   "cell_type": "code",
   "execution_count": 52,
   "metadata": {},
   "outputs": [
    {
     "data": {
      "text/plain": [
       "26"
      ]
     },
     "execution_count": 52,
     "metadata": {},
     "output_type": "execute_result"
    }
   ],
   "source": [
    "len(cat_names) #there are 26 unique categories and 186 unique subjects"
   ]
  },
  {
   "cell_type": "code",
   "execution_count": 59,
   "metadata": {},
   "outputs": [
    {
     "data": {
      "text/plain": [
       "1"
      ]
     },
     "execution_count": 59,
     "metadata": {},
     "output_type": "execute_result"
    }
   ],
   "source": [
    "u = [1,2,3]\n",
    "len(u)\n",
    "min(u)"
   ]
  },
  {
   "cell_type": "code",
   "execution_count": 51,
   "metadata": {},
   "outputs": [
    {
     "data": {
      "text/plain": [
       "186"
      ]
     },
     "execution_count": 51,
     "metadata": {},
     "output_type": "execute_result"
    }
   ],
   "source": [
    "len(subjects)"
   ]
  },
  {
   "cell_type": "markdown",
   "metadata": {},
   "source": [
    "### 3) What are the highest and lowest proportion recall values? Display these by printing formatted output: 'Max = X, Min = Y' (15 pts)"
   ]
  },
  {
   "cell_type": "code",
   "execution_count": 60,
   "metadata": {},
   "outputs": [],
   "source": [
    "prec_by_cat2 = []\n",
    "\n",
    "for category in cat_names:\n",
    "    trial = []\n",
    "    for datapoint in dp:\n",
    "        #print(ses)\n",
    "        cat1 = category\n",
    "        cat2 = datapoint[6]\n",
    "        #print(cat2)\n",
    "        if cat1 == cat2:\n",
    "            rec_val = int(datapoint[7])\n",
    "            #print(rec_val)\n",
    "            trial.append(rec_val)\n",
    "            #print(trial)\n",
    "    p = mean(trial)\n",
    "    #note = \"category is %s and average is\" %category\n",
    "    #prec_by_cat.append(note)\n",
    "    prec_by_cat2.append(p)\n",
    "    #print(p)"
   ]
  },
  {
   "cell_type": "code",
   "execution_count": 67,
   "metadata": {},
   "outputs": [
    {
     "name": "stdout",
     "output_type": "stream",
     "text": [
      "Max = 0.42457507082152973, Min = 0.22020123839009287\n"
     ]
    }
   ],
   "source": [
    "low = min(prec_by_cat2)\n",
    "high = max(prec_by_cat2)\n",
    "\n",
    "print(\"Max = %s, Min = %s\" %(high, low))"
   ]
  },
  {
   "cell_type": "code",
   "execution_count": 68,
   "metadata": {},
   "outputs": [
    {
     "data": {
      "text/plain": [
       "float"
      ]
     },
     "execution_count": 68,
     "metadata": {},
     "output_type": "execute_result"
    }
   ],
   "source": [
    "type(low)"
   ]
  },
  {
   "cell_type": "code",
   "execution_count": 54,
   "metadata": {},
   "outputs": [],
   "source": [
    "import statistics"
   ]
  },
  {
   "cell_type": "markdown",
   "metadata": {},
   "source": [
    "### 4) How many times is the word 'CAULIFLOWER' presented in the dataset? (10 pts)"
   ]
  },
  {
   "cell_type": "code",
   "execution_count": 70,
   "metadata": {},
   "outputs": [
    {
     "data": {
      "text/plain": [
       "'DESK'"
      ]
     },
     "execution_count": 70,
     "metadata": {},
     "output_type": "execute_result"
    }
   ],
   "source": [
    "test_line\n",
    "test_line[5]"
   ]
  },
  {
   "cell_type": "code",
   "execution_count": 79,
   "metadata": {},
   "outputs": [],
   "source": [
    "cali = 0\n",
    "word = \"CAULIFLOWER\"\n",
    "for datapoint in dp:\n",
    "    check = datapoint[5]\n",
    "    if word == check:\n",
    "        cali += 1"
   ]
  },
  {
   "cell_type": "code",
   "execution_count": 80,
   "metadata": {},
   "outputs": [
    {
     "name": "stdout",
     "output_type": "stream",
     "text": [
      "The word CAULIFLOWER is printed 240 times\n"
     ]
    }
   ],
   "source": [
    "cali\n",
    "print(\"The word CAULIFLOWER is printed %d times\" %(cali))"
   ]
  },
  {
   "cell_type": "markdown",
   "metadata": {},
   "source": [
    "### 5) Calculate the average proportion recall across ALL subjects (i.e. by just averaging the individual trial-level data) (5 pts).\n",
    "\n",
    "### 2 Bonus points if you use a 1D Numpy array to represent the recalls, instead of a standard Python list.\n",
    "\n",
    "### 2 more bonus points if you use a built-in Numpy function to compute overall proportion recall."
   ]
  },
  {
   "cell_type": "code",
   "execution_count": 88,
   "metadata": {},
   "outputs": [],
   "source": [
    "import numpy as np"
   ]
  },
  {
   "cell_type": "code",
   "execution_count": 2,
   "metadata": {},
   "outputs": [],
   "source": [
    "#dp"
   ]
  },
  {
   "cell_type": "code",
   "execution_count": 105,
   "metadata": {},
   "outputs": [
    {
     "data": {
      "text/plain": [
       "72322"
      ]
     },
     "execution_count": 105,
     "metadata": {},
     "output_type": "execute_result"
    }
   ],
   "source": [
    "len(dp)"
   ]
  },
  {
   "cell_type": "code",
   "execution_count": 109,
   "metadata": {},
   "outputs": [],
   "source": [
    "subjects_average = []\n",
    "arr = np.ones(len(dp))"
   ]
  },
  {
   "cell_type": "code",
   "execution_count": 111,
   "metadata": {},
   "outputs": [
    {
     "data": {
      "text/plain": [
       "0.3216033848621443"
      ]
     },
     "execution_count": 111,
     "metadata": {},
     "output_type": "execute_result"
    }
   ],
   "source": [
    "for datapoint in dp:\n",
    "    #print(datapoint[7])\n",
    "    rv = int(datapoint[7])\n",
    "    subjects_average.append(rv)\n",
    "\n",
    "mean(subjects_average)              "
   ]
  },
  {
   "cell_type": "code",
   "execution_count": 112,
   "metadata": {},
   "outputs": [],
   "source": [
    "for i in range(len(dp)):\n",
    "    datapoint = dp[i]         \n",
    "    rv = int(datapoint[7])\n",
    "    arr[i] = rv"
   ]
  },
  {
   "cell_type": "code",
   "execution_count": 116,
   "metadata": {},
   "outputs": [
    {
     "data": {
      "text/plain": [
       "0.3216033848621443"
      ]
     },
     "execution_count": 116,
     "metadata": {},
     "output_type": "execute_result"
    }
   ],
   "source": [
    "arr.mean() #used the built in input"
   ]
  },
  {
   "cell_type": "markdown",
   "metadata": {},
   "source": [
    "### 6) Write some code to take a category name as input from the user and print a message containing the recall proportion for that category. Be sure your code can handle cases where the user enters a category that was not part of the experiment (i.e. print a message notifying the user of this). (20 pts)\n"
   ]
  },
  {
   "cell_type": "code",
   "execution_count": 90,
   "metadata": {},
   "outputs": [],
   "source": [
    "#cat_names"
   ]
  },
  {
   "cell_type": "code",
   "execution_count": 92,
   "metadata": {},
   "outputs": [
    {
     "name": "stdout",
     "output_type": "stream",
     "text": [
      "please enter a category. your options are ['Furniture', 'Vegetables', 'Birds', 'Zoo', 'Vehicles', 'KitchenTools', 'Clothing', 'Building', 'Insects', 'FarmAnimals', 'Fruit', 'OfficeSupplies', 'Appliances', 'Desserts', 'Trees', 'Landscapes', 'BodyParts', 'Beverages', 'Flowers', 'Tools', 'Weather', 'Toys', 'Electronics', 'OceanAnimals', 'Instruments', 'Fabric']flower\n",
      "please enter a category.flowers\n"
     ]
    }
   ],
   "source": [
    "name = input(\"please enter a category. your options are %s\" %(cat_names))\n",
    "name = name.title()\n",
    "\n",
    "while name not in cat_names:\n",
    "    print(\"you have entered a category that doesn't exist or spelled something wrong. try again.\")\n",
    "    name = input(\"please enter a category: \")\n",
    "    name = name.title()"
   ]
  },
  {
   "cell_type": "code",
   "execution_count": 104,
   "metadata": {},
   "outputs": [
    {
     "name": "stdout",
     "output_type": "stream",
     "text": [
      "the average recall rate of your category, flowers, is 0.33577405857740583\n"
     ]
    }
   ],
   "source": [
    "user_average = []\n",
    "\n",
    "for datapoint in dp:\n",
    "    cat2 = datapoint[6]\n",
    "    if name == cat2:\n",
    "        rec_val = int(datapoint[7])\n",
    "        user_average.append(rec_val)\n",
    "        \n",
    "p = mean(user_average)\n",
    "print(\"the average recall rate of your category, %s, is %s\" %(name.lower(), p))"
   ]
  },
  {
   "cell_type": "code",
   "execution_count": 98,
   "metadata": {
    "scrolled": true
   },
   "outputs": [
    {
     "data": {
      "text/plain": [
       "['Furniture',\n",
       " 0.29419795221843004,\n",
       " 'Vegetables',\n",
       " 0.32991803278688525,\n",
       " 'Birds',\n",
       " 0.2877673796791444,\n",
       " 'Zoo',\n",
       " 0.42457507082152973,\n",
       " 'Vehicles',\n",
       " 0.32872340425531915,\n",
       " 'KitchenTools',\n",
       " 0.31356509884117245,\n",
       " 'Clothing',\n",
       " 0.34065934065934067,\n",
       " 'Building',\n",
       " 0.3409090909090909,\n",
       " 'Insects',\n",
       " 0.3562585969738652,\n",
       " 'FarmAnimals',\n",
       " 0.30656424581005587,\n",
       " 'Fruit',\n",
       " 0.3574895977808599,\n",
       " 'OfficeSupplies',\n",
       " 0.2635228848821082,\n",
       " 'Appliances',\n",
       " 0.2863700564971751,\n",
       " 'Desserts',\n",
       " 0.3010489510489511,\n",
       " 'Trees',\n",
       " 0.3103207810320781,\n",
       " 'Landscapes',\n",
       " 0.3189058171745152,\n",
       " 'BodyParts',\n",
       " 0.37327348066298344,\n",
       " 'Beverages',\n",
       " 0.34881284916201116,\n",
       " 'Flowers',\n",
       " 0.33577405857740583,\n",
       " 'Tools',\n",
       " 0.29863013698630136,\n",
       " 'Weather',\n",
       " 0.3539438502673797,\n",
       " 'Toys',\n",
       " 0.29210711768851305,\n",
       " 'Electronics',\n",
       " 0.22020123839009287,\n",
       " 'OceanAnimals',\n",
       " 0.3576388888888889,\n",
       " 'Instruments',\n",
       " 0.2926409903713893,\n",
       " 'Fabric',\n",
       " 0.29705882352941176]"
      ]
     },
     "execution_count": 98,
     "metadata": {},
     "output_type": "execute_result"
    }
   ],
   "source": [
    "\"\"\"if name in prec_by_cat3:\n",
    "    #getindex of where and then print the index+1\"\"\""
   ]
  },
  {
   "cell_type": "code",
   "execution_count": 122,
   "metadata": {},
   "outputs": [
    {
     "data": {
      "text/plain": [
       "['Furniture',\n",
       " 0.29419795221843004,\n",
       " 'Vegetables',\n",
       " 0.32991803278688525,\n",
       " 'Birds',\n",
       " 0.2877673796791444,\n",
       " 'Zoo',\n",
       " 0.42457507082152973,\n",
       " 'Vehicles',\n",
       " 0.32872340425531915,\n",
       " 'KitchenTools',\n",
       " 0.31356509884117245,\n",
       " 'Clothing',\n",
       " 0.34065934065934067,\n",
       " 'Building',\n",
       " 0.3409090909090909,\n",
       " 'Insects',\n",
       " 0.3562585969738652,\n",
       " 'FarmAnimals',\n",
       " 0.30656424581005587,\n",
       " 'Fruit',\n",
       " 0.3574895977808599,\n",
       " 'OfficeSupplies',\n",
       " 0.2635228848821082,\n",
       " 'Appliances',\n",
       " 0.2863700564971751,\n",
       " 'Desserts',\n",
       " 0.3010489510489511,\n",
       " 'Trees',\n",
       " 0.3103207810320781,\n",
       " 'Landscapes',\n",
       " 0.3189058171745152,\n",
       " 'BodyParts',\n",
       " 0.37327348066298344,\n",
       " 'Beverages',\n",
       " 0.34881284916201116,\n",
       " 'Flowers',\n",
       " 0.33577405857740583,\n",
       " 'Tools',\n",
       " 0.29863013698630136,\n",
       " 'Weather',\n",
       " 0.3539438502673797,\n",
       " 'Toys',\n",
       " 0.29210711768851305,\n",
       " 'Electronics',\n",
       " 0.22020123839009287,\n",
       " 'OceanAnimals',\n",
       " 0.3576388888888889,\n",
       " 'Instruments',\n",
       " 0.2926409903713893,\n",
       " 'Fabric',\n",
       " 0.29705882352941176]"
      ]
     },
     "execution_count": 122,
     "metadata": {},
     "output_type": "execute_result"
    }
   ],
   "source": [
    "prec_by_cat3 #wrote some code so i could have just the category and string value"
   ]
  },
  {
   "cell_type": "markdown",
   "metadata": {},
   "source": [
    "### (Bonus Problem 1) Write code to take a decimal value as input from the user. Then, use this decimal value as a threshold to create a list of the categories for which proportion recall was higher than the threshold. Test out your code using the threshold 0.3. (10 pts)"
   ]
  },
  {
   "cell_type": "code",
   "execution_count": 132,
   "metadata": {},
   "outputs": [
    {
     "name": "stdout",
     "output_type": "stream",
     "text": [
      "1\n",
      "Vegetables\n",
      "3\n",
      "Zoo\n",
      "4\n",
      "Vehicles\n",
      "5\n",
      "KitchenTools\n",
      "6\n",
      "Clothing\n",
      "7\n",
      "Building\n",
      "8\n",
      "Insects\n",
      "9\n",
      "FarmAnimals\n",
      "10\n",
      "Fruit\n",
      "13\n",
      "Desserts\n",
      "14\n",
      "Trees\n",
      "15\n",
      "Landscapes\n",
      "16\n",
      "BodyParts\n",
      "17\n",
      "Beverages\n",
      "18\n",
      "Flowers\n",
      "20\n",
      "Weather\n",
      "23\n",
      "OceanAnimals\n"
     ]
    }
   ],
   "source": [
    "user_num = float(input(\"choose a decimal value up to two decimal places: \"))\n",
    "user_num = 0.3 #for now only\n",
    "\n",
    "for j in range(len(prec_by_cat2)): \n",
    "    average = prec_by_cat2[j]\n",
    "    if average > user_num:\n",
    "        print(j) #the index of the average in word\n",
    "        print(prec_by_cat3[(j*2)])\n",
    "\n",
    "\n",
    "    #would get index of where in prec by cat2 or 3 and then print "
   ]
  },
  {
   "cell_type": "markdown",
   "metadata": {},
   "source": [
    "### (Bonus Problem 2) Write PsychPy code to present the unique set of words from this experiment, one at a time (in any order), using a gray background and with the words centered in the window like we did in class. Set the timing so that each word is presented on the screen for 0.25 seconds. Below the word, include text to display instructions that remind the participant what each key means (j = old; k = new) (10 pts)"
   ]
  },
  {
   "cell_type": "code",
   "execution_count": null,
   "metadata": {},
   "outputs": [],
   "source": []
  }
 ],
 "metadata": {
  "kernelspec": {
   "display_name": "Python 3",
   "language": "python",
   "name": "python3"
  },
  "language_info": {
   "codemirror_mode": {
    "name": "ipython",
    "version": 3
   },
   "file_extension": ".py",
   "mimetype": "text/x-python",
   "name": "python",
   "nbconvert_exporter": "python",
   "pygments_lexer": "ipython3",
   "version": "3.6.8"
  }
 },
 "nbformat": 4,
 "nbformat_minor": 4
}
